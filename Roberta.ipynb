{
  "nbformat": 4,
  "nbformat_minor": 0,
  "metadata": {
    "colab": {
      "name": "Roberta.ipynb",
      "provenance": [],
      "mount_file_id": "1kB0JCWpeUvwRu9NBueyjBQLP962TX3Hr",
      "authorship_tag": "ABX9TyP427ozuVDqTqwgVhqODcq0",
      "include_colab_link": true
    },
    "kernelspec": {
      "name": "python3",
      "display_name": "Python 3"
    },
    "accelerator": "TPU"
  },
  "cells": [
    {
      "cell_type": "markdown",
      "metadata": {
        "id": "view-in-github",
        "colab_type": "text"
      },
      "source": [
        "<a href=\"https://colab.research.google.com/github/dizzySummer/NLP-TensorFlow2.0/blob/master/Roberta.ipynb\" target=\"_parent\"><img src=\"https://colab.research.google.com/assets/colab-badge.svg\" alt=\"Open In Colab\"/></a>"
      ]
    },
    {
      "cell_type": "markdown",
      "metadata": {
        "id": "cIo76z931l5U",
        "colab_type": "text"
      },
      "source": [
        ""
      ]
    },
    {
      "cell_type": "markdown",
      "metadata": {
        "id": "uYtVqmr40gah",
        "colab_type": "text"
      },
      "source": [
        "This is a test to combine a custom tokenization method (own corpus) with the Roberta model.  The corpus was chosen from twitter text.   No text preprocessing needed. TPU is required."
      ]
    },
    {
      "cell_type": "code",
      "metadata": {
        "id": "prrFtCX81W1O",
        "colab_type": "code",
        "colab": {
          "base_uri": "https://localhost:8080/",
          "height": 34
        },
        "outputId": "42c5eaaf-e6ae-4962-ddba-b300ffa1a75b"
      },
      "source": [
        "!import libraries and data"
      ],
      "execution_count": 1,
      "outputs": [
        {
          "output_type": "stream",
          "text": [
            "/bin/bash: import: command not found\n"
          ],
          "name": "stdout"
        }
      ]
    },
    {
      "cell_type": "code",
      "metadata": {
        "id": "qPFr880Hn4Vh",
        "colab_type": "code",
        "colab": {}
      },
      "source": [
        "#!pip install transformers"
      ],
      "execution_count": 0,
      "outputs": []
    },
    {
      "cell_type": "code",
      "metadata": {
        "id": "3PvZv7hZoNON",
        "colab_type": "code",
        "colab": {
          "base_uri": "https://localhost:8080/",
          "height": 34
        },
        "outputId": "e96cd7a9-d4de-47b1-8697-149ff085038e"
      },
      "source": [
        "%tensorflow_version 2.x"
      ],
      "execution_count": 3,
      "outputs": [
        {
          "output_type": "stream",
          "text": [
            "TensorFlow 2.x selected.\n"
          ],
          "name": "stdout"
        }
      ]
    },
    {
      "cell_type": "code",
      "metadata": {
        "id": "oJ42oDHunf_j",
        "colab_type": "code",
        "colab": {
          "base_uri": "https://localhost:8080/",
          "height": 51
        },
        "outputId": "f7b8793a-acf1-4995-f488-65e1ba834711"
      },
      "source": [
        "import numpy as np \n",
        "import pandas as pd \n",
        "from tensorflow.keras.layers import Dense, Input\n",
        "from tensorflow.keras.optimizers import Adam\n",
        "from tensorflow.keras.models import Model\n",
        "from tensorflow.keras.callbacks import ModelCheckpoint\n",
        "import tensorflow_hub as hub\n",
        "\n",
        "import os\n",
        "import time\n",
        "import sys\n",
        "\n",
        "import re\n",
        "import nltk \n",
        "nltk.download('punkt')\n",
        "from nltk.corpus import stopwords\n",
        "import tensorflow as tf\n",
        "tf.keras.backend.clear_session()\n",
        "\n",
        "import torch\n",
        "import transformers\n",
        "from sklearn.model_selection import StratifiedKFold\n",
        "from transformers import *\n",
        "from transformers import RobertaConfig, TFRobertaPreTrainedModel\n",
        "from transformers.modeling_tf_roberta import TFRobertaMainLayer\n",
        "from transformers.modeling_tf_utils import get_initializer\n",
        "\n",
        "import itertools\n",
        "import collections\n",
        "from collections import Counter\n",
        "import seaborn as sns\n",
        "import matplotlib.pyplot as plt"
      ],
      "execution_count": 4,
      "outputs": [
        {
          "output_type": "stream",
          "text": [
            "[nltk_data] Downloading package punkt to /root/nltk_data...\n",
            "[nltk_data]   Package punkt is already up-to-date!\n"
          ],
          "name": "stdout"
        }
      ]
    },
    {
      "cell_type": "code",
      "metadata": {
        "id": "F95TI_D6pTu9",
        "colab_type": "code",
        "colab": {
          "base_uri": "https://localhost:8080/",
          "height": 153
        },
        "outputId": "b39c0573-cb0a-4de3-dbf6-644974803d1e"
      },
      "source": [
        "#turn on TPU https://heartbeat.fritz.ai/step-by-step-use-of-google-colab-free-tpu-75f8629492b3\n",
        "resolver = tf.distribute.cluster_resolver.TPUClusterResolver()\n",
        "tf.config.experimental_connect_to_cluster(resolver)\n",
        "tf.tpu.experimental.initialize_tpu_system(resolver)"
      ],
      "execution_count": 5,
      "outputs": [
        {
          "output_type": "stream",
          "text": [
            "INFO:absl:Entering into master device scope: /job:worker/replica:0/task:0/device:CPU:0\n"
          ],
          "name": "stderr"
        },
        {
          "output_type": "stream",
          "text": [
            "INFO:tensorflow:Initializing the TPU system: 10.103.80.154:8470\n"
          ],
          "name": "stdout"
        },
        {
          "output_type": "stream",
          "text": [
            "INFO:tensorflow:Initializing the TPU system: 10.103.80.154:8470\n"
          ],
          "name": "stderr"
        },
        {
          "output_type": "stream",
          "text": [
            "INFO:tensorflow:Clearing out eager caches\n"
          ],
          "name": "stdout"
        },
        {
          "output_type": "stream",
          "text": [
            "INFO:tensorflow:Clearing out eager caches\n"
          ],
          "name": "stderr"
        },
        {
          "output_type": "stream",
          "text": [
            "INFO:tensorflow:Finished initializing TPU system.\n"
          ],
          "name": "stdout"
        },
        {
          "output_type": "stream",
          "text": [
            "INFO:tensorflow:Finished initializing TPU system.\n"
          ],
          "name": "stderr"
        },
        {
          "output_type": "execute_result",
          "data": {
            "text/plain": [
              "<tensorflow.python.tpu.topology.Topology at 0x7f27b811ec18>"
            ]
          },
          "metadata": {
            "tags": []
          },
          "execution_count": 5
        }
      ]
    },
    {
      "cell_type": "code",
      "metadata": {
        "id": "VNzl7RyPpZZN",
        "colab_type": "code",
        "colab": {}
      },
      "source": [
        "train = pd.read_csv(\"/content/drive/My Drive/train.csv\")\n",
        "test = pd.read_csv(\"/content/drive/My Drive/test.csv\")\n",
        "submission=pd.read_csv(\"/content/drive/My Drive/sample_submission.csv\")"
      ],
      "execution_count": 0,
      "outputs": []
    },
    {
      "cell_type": "code",
      "metadata": {
        "id": "eM7YseO3555z",
        "colab_type": "code",
        "colab": {
          "base_uri": "https://localhost:8080/",
          "height": 204
        },
        "outputId": "330a1559-769d-4603-c6de-fa5c3ca4a9bf"
      },
      "source": [
        "test.head()"
      ],
      "execution_count": 33,
      "outputs": [
        {
          "output_type": "execute_result",
          "data": {
            "text/html": [
              "<div>\n",
              "<style scoped>\n",
              "    .dataframe tbody tr th:only-of-type {\n",
              "        vertical-align: middle;\n",
              "    }\n",
              "\n",
              "    .dataframe tbody tr th {\n",
              "        vertical-align: top;\n",
              "    }\n",
              "\n",
              "    .dataframe thead th {\n",
              "        text-align: right;\n",
              "    }\n",
              "</style>\n",
              "<table border=\"1\" class=\"dataframe\">\n",
              "  <thead>\n",
              "    <tr style=\"text-align: right;\">\n",
              "      <th></th>\n",
              "      <th>id</th>\n",
              "      <th>keyword</th>\n",
              "      <th>location</th>\n",
              "      <th>text</th>\n",
              "    </tr>\n",
              "  </thead>\n",
              "  <tbody>\n",
              "    <tr>\n",
              "      <th>0</th>\n",
              "      <td>0</td>\n",
              "      <td>NaN</td>\n",
              "      <td>NaN</td>\n",
              "      <td>Just happened a terrible car crash</td>\n",
              "    </tr>\n",
              "    <tr>\n",
              "      <th>1</th>\n",
              "      <td>2</td>\n",
              "      <td>NaN</td>\n",
              "      <td>NaN</td>\n",
              "      <td>Heard about #earthquake is different cities, s...</td>\n",
              "    </tr>\n",
              "    <tr>\n",
              "      <th>2</th>\n",
              "      <td>3</td>\n",
              "      <td>NaN</td>\n",
              "      <td>NaN</td>\n",
              "      <td>there is a forest fire at spot pond, geese are...</td>\n",
              "    </tr>\n",
              "    <tr>\n",
              "      <th>3</th>\n",
              "      <td>9</td>\n",
              "      <td>NaN</td>\n",
              "      <td>NaN</td>\n",
              "      <td>Apocalypse lighting. #Spokane #wildfires</td>\n",
              "    </tr>\n",
              "    <tr>\n",
              "      <th>4</th>\n",
              "      <td>11</td>\n",
              "      <td>NaN</td>\n",
              "      <td>NaN</td>\n",
              "      <td>Typhoon Soudelor kills 28 in China and Taiwan</td>\n",
              "    </tr>\n",
              "  </tbody>\n",
              "</table>\n",
              "</div>"
            ],
            "text/plain": [
              "   id keyword location                                               text\n",
              "0   0     NaN      NaN                 Just happened a terrible car crash\n",
              "1   2     NaN      NaN  Heard about #earthquake is different cities, s...\n",
              "2   3     NaN      NaN  there is a forest fire at spot pond, geese are...\n",
              "3   9     NaN      NaN           Apocalypse lighting. #Spokane #wildfires\n",
              "4  11     NaN      NaN      Typhoon Soudelor kills 28 in China and Taiwan"
            ]
          },
          "metadata": {
            "tags": []
          },
          "execution_count": 33
        }
      ]
    },
    {
      "cell_type": "code",
      "metadata": {
        "id": "c7U8s7Tk58ca",
        "colab_type": "code",
        "colab": {
          "base_uri": "https://localhost:8080/",
          "height": 204
        },
        "outputId": "fce6f599-b394-448b-e8eb-d479a4156195"
      },
      "source": [
        "train.head()"
      ],
      "execution_count": 34,
      "outputs": [
        {
          "output_type": "execute_result",
          "data": {
            "text/html": [
              "<div>\n",
              "<style scoped>\n",
              "    .dataframe tbody tr th:only-of-type {\n",
              "        vertical-align: middle;\n",
              "    }\n",
              "\n",
              "    .dataframe tbody tr th {\n",
              "        vertical-align: top;\n",
              "    }\n",
              "\n",
              "    .dataframe thead th {\n",
              "        text-align: right;\n",
              "    }\n",
              "</style>\n",
              "<table border=\"1\" class=\"dataframe\">\n",
              "  <thead>\n",
              "    <tr style=\"text-align: right;\">\n",
              "      <th></th>\n",
              "      <th>id</th>\n",
              "      <th>keyword</th>\n",
              "      <th>location</th>\n",
              "      <th>text</th>\n",
              "      <th>target</th>\n",
              "      <th>Tokened_Text</th>\n",
              "    </tr>\n",
              "  </thead>\n",
              "  <tbody>\n",
              "    <tr>\n",
              "      <th>0</th>\n",
              "      <td>1</td>\n",
              "      <td>NaN</td>\n",
              "      <td>NaN</td>\n",
              "      <td>Our Deeds are the Reason of this #earthquake M...</td>\n",
              "      <td>1</td>\n",
              "      <td>[2, 690, 12134, 257, 143, 2635, 157, 251, 6, 1...</td>\n",
              "    </tr>\n",
              "    <tr>\n",
              "      <th>1</th>\n",
              "      <td>4</td>\n",
              "      <td>NaN</td>\n",
              "      <td>NaN</td>\n",
              "      <td>Forest fire near La Ronge Sask. Canada</td>\n",
              "      <td>1</td>\n",
              "      <td>[2, 987, 337, 672, 1312, 5587, 473, 361, 89, 9...</td>\n",
              "    </tr>\n",
              "    <tr>\n",
              "      <th>2</th>\n",
              "      <td>5</td>\n",
              "      <td>NaN</td>\n",
              "      <td>NaN</td>\n",
              "      <td>All residents asked to 'shelter in place' are ...</td>\n",
              "      <td>1</td>\n",
              "      <td>[2, 319, 4995, 4568, 153, 10, 5241, 149, 2204,...</td>\n",
              "    </tr>\n",
              "    <tr>\n",
              "      <th>3</th>\n",
              "      <td>6</td>\n",
              "      <td>NaN</td>\n",
              "      <td>NaN</td>\n",
              "      <td>13,000 people receive #wildfires evacuation or...</td>\n",
              "      <td>1</td>\n",
              "      <td>[2, 1360, 15, 7036, 438, 14629, 6, 4237, 1261,...</td>\n",
              "    </tr>\n",
              "    <tr>\n",
              "      <th>4</th>\n",
              "      <td>7</td>\n",
              "      <td>NaN</td>\n",
              "      <td>NaN</td>\n",
              "      <td>Just got sent this photo from Ruby #Alaska as ...</td>\n",
              "      <td>1</td>\n",
              "      <td>[2, 299, 636, 2596, 251, 1439, 272, 1479, 102,...</td>\n",
              "    </tr>\n",
              "  </tbody>\n",
              "</table>\n",
              "</div>"
            ],
            "text/plain": [
              "   id keyword  ... target                                       Tokened_Text\n",
              "0   1     NaN  ...      1  [2, 690, 12134, 257, 143, 2635, 157, 251, 6, 1...\n",
              "1   4     NaN  ...      1  [2, 987, 337, 672, 1312, 5587, 473, 361, 89, 9...\n",
              "2   5     NaN  ...      1  [2, 319, 4995, 4568, 153, 10, 5241, 149, 2204,...\n",
              "3   6     NaN  ...      1  [2, 1360, 15, 7036, 438, 14629, 6, 4237, 1261,...\n",
              "4   7     NaN  ...      1  [2, 299, 636, 2596, 251, 1439, 272, 1479, 102,...\n",
              "\n",
              "[5 rows x 6 columns]"
            ]
          },
          "metadata": {
            "tags": []
          },
          "execution_count": 34
        }
      ]
    },
    {
      "cell_type": "code",
      "metadata": {
        "id": "mwzeDCK8p633",
        "colab_type": "code",
        "colab": {
          "base_uri": "https://localhost:8080/",
          "height": 85
        },
        "outputId": "ba1f631e-c897-470d-fa3e-665769787ff1"
      },
      "source": [
        "# check class distribution in train dataset\n",
        "from scipy import stats\n",
        "train.groupby(['target']).size()"
      ],
      "execution_count": 7,
      "outputs": [
        {
          "output_type": "execute_result",
          "data": {
            "text/plain": [
              "target\n",
              "0    4342\n",
              "1    3271\n",
              "dtype: int64"
            ]
          },
          "metadata": {
            "tags": []
          },
          "execution_count": 7
        }
      ]
    },
    {
      "cell_type": "code",
      "metadata": {
        "id": "l8XxmgHx3ATZ",
        "colab_type": "code",
        "colab": {}
      },
      "source": [
        "#Build corpus"
      ],
      "execution_count": 0,
      "outputs": []
    },
    {
      "cell_type": "code",
      "metadata": {
        "id": "pWGouAYrqATI",
        "colab_type": "code",
        "colab": {}
      },
      "source": [
        "all_texts = []\n",
        "for line in list(train['text']):\n",
        "    texts = line.split()\n",
        "    for text in texts:\n",
        "        all_texts.append(text)"
      ],
      "execution_count": 0,
      "outputs": []
    },
    {
      "cell_type": "code",
      "metadata": {
        "id": "tBoDcDjVqDxk",
        "colab_type": "code",
        "colab": {}
      },
      "source": [
        "toBeCleanedNew='[%s]' % ' '.join(map(str, all_texts))#remove all the quation marks and commas. \n",
        "#print(toBeCleanedNew)"
      ],
      "execution_count": 0,
      "outputs": []
    },
    {
      "cell_type": "code",
      "metadata": {
        "id": "ap1i831MqJDG",
        "colab_type": "code",
        "colab": {}
      },
      "source": [
        "rawCorpus='[%s]' % ' '.join(map(str, all_texts))#remove all the quation marks and commas. \n",
        "#print(rawCorpus)\n",
        "with open(\"/content/drive/My Drive/rawCorpus.txt\", \"w\") as output:\n",
        "    output.write(str(rawCorpus))"
      ],
      "execution_count": 0,
      "outputs": []
    },
    {
      "cell_type": "code",
      "metadata": {
        "id": "dQgcIs0n3DkB",
        "colab_type": "code",
        "colab": {}
      },
      "source": [
        "#install transformer tokenizers to train corpus"
      ],
      "execution_count": 0,
      "outputs": []
    },
    {
      "cell_type": "markdown",
      "metadata": {
        "id": "ri7S69475QsD",
        "colab_type": "text"
      },
      "source": [
        "Here are the pre-process requirement for the 5 model types recommended by  huggingface. \n",
        "\n",
        "BERT: [CLS] + tokens + [SEP] + padding\n",
        "\n",
        "DistilBERT: [CLS] + tokens + [SEP] + padding\n",
        "\n",
        "RoBERTa: [CLS] + prefix_space + tokens + [SEP] + padding\n",
        "\n",
        "XLM: [CLS] + tokens + [SEP] + padding\n",
        "\n",
        "XLNet: padding + tokens + [SEP] + [CLS]"
      ]
    },
    {
      "cell_type": "code",
      "metadata": {
        "id": "873DykUaqQZA",
        "colab_type": "code",
        "colab": {
          "base_uri": "https://localhost:8080/",
          "height": 34
        },
        "outputId": "46990ece-4d08-4521-cb51-be0d3e7b9554"
      },
      "source": [
        "!pip install tokenizers==0.4.2"
      ],
      "execution_count": 13,
      "outputs": [
        {
          "output_type": "stream",
          "text": [
            "Requirement already satisfied: tokenizers==0.4.2 in /usr/local/lib/python3.6/dist-packages (0.4.2)\n"
          ],
          "name": "stdout"
        }
      ]
    },
    {
      "cell_type": "code",
      "metadata": {
        "id": "QY2OiS5EuvUS",
        "colab_type": "code",
        "colab": {}
      },
      "source": [
        "#!pip install tokenizers #hugging face tokenizer\n",
        "#Huggingface recommends to use ByteLevel tokenizer for Roberta model. But the result was bad. Take BertWordPiece now\n",
        "from tokenizers import (ByteLevelBPETokenizer,\n",
        "                            CharBPETokenizer,\n",
        "                            SentencePieceBPETokenizer,\n",
        "                            BertWordPieceTokenizer)\n",
        "tokenizer = BertWordPieceTokenizer()\n",
        "\n",
        "path=\"/content/drive/My Drive/rawCorpus.txt\"\n",
        "#set vocab_size to 15000 as the len(train_set)was something like 12500 \n",
        "tokenizer.train(files=path, vocab_size=15_000, min_frequency=2)\n",
        "#tokenizer.train(files=path, vocab_size=15_000, min_frequency=2,special_tokens=[\n",
        "   # \"<s>\",\n",
        "    #\"<pad>\",\n",
        "    #\"</s>\",\n",
        "    #\"<unk>\",\n",
        "    #\"<mask>\"\n",
        "#])"
      ],
      "execution_count": 0,
      "outputs": []
    },
    {
      "cell_type": "code",
      "metadata": {
        "id": "F_cpxcBsvD73",
        "colab_type": "code",
        "colab": {
          "base_uri": "https://localhost:8080/",
          "height": 34
        },
        "outputId": "372710f9-6fee-4033-9e1a-3edcaa36dfd4"
      },
      "source": [
        "tokenizer.save(\".\",\"/content/drive/My Drive/newBert\")"
      ],
      "execution_count": 15,
      "outputs": [
        {
          "output_type": "execute_result",
          "data": {
            "text/plain": [
              "['/content/drive/My Drive/newBert-vocab.txt']"
            ]
          },
          "metadata": {
            "tags": []
          },
          "execution_count": 15
        }
      ]
    },
    {
      "cell_type": "code",
      "metadata": {
        "id": "gVYKQZPvqmix",
        "colab_type": "code",
        "colab": {}
      },
      "source": [
        "tokenizer = BertWordPieceTokenizer(\n",
        "    '/content/drive/My Drive/newBert-vocab.txt',\n",
        "     lowercase=True, \n",
        "\n",
        ")"
      ],
      "execution_count": 0,
      "outputs": []
    },
    {
      "cell_type": "code",
      "metadata": {
        "id": "bC_3lqc4wRZE",
        "colab_type": "code",
        "colab": {
          "base_uri": "https://localhost:8080/",
          "height": 51
        },
        "outputId": "6948be03-8877-4e0e-ca7e-170cf6f28e85"
      },
      "source": [
        "output = tokenizer.encode(\"Hello, y'all! 🙂 How are you  ?\")\n",
        "print(output.tokens)\n",
        "print(output.ids)"
      ],
      "execution_count": 17,
      "outputs": [
        {
          "output_type": "stream",
          "text": [
            "['[CLS]', 'hello', ',', 'y', \"'\", 'all', '!', '[UNK]', 'how', 'are', 'you', '?', '[SEP]']\n",
            "[2, 3996, 15, 65, 10, 319, 5, 1, 439, 257, 172, 33, 3]\n"
          ],
          "name": "stdout"
        }
      ]
    },
    {
      "cell_type": "code",
      "metadata": {
        "id": "srLPPOjb3LPU",
        "colab_type": "code",
        "colab": {}
      },
      "source": [
        "#apply tokens to all texts"
      ],
      "execution_count": 0,
      "outputs": []
    },
    {
      "cell_type": "code",
      "metadata": {
        "id": "gh2P9mTaqwog",
        "colab_type": "code",
        "colab": {}
      },
      "source": [
        "def bert_token(texts,max_len=512): \n",
        "    all_input_ids=[]\n",
        "    all_mask_ids=[]\n",
        "    all_seg_ids=[]\n",
        "    for token in texts: \n",
        "    \n",
        "        input_ids=tokenizer.encode(token).ids\n",
        "        mask_ids = [1] * len(input_ids)\n",
        "        seg_ids = [0] * len(input_ids)\n",
        "        padding = [0] * (max_len - len(input_ids))\n",
        "        input_ids += padding\n",
        "        mask_ids += padding\n",
        "        seg_ids += padding\n",
        "        all_input_ids.append(input_ids)\n",
        "        all_mask_ids.append(mask_ids)\n",
        "        all_seg_ids.append(seg_ids)\n",
        "\n",
        "    \n",
        "    return np.array(all_input_ids), np.array(all_mask_ids), np.array(all_seg_ids)\n"
      ],
      "execution_count": 0,
      "outputs": []
    },
    {
      "cell_type": "code",
      "metadata": {
        "id": "n30FQPu6q1ca",
        "colab_type": "code",
        "colab": {}
      },
      "source": [
        "train_input=bert_token(train['text'],max_len=100)\n",
        "test_input=bert_token(test['text'],max_len=100)"
      ],
      "execution_count": 0,
      "outputs": []
    },
    {
      "cell_type": "code",
      "metadata": {
        "id": "P-3CiuGOvg1d",
        "colab_type": "code",
        "colab": {
          "base_uri": "https://localhost:8080/",
          "height": 340
        },
        "outputId": "641b6a20-231e-46b8-a715-640c5319ad66"
      },
      "source": [
        "print(train_input)"
      ],
      "execution_count": 21,
      "outputs": [
        {
          "output_type": "stream",
          "text": [
            "(array([[    2,   690, 12134, ...,     0,     0,     0],\n",
            "       [    2,   987,   337, ...,     0,     0,     0],\n",
            "       [    2,   319,  4995, ...,     0,     0,     0],\n",
            "       ...,\n",
            "       [    2,  5086,    17, ...,     0,     0,     0],\n",
            "       [    2,   537,  3264, ...,     0,     0,     0],\n",
            "       [    2,   143,  1043, ...,     0,     0,     0]]), array([[1, 1, 1, ..., 0, 0, 0],\n",
            "       [1, 1, 1, ..., 0, 0, 0],\n",
            "       [1, 1, 1, ..., 0, 0, 0],\n",
            "       ...,\n",
            "       [1, 1, 1, ..., 0, 0, 0],\n",
            "       [1, 1, 1, ..., 0, 0, 0],\n",
            "       [1, 1, 1, ..., 0, 0, 0]]), array([[0, 0, 0, ..., 0, 0, 0],\n",
            "       [0, 0, 0, ..., 0, 0, 0],\n",
            "       [0, 0, 0, ..., 0, 0, 0],\n",
            "       ...,\n",
            "       [0, 0, 0, ..., 0, 0, 0],\n",
            "       [0, 0, 0, ..., 0, 0, 0],\n",
            "       [0, 0, 0, ..., 0, 0, 0]]))\n"
          ],
          "name": "stdout"
        }
      ]
    },
    {
      "cell_type": "code",
      "metadata": {
        "id": "0FLcGbHb3RyO",
        "colab_type": "code",
        "colab": {}
      },
      "source": [
        "#take a quick look of the trainset"
      ],
      "execution_count": 0,
      "outputs": []
    },
    {
      "cell_type": "code",
      "metadata": {
        "id": "sTcn4sxNyQl0",
        "colab_type": "code",
        "colab": {
          "base_uri": "https://localhost:8080/",
          "height": 51
        },
        "outputId": "6ffa6fa9-ab34-4412-b878-5860e36d0a2d"
      },
      "source": [
        "train[\"Tokened_Text\"]=train[\"text\"].apply(lambda x:tokenizer.encode(x).ids)\n",
        "from collections import Counter\n",
        "train_tokened=[]\n",
        "for i in train[\"Tokened_Text\"]:\n",
        "    train_tokened+=i\n",
        "print(\"Total amount of tokens in train dataset is:\", len(train_tokened))\n",
        "distinct_list= (Counter(train_tokened).keys())\n",
        "print(\"The vocabulary size in subtrain dataset is :\",len(distinct_list))"
      ],
      "execution_count": 23,
      "outputs": [
        {
          "output_type": "stream",
          "text": [
            "Total amount of tokens in train dataset is: 232945\n",
            "The vocabulary size in subtrain dataset is : 13393\n"
          ],
          "name": "stdout"
        }
      ]
    },
    {
      "cell_type": "code",
      "metadata": {
        "id": "q4FH6Bgsq5PO",
        "colab_type": "code",
        "colab": {
          "base_uri": "https://localhost:8080/",
          "height": 265
        },
        "outputId": "0aa23a0f-3bf2-442a-bf75-93a44caa02e2"
      },
      "source": [
        "#sequence length of the train dataset\n",
        "train_length_dist=[]\n",
        "\n",
        "for l in train[\"Tokened_Text\"]:\n",
        "    train_length_dist+=[len(l)]\n",
        "y = np.array(train_length_dist)\n",
        "sns.distplot(y);"
      ],
      "execution_count": 24,
      "outputs": [
        {
          "output_type": "display_data",
          "data": {
            "image/png": "[encoded data removed]",
            "text/plain": [
              "<Figure size 432x288 with 1 Axes>"
            ]
          },
          "metadata": {
            "tags": []
          }
        }
      ]
    },
    {
      "cell_type": "code",
      "metadata": {
        "id": "0uxLKPrtrAYl",
        "colab_type": "code",
        "colab": {}
      },
      "source": [
        "#Model need two types of data: input_ids (sequence), attention_masks)\n",
        "input_ids_train = train_input[0]\n",
        "attention_masks_train = train_input[1]\n",
        "input_ids_test =test_input[0]\n",
        "attention_masks_test = test_input[1]"
      ],
      "execution_count": 0,
      "outputs": []
    },
    {
      "cell_type": "code",
      "metadata": {
        "id": "n51MDoltrHdJ",
        "colab_type": "code",
        "colab": {
          "base_uri": "https://localhost:8080/",
          "height": 136
        },
        "outputId": "db102a82-5c6d-4153-cd31-7f92ae5d48e5"
      },
      "source": [
        "print(input_ids_train)"
      ],
      "execution_count": 26,
      "outputs": [
        {
          "output_type": "stream",
          "text": [
            "[[    2   690 12134 ...     0     0     0]\n",
            " [    2   987   337 ...     0     0     0]\n",
            " [    2   319  4995 ...     0     0     0]\n",
            " ...\n",
            " [    2  5086    17 ...     0     0     0]\n",
            " [    2   537  3264 ...     0     0     0]\n",
            " [    2   143  1043 ...     0     0     0]]\n"
          ],
          "name": "stdout"
        }
      ]
    },
    {
      "cell_type": "code",
      "metadata": {
        "id": "WwaV_yE13tcq",
        "colab_type": "code",
        "colab": {}
      },
      "source": [
        "#Build a cover on top of hugging face pretrained model. Here is another example https://towardsdatascience.com/fastai-with-transformers-bert-roberta-xlnet-xlm-distilbert-4f41ee18ecb2"
      ],
      "execution_count": 0,
      "outputs": []
    },
    {
      "cell_type": "code",
      "metadata": {
        "id": "W4Snmo8Us0St",
        "colab_type": "code",
        "colab": {}
      },
      "source": [
        "class CustomModel(TFRobertaPreTrainedModel):\n",
        "    def __init__(self, config, *inputs, **kwargs):\n",
        "        super(CustomModel, self).__init__(config, *inputs, **kwargs)\n",
        "        self.num_labels = config.num_labels\n",
        "        self.roberta = TFRobertaMainLayer(config, name=\"roberta\")\n",
        "        self.dropout_1 = tf.keras.layers.Dropout(0.3)\n",
        "        self.classifier = tf.keras.layers.Dense(units=config.num_labels,\n",
        "                                                name='classifier', \n",
        "                                                kernel_initializer=get_initializer(\n",
        "                                                    config.initializer_range))\n",
        "\n",
        "    def call(self, inputs, **kwargs):\n",
        "        outputs = self.roberta(inputs, **kwargs)\n",
        "        pooled_output = outputs[1]\n",
        "        pooled_output = self.dropout_1(pooled_output, training=kwargs.get('training', False))\n",
        "        logits = self.classifier(pooled_output)\n",
        "        outputs = (logits,) + outputs[2:]  # add hidden states and attention if they are here\n",
        "\n",
        "        return outputs"
      ],
      "execution_count": 0,
      "outputs": []
    },
    {
      "cell_type": "code",
      "metadata": {
        "id": "j9B6BP9It3V-",
        "colab_type": "code",
        "colab": {
          "base_uri": "https://localhost:8080/",
          "height": 833
        },
        "outputId": "6d1d4128-3e91-4f7e-dc92-a6c8a2621470"
      },
      "source": [
        "# instantiate a distribution strategy\n",
        "tpu_strategy = tf.distribute.experimental.TPUStrategy(resolver)\n",
        "\n",
        "\n",
        "# instantiating the model in the strategy scope creates the model on the TPU\n",
        "with tpu_strategy.scope():\n",
        "        \n",
        "    config = RobertaConfig.from_pretrained('roberta-base')\n",
        "    model = CustomModel.from_pretrained('roberta-base')\n",
        "    optimizer = tf.keras.optimizers.Adam(learning_rate=2e-5, epsilon=1e-08, clipnorm=1.0)\n",
        "    loss = tf.keras.losses.CategoricalCrossentropy(from_logits=True)\n",
        "    metric = tf.keras.metrics.BinaryAccuracy('accuracy')\n",
        "    model.compile(optimizer=optimizer, loss=loss, metrics=[metric])\n",
        "model.summary()\n"
      ],
      "execution_count": 29,
      "outputs": [
        {
          "output_type": "stream",
          "text": [
            "INFO:tensorflow:Found TPU system:\n"
          ],
          "name": "stdout"
        },
        {
          "output_type": "stream",
          "text": [
            "INFO:tensorflow:Found TPU system:\n"
          ],
          "name": "stderr"
        },
        {
          "output_type": "stream",
          "text": [
            "INFO:tensorflow:*** Num TPU Cores: 8\n"
          ],
          "name": "stdout"
        },
        {
          "output_type": "stream",
          "text": [
            "INFO:tensorflow:*** Num TPU Cores: 8\n"
          ],
          "name": "stderr"
        },
        {
          "output_type": "stream",
          "text": [
            "INFO:tensorflow:*** Num TPU Workers: 1\n"
          ],
          "name": "stdout"
        },
        {
          "output_type": "stream",
          "text": [
            "INFO:tensorflow:*** Num TPU Workers: 1\n"
          ],
          "name": "stderr"
        },
        {
          "output_type": "stream",
          "text": [
            "INFO:tensorflow:*** Num TPU Cores Per Worker: 8\n"
          ],
          "name": "stdout"
        },
        {
          "output_type": "stream",
          "text": [
            "INFO:tensorflow:*** Num TPU Cores Per Worker: 8\n"
          ],
          "name": "stderr"
        },
        {
          "output_type": "stream",
          "text": [
            "INFO:tensorflow:*** Available Device: _DeviceAttributes(/job:localhost/replica:0/task:0/device:CPU:0, CPU, 0, 0)\n"
          ],
          "name": "stdout"
        },
        {
          "output_type": "stream",
          "text": [
            "INFO:tensorflow:*** Available Device: _DeviceAttributes(/job:localhost/replica:0/task:0/device:CPU:0, CPU, 0, 0)\n"
          ],
          "name": "stderr"
        },
        {
          "output_type": "stream",
          "text": [
            "INFO:tensorflow:*** Available Device: _DeviceAttributes(/job:localhost/replica:0/task:0/device:XLA_CPU:0, XLA_CPU, 0, 0)\n"
          ],
          "name": "stdout"
        },
        {
          "output_type": "stream",
          "text": [
            "INFO:tensorflow:*** Available Device: _DeviceAttributes(/job:localhost/replica:0/task:0/device:XLA_CPU:0, XLA_CPU, 0, 0)\n"
          ],
          "name": "stderr"
        },
        {
          "output_type": "stream",
          "text": [
            "INFO:tensorflow:*** Available Device: _DeviceAttributes(/job:worker/replica:0/task:0/device:CPU:0, CPU, 0, 0)\n"
          ],
          "name": "stdout"
        },
        {
          "output_type": "stream",
          "text": [
            "INFO:tensorflow:*** Available Device: _DeviceAttributes(/job:worker/replica:0/task:0/device:CPU:0, CPU, 0, 0)\n"
          ],
          "name": "stderr"
        },
        {
          "output_type": "stream",
          "text": [
            "INFO:tensorflow:*** Available Device: _DeviceAttributes(/job:worker/replica:0/task:0/device:TPU:0, TPU, 0, 0)\n"
          ],
          "name": "stdout"
        },
        {
          "output_type": "stream",
          "text": [
            "INFO:tensorflow:*** Available Device: _DeviceAttributes(/job:worker/replica:0/task:0/device:TPU:0, TPU, 0, 0)\n"
          ],
          "name": "stderr"
        },
        {
          "output_type": "stream",
          "text": [
            "INFO:tensorflow:*** Available Device: _DeviceAttributes(/job:worker/replica:0/task:0/device:TPU:1, TPU, 0, 0)\n"
          ],
          "name": "stdout"
        },
        {
          "output_type": "stream",
          "text": [
            "INFO:tensorflow:*** Available Device: _DeviceAttributes(/job:worker/replica:0/task:0/device:TPU:1, TPU, 0, 0)\n"
          ],
          "name": "stderr"
        },
        {
          "output_type": "stream",
          "text": [
            "INFO:tensorflow:*** Available Device: _DeviceAttributes(/job:worker/replica:0/task:0/device:TPU:2, TPU, 0, 0)\n"
          ],
          "name": "stdout"
        },
        {
          "output_type": "stream",
          "text": [
            "INFO:tensorflow:*** Available Device: _DeviceAttributes(/job:worker/replica:0/task:0/device:TPU:2, TPU, 0, 0)\n"
          ],
          "name": "stderr"
        },
        {
          "output_type": "stream",
          "text": [
            "INFO:tensorflow:*** Available Device: _DeviceAttributes(/job:worker/replica:0/task:0/device:TPU:3, TPU, 0, 0)\n"
          ],
          "name": "stdout"
        },
        {
          "output_type": "stream",
          "text": [
            "INFO:tensorflow:*** Available Device: _DeviceAttributes(/job:worker/replica:0/task:0/device:TPU:3, TPU, 0, 0)\n"
          ],
          "name": "stderr"
        },
        {
          "output_type": "stream",
          "text": [
            "INFO:tensorflow:*** Available Device: _DeviceAttributes(/job:worker/replica:0/task:0/device:TPU:4, TPU, 0, 0)\n"
          ],
          "name": "stdout"
        },
        {
          "output_type": "stream",
          "text": [
            "INFO:tensorflow:*** Available Device: _DeviceAttributes(/job:worker/replica:0/task:0/device:TPU:4, TPU, 0, 0)\n"
          ],
          "name": "stderr"
        },
        {
          "output_type": "stream",
          "text": [
            "INFO:tensorflow:*** Available Device: _DeviceAttributes(/job:worker/replica:0/task:0/device:TPU:5, TPU, 0, 0)\n"
          ],
          "name": "stdout"
        },
        {
          "output_type": "stream",
          "text": [
            "INFO:tensorflow:*** Available Device: _DeviceAttributes(/job:worker/replica:0/task:0/device:TPU:5, TPU, 0, 0)\n"
          ],
          "name": "stderr"
        },
        {
          "output_type": "stream",
          "text": [
            "INFO:tensorflow:*** Available Device: _DeviceAttributes(/job:worker/replica:0/task:0/device:TPU:6, TPU, 0, 0)\n"
          ],
          "name": "stdout"
        },
        {
          "output_type": "stream",
          "text": [
            "INFO:tensorflow:*** Available Device: _DeviceAttributes(/job:worker/replica:0/task:0/device:TPU:6, TPU, 0, 0)\n"
          ],
          "name": "stderr"
        },
        {
          "output_type": "stream",
          "text": [
            "INFO:tensorflow:*** Available Device: _DeviceAttributes(/job:worker/replica:0/task:0/device:TPU:7, TPU, 0, 0)\n"
          ],
          "name": "stdout"
        },
        {
          "output_type": "stream",
          "text": [
            "INFO:tensorflow:*** Available Device: _DeviceAttributes(/job:worker/replica:0/task:0/device:TPU:7, TPU, 0, 0)\n"
          ],
          "name": "stderr"
        },
        {
          "output_type": "stream",
          "text": [
            "INFO:tensorflow:*** Available Device: _DeviceAttributes(/job:worker/replica:0/task:0/device:TPU_SYSTEM:0, TPU_SYSTEM, 0, 0)\n"
          ],
          "name": "stdout"
        },
        {
          "output_type": "stream",
          "text": [
            "INFO:tensorflow:*** Available Device: _DeviceAttributes(/job:worker/replica:0/task:0/device:TPU_SYSTEM:0, TPU_SYSTEM, 0, 0)\n"
          ],
          "name": "stderr"
        },
        {
          "output_type": "stream",
          "text": [
            "INFO:tensorflow:*** Available Device: _DeviceAttributes(/job:worker/replica:0/task:0/device:XLA_CPU:0, XLA_CPU, 0, 0)\n"
          ],
          "name": "stdout"
        },
        {
          "output_type": "stream",
          "text": [
            "INFO:tensorflow:*** Available Device: _DeviceAttributes(/job:worker/replica:0/task:0/device:XLA_CPU:0, XLA_CPU, 0, 0)\n"
          ],
          "name": "stderr"
        },
        {
          "output_type": "stream",
          "text": [
            "Model: \"custom_model\"\n",
            "_________________________________________________________________\n",
            "Layer (type)                 Output Shape              Param #   \n",
            "=================================================================\n",
            "roberta (TFRobertaMainLayer) multiple                  124645632 \n",
            "_________________________________________________________________\n",
            "dropout_38 (Dropout)         multiple                  0         \n",
            "_________________________________________________________________\n",
            "classifier (Dense)           multiple                  1538      \n",
            "=================================================================\n",
            "Total params: 124,647,170\n",
            "Trainable params: 124,647,170\n",
            "Non-trainable params: 0\n",
            "_________________________________________________________________\n"
          ],
          "name": "stdout"
        }
      ]
    },
    {
      "cell_type": "code",
      "metadata": {
        "id": "yukSWJbpt7Xj",
        "colab_type": "code",
        "colab": {
          "base_uri": "https://localhost:8080/",
          "height": 1000
        },
        "outputId": "757a1e36-7222-4ddb-f10f-ffc5343c821f"
      },
      "source": [
        "batch_size = 128\n",
        "skf = StratifiedKFold(n_splits=5, shuffle=False)\n",
        "X, y = input_ids_train, train['target'].values.reshape(-1, 1)\n",
        "skf.get_n_splits(X, y)\n",
        "for i, (train_index, test_index) in enumerate(skf.split(X, y)):\n",
        "    X_train, attention_masks_train_stratified, X_test, attention_masks_test_stratified = X[train_index], attention_masks_train[train_index], X[test_index], attention_masks_train[test_index]\n",
        "    y_train, y_test = tf.keras.utils.to_categorical(y[train_index]), tf.keras.utils.to_categorical(y[test_index])\n",
        "    X_train = X_train[:-divmod(X_train.shape[0], batch_size)[1]]\n",
        "    attention_masks_train_stratified = attention_masks_train_stratified[:-divmod(attention_masks_train_stratified.shape[0], batch_size)[1]]\n",
        "    y_train = y_train[:-divmod(y_train.shape[0], batch_size)[1]]\n",
        "    model.fit([X_train, attention_masks_train_stratified], y_train, validation_data=([X_test, attention_masks_test_stratified], y_test), batch_size=batch_size, epochs=5)\n",
        "    print('Split ' + str(i) + ' is finished.')"
      ],
      "execution_count": 30,
      "outputs": [
        {
          "output_type": "stream",
          "text": [
            "Train on 6016 samples, validate on 1523 samples\n",
            "Epoch 1/5\n",
            "6016/6016 [==============================] - 86s 14ms/sample - loss: 0.6580 - accuracy: 0.5230 - val_loss: 0.6750 - val_accuracy: 0.5794\n",
            "Epoch 2/5\n",
            "6016/6016 [==============================] - 8s 1ms/sample - loss: 0.6200 - accuracy: 0.5673 - val_loss: 0.6261 - val_accuracy: 0.5814\n",
            "Epoch 3/5\n",
            "6016/6016 [==============================] - 7s 1ms/sample - loss: 0.5641 - accuracy: 0.6198 - val_loss: 0.6184 - val_accuracy: 0.5532\n",
            "Epoch 4/5\n",
            "6016/6016 [==============================] - 8s 1ms/sample - loss: 0.4893 - accuracy: 0.6820 - val_loss: 0.6386 - val_accuracy: 0.6504\n",
            "Epoch 5/5\n",
            "6016/6016 [==============================] - 8s 1ms/sample - loss: 0.4124 - accuracy: 0.7657 - val_loss: 0.7497 - val_accuracy: 0.6737\n",
            "Split 0 is finished.\n",
            "Train on 6016 samples, validate on 1523 samples\n",
            "Epoch 1/5\n",
            "6016/6016 [==============================] - 29s 5ms/sample - loss: 0.4380 - accuracy: 0.7565 - val_loss: 0.2383 - val_accuracy: 0.8835\n",
            "Epoch 2/5\n",
            "6016/6016 [==============================] - 8s 1ms/sample - loss: 0.3469 - accuracy: 0.8206 - val_loss: 0.2481 - val_accuracy: 0.8838\n",
            "Epoch 3/5\n",
            "6016/6016 [==============================] - 8s 1ms/sample - loss: 0.2800 - accuracy: 0.8605 - val_loss: 0.2493 - val_accuracy: 0.8851\n",
            "Epoch 4/5\n",
            "6016/6016 [==============================] - 8s 1ms/sample - loss: 0.2388 - accuracy: 0.8868 - val_loss: 0.3383 - val_accuracy: 0.8404\n",
            "Epoch 5/5\n",
            "6016/6016 [==============================] - 8s 1ms/sample - loss: 0.1886 - accuracy: 0.9148 - val_loss: 0.4156 - val_accuracy: 0.8276\n",
            "Split 1 is finished.\n",
            "Train on 6016 samples, validate on 1523 samples\n",
            "Epoch 1/5\n",
            "6016/6016 [==============================] - 28s 5ms/sample - loss: 0.2305 - accuracy: 0.8934 - val_loss: 0.0650 - val_accuracy: 0.9770\n",
            "Epoch 2/5\n",
            "6016/6016 [==============================] - 8s 1ms/sample - loss: 0.1605 - accuracy: 0.9288 - val_loss: 0.0804 - val_accuracy: 0.9698\n",
            "Epoch 3/5\n",
            "6016/6016 [==============================] - 8s 1ms/sample - loss: 0.1519 - accuracy: 0.9323 - val_loss: 0.0901 - val_accuracy: 0.9583\n",
            "Epoch 4/5\n",
            "6016/6016 [==============================] - 8s 1ms/sample - loss: 0.1025 - accuracy: 0.9533 - val_loss: 0.0770 - val_accuracy: 0.9724\n",
            "Epoch 5/5\n",
            "6016/6016 [==============================] - 8s 1ms/sample - loss: 0.1074 - accuracy: 0.9541 - val_loss: 0.1081 - val_accuracy: 0.9596\n",
            "Split 2 is finished.\n",
            "Train on 6016 samples, validate on 1522 samples\n",
            "Epoch 1/5\n",
            "6016/6016 [==============================] - 28s 5ms/sample - loss: 0.1052 - accuracy: 0.9556 - val_loss: 0.0174 - val_accuracy: 0.9921\n",
            "Epoch 2/5\n",
            "6016/6016 [==============================] - 8s 1ms/sample - loss: 0.0814 - accuracy: 0.9669 - val_loss: 0.0183 - val_accuracy: 0.9915\n",
            "Epoch 3/5\n",
            "6016/6016 [==============================] - 8s 1ms/sample - loss: 0.0615 - accuracy: 0.9734 - val_loss: 0.0254 - val_accuracy: 0.9938\n",
            "Epoch 4/5\n",
            "6016/6016 [==============================] - 8s 1ms/sample - loss: 0.0719 - accuracy: 0.9706 - val_loss: 0.0262 - val_accuracy: 0.9918\n",
            "Epoch 5/5\n",
            "6016/6016 [==============================] - 8s 1ms/sample - loss: 0.0634 - accuracy: 0.9754 - val_loss: 0.0331 - val_accuracy: 0.9885\n",
            "Split 3 is finished.\n",
            "Train on 6016 samples, validate on 1522 samples\n",
            "Epoch 1/5\n",
            "6016/6016 [==============================] - 28s 5ms/sample - loss: 0.0663 - accuracy: 0.9710 - val_loss: 0.0359 - val_accuracy: 0.9921\n",
            "Epoch 2/5\n",
            "6016/6016 [==============================] - 8s 1ms/sample - loss: 0.0788 - accuracy: 0.9666 - val_loss: 0.0261 - val_accuracy: 0.9931\n",
            "Epoch 3/5\n",
            "6016/6016 [==============================] - 8s 1ms/sample - loss: 0.0487 - accuracy: 0.9806 - val_loss: 0.0456 - val_accuracy: 0.9882\n",
            "Epoch 4/5\n",
            "6016/6016 [==============================] - 8s 1ms/sample - loss: 0.0387 - accuracy: 0.9824 - val_loss: 0.0386 - val_accuracy: 0.9905\n",
            "Epoch 5/5\n",
            "6016/6016 [==============================] - 8s 1ms/sample - loss: 0.0417 - accuracy: 0.9839 - val_loss: 0.0453 - val_accuracy: 0.9878\n",
            "Split 4 is finished.\n"
          ],
          "name": "stdout"
        }
      ]
    },
    {
      "cell_type": "code",
      "metadata": {
        "id": "2ziF0LkP4ONw",
        "colab_type": "code",
        "colab": {
          "base_uri": "https://localhost:8080/",
          "height": 68
        },
        "outputId": "7d106f22-0825-499c-c4b5-5b8401eb8df0"
      },
      "source": [
        "#predict\n",
        "\n",
        "model_output = model.predict([input_ids_test, attention_masks_test])\n",
        "submission['target'] = np.argmax(model_output, axis=1).flatten()\n",
        "submission['target'].value_counts()"
      ],
      "execution_count": 31,
      "outputs": [
        {
          "output_type": "execute_result",
          "data": {
            "text/plain": [
              "0    1779\n",
              "1    1484\n",
              "Name: target, dtype: int64"
            ]
          },
          "metadata": {
            "tags": []
          },
          "execution_count": 31
        }
      ]
    },
    {
      "cell_type": "code",
      "metadata": {
        "id": "XCtK9Ipv4g2q",
        "colab_type": "code",
        "colab": {
          "base_uri": "https://localhost:8080/",
          "height": 204
        },
        "outputId": "058f557d-c978-4a9b-ec60-19f483e1368b"
      },
      "source": [
        "submission.head()"
      ],
      "execution_count": 32,
      "outputs": [
        {
          "output_type": "execute_result",
          "data": {
            "text/html": [
              "<div>\n",
              "<style scoped>\n",
              "    .dataframe tbody tr th:only-of-type {\n",
              "        vertical-align: middle;\n",
              "    }\n",
              "\n",
              "    .dataframe tbody tr th {\n",
              "        vertical-align: top;\n",
              "    }\n",
              "\n",
              "    .dataframe thead th {\n",
              "        text-align: right;\n",
              "    }\n",
              "</style>\n",
              "<table border=\"1\" class=\"dataframe\">\n",
              "  <thead>\n",
              "    <tr style=\"text-align: right;\">\n",
              "      <th></th>\n",
              "      <th>id</th>\n",
              "      <th>target</th>\n",
              "    </tr>\n",
              "  </thead>\n",
              "  <tbody>\n",
              "    <tr>\n",
              "      <th>0</th>\n",
              "      <td>0</td>\n",
              "      <td>1</td>\n",
              "    </tr>\n",
              "    <tr>\n",
              "      <th>1</th>\n",
              "      <td>2</td>\n",
              "      <td>1</td>\n",
              "    </tr>\n",
              "    <tr>\n",
              "      <th>2</th>\n",
              "      <td>3</td>\n",
              "      <td>1</td>\n",
              "    </tr>\n",
              "    <tr>\n",
              "      <th>3</th>\n",
              "      <td>9</td>\n",
              "      <td>1</td>\n",
              "    </tr>\n",
              "    <tr>\n",
              "      <th>4</th>\n",
              "      <td>11</td>\n",
              "      <td>1</td>\n",
              "    </tr>\n",
              "  </tbody>\n",
              "</table>\n",
              "</div>"
            ],
            "text/plain": [
              "   id  target\n",
              "0   0       1\n",
              "1   2       1\n",
              "2   3       1\n",
              "3   9       1\n",
              "4  11       1"
            ]
          },
          "metadata": {
            "tags": []
          },
          "execution_count": 32
        }
      ]
    }
  ]
}