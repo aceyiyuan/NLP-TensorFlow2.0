{
 "cells": [
  {
   "cell_type": "code",
   "execution_count": 1,
   "metadata": {},
   "outputs": [],
   "source": [
    "import tensorflow as tf\n",
    "from tensorflow import keras"
   ]
  },
  {
   "cell_type": "code",
   "execution_count": 10,
   "metadata": {},
   "outputs": [
    {
     "name": "stdout",
     "output_type": "stream",
     "text": [
      "\n",
      "Word Index=  {'<OOV>': 1, 'my': 2, 'love': 3, 'dog': 4, 'i': 5, 'you': 6, 'cat': 7, 'do': 8, 'think': 9, 'is': 10, 'amazing': 11}\n",
      "\n",
      "Sequences=  [[5, 3, 2, 4], [5, 3, 2, 7], [6, 3, 2, 4], [8, 6, 9, 2, 4, 10, 11]]\n",
      "\n",
      "Padded Sequences=: \n",
      "[[ 0  5  3  2  4]\n",
      " [ 0  5  3  2  7]\n",
      " [ 0  6  3  2  4]\n",
      " [ 9  2  4 10 11]]\n",
      "\n",
      "Test Sequences =  [[5, 1, 3, 2, 4], [2, 4, 1, 2, 1]]\n",
      "\n",
      "Padded Test Sequences=: \n",
      "[[0 0 0 0 0 5 1 3 2 4]\n",
      " [0 0 0 0 0 2 4 1 2 1]]\n"
     ]
    }
   ],
   "source": [
    "from tensorflow.keras.preprocessing.text import Tokenizer\n",
    "from tensorflow.keras.preprocessing.sequence import pad_sequences\n",
    "\n",
    "sentences =[\n",
    "    'i love my dog',\n",
    "    'I, love my cat',\n",
    "    'You love my dog',\n",
    "    'Do you think my dog is amazing?'\n",
    "]\n",
    "\n",
    "tokenizer=Tokenizer(num_words=100, oov_token=\"<OOV>\")#create a new token (OOV), a special token that aren't recognized, that aren't in the word index itself.\n",
    "tokenizer.fit_on_texts(sentences)\n",
    "word_index=tokenizer.word_index #OOV is now value one,\n",
    "\n",
    "sequences=tokenizer.texts_to_sequences(sentences)\n",
    "\n",
    "padded=pad_sequences(sequences, maxlen=5)#make it a maximum length of five words. So this maximum length of five words means that these four-letter, or these four-words sentences end up being pre-padded with a zero.\n",
    "\n",
    "print(\"\\nWord Index= \", word_index)\n",
    "print(\"\\nSequences= \", sequences)\n",
    "print(\"\\nPadded Sequences=: \")\n",
    "print(padded)\n",
    "\n",
    "#try with words that Tokenizer wasn't fit to\n",
    "test_data=[\n",
    "    'i really love my dog',\n",
    "    'my dog loves my mantee'\n",
    "]\n",
    "\n",
    "test_seq=tokenizer.texts_to_sequences(test_data)\n",
    "print('\\nTest Sequences = ', test_seq)\n",
    "\n",
    "padded=pad_sequences(test_seq,maxlen=10)\n",
    "print('\\nPadded Test Sequences=: ')\n",
    "print(padded)"
   ]
  },
  {
   "cell_type": "code",
   "execution_count": 11,
   "metadata": {},
   "outputs": [
    {
     "name": "stdout",
     "output_type": "stream",
     "text": [
      "\n",
      "Test Sequences =  [[5, 1, 3, 2, 4], [2, 4, 1, 2, 1]]\n",
      "\n",
      "Padded Test Sequences=: \n",
      "[[2 4]\n",
      " [2 1]]\n"
     ]
    }
   ],
   "source": [
    "# the above set a max length of 10, but if set for example to two, they end up getting truncated.\n",
    "#try with words that Tokenizer wasn't fit to\n",
    "test_data=[\n",
    "    'i really love my dog',\n",
    "    'my dog loves my mantee'\n",
    "]\n",
    "\n",
    "test_seq=tokenizer.texts_to_sequences(test_data)\n",
    "print('\\nTest Sequences = ', test_seq)\n",
    "\n",
    "padded=pad_sequences(test_seq,maxlen=2)\n",
    "print('\\nPadded Test Sequences=: ')\n",
    "print(padded)"
   ]
  },
  {
   "cell_type": "code",
   "execution_count": null,
   "metadata": {},
   "outputs": [],
   "source": []
  }
 ],
 "metadata": {
  "kernelspec": {
   "display_name": "Python 3",
   "language": "python",
   "name": "python3"
  },
  "language_info": {
   "codemirror_mode": {
    "name": "ipython",
    "version": 3
   },
   "file_extension": ".py",
   "mimetype": "text/x-python",
   "name": "python",
   "nbconvert_exporter": "python",
   "pygments_lexer": "ipython3",
   "version": "3.6.2"
  },
  "toc": {
   "base_numbering": 1,
   "nav_menu": {},
   "number_sections": true,
   "sideBar": true,
   "skip_h1_title": false,
   "title_cell": "Table of Contents",
   "title_sidebar": "Contents",
   "toc_cell": false,
   "toc_position": {},
   "toc_section_display": true,
   "toc_window_display": false
  }
 },
 "nbformat": 4,
 "nbformat_minor": 2
}
