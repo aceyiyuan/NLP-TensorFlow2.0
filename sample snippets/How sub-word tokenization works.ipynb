{
 "cells": [
  {
   "cell_type": "code",
   "execution_count": 1,
   "metadata": {},
   "outputs": [
    {
     "name": "stdout",
     "output_type": "stream",
     "text": [
      "2.0.0-beta1\n"
     ]
    }
   ],
   "source": [
    "import tensorflow as tf\n",
    "print(tf.__version__)\n",
    "import tensorflow_datasets as tfds\n",
    "from tensorflow.keras.preprocessing.text import Tokenizer\n",
    "imdb, info=tfds.load(\"imdb_reviews/subwords8k\", with_info=True, as_supervised=True)\n",
    "tokenizer=info.features['text'].encoder"
   ]
  },
  {
   "cell_type": "code",
   "execution_count": 2,
   "metadata": {},
   "outputs": [],
   "source": [
    "sample_string='TensorFlow, flow basics to mastery'"
   ]
  },
  {
   "cell_type": "code",
   "execution_count": 3,
   "metadata": {},
   "outputs": [
    {
     "name": "stdout",
     "output_type": "stream",
     "text": [
      "Tokenized string is [6307, 2327, 4043, 2120, 2, 2934, 7961, 4249, 4429, 7, 2652, 8050]\n"
     ]
    }
   ],
   "source": [
    "tokenized_string=tokenizer.encode(sample_string)\n",
    "print('Tokenized string is {}'. format(tokenized_string))"
   ]
  },
  {
   "cell_type": "code",
   "execution_count": 4,
   "metadata": {},
   "outputs": [
    {
     "name": "stdout",
     "output_type": "stream",
     "text": [
      "The original string: TensorFlow, flow basics to mastery\n"
     ]
    }
   ],
   "source": [
    "original_string=tokenizer.decode(tokenized_string)\n",
    "print('The original string: {}'.format(original_string))"
   ]
  },
  {
   "cell_type": "code",
   "execution_count": 5,
   "metadata": {},
   "outputs": [
    {
     "name": "stdout",
     "output_type": "stream",
     "text": [
      "6307--->Ten\n",
      "2327--->sor\n",
      "4043--->Fl\n",
      "2120--->ow\n",
      "2--->, \n",
      "2934--->flow\n",
      "7961---> \n",
      "4249--->basi\n",
      "4429--->cs \n",
      "7--->to \n",
      "2652--->master\n",
      "8050--->y\n"
     ]
    }
   ],
   "source": [
    "for ts in tokenized_string:\n",
    "    print('{}--->{}'.format(ts,tokenizer.decode([ts])))\n",
    "    \n",
    "#Unlike the last exercise, this one is case sensitive and punctuation is maintained"
   ]
  },
  {
   "cell_type": "code",
   "execution_count": 6,
   "metadata": {},
   "outputs": [],
   "source": [
    "#tensor=6307+2327, flow=4043+2120, basics=4249+4429"
   ]
  },
  {
   "cell_type": "code",
   "execution_count": 7,
   "metadata": {},
   "outputs": [],
   "source": [
    "#Now classifying IMBD with it here is the model. The shape of the vectors coming from the tokenizer through the embedding, and it's not easily flatted, so we will use Global Average Pooling 1D instead?\n",
    "#Trying to flatten them, will cause a Tensorflow crash. "
   ]
  },
  {
   "cell_type": "code",
   "execution_count": 8,
   "metadata": {},
   "outputs": [
    {
     "name": "stdout",
     "output_type": "stream",
     "text": [
      "Model: \"sequential\"\n",
      "_________________________________________________________________\n",
      "Layer (type)                 Output Shape              Param #   \n",
      "=================================================================\n",
      "embedding (Embedding)        (None, None, 64)          523840    \n",
      "_________________________________________________________________\n",
      "global_average_pooling1d (Gl (None, 64)                0         \n",
      "_________________________________________________________________\n",
      "dense (Dense)                (None, 6)                 390       \n",
      "_________________________________________________________________\n",
      "dense_1 (Dense)              (None, 1)                 7         \n",
      "=================================================================\n",
      "Total params: 524,237\n",
      "Trainable params: 524,237\n",
      "Non-trainable params: 0\n",
      "_________________________________________________________________\n"
     ]
    }
   ],
   "source": [
    "train_data, test_data=imdb['train'],imdb['test']\n",
    "embedding_dim=64\n",
    "model=tf.keras.Sequential([\n",
    "    tf.keras.layers.Embedding(tokenizer.vocab_size,embedding_dim),\n",
    "    tf.keras.layers.GlobalAveragePooling1D(),\n",
    "    tf.keras.layers.Dense(6, activation='relu'),\n",
    "    tf.keras.layers.Dense(1, activation='sigmoid')\n",
    "])\n",
    "\n",
    "model.summary()"
   ]
  },
  {
   "cell_type": "code",
   "execution_count": 9,
   "metadata": {},
   "outputs": [
    {
     "name": "stdout",
     "output_type": "stream",
     "text": [
      "Epoch 1/10\n"
     ]
    },
    {
     "name": "stderr",
     "output_type": "stream",
     "text": [
      "WARNING: Logging before flag parsing goes to stderr.\n",
      "W0712 15:07:09.092736 140734781199808 deprecation.py:323] From /Library/Frameworks/Python.framework/Versions/3.6/lib/python3.6/site-packages/tensorflow/python/ops/math_grad.py:1250: add_dispatch_support.<locals>.wrapper (from tensorflow.python.ops.array_ops) is deprecated and will be removed in a future version.\n",
      "Instructions for updating:\n",
      "Use tf.where in 2.0, which has the same broadcast rule as np.where\n"
     ]
    },
    {
     "name": "stdout",
     "output_type": "stream",
     "text": [
      "25000/25000 [==============================] - 423s 17ms/step - loss: 0.6856 - accuracy: 0.5281 - val_loss: 0.0000e+00 - val_accuracy: 0.0000e+00\n",
      "Epoch 2/10\n",
      "25000/25000 [==============================] - 159s 6ms/step - loss: 0.6834 - accuracy: 0.5336 - val_loss: 0.6843 - val_accuracy: 0.5324\n",
      "Epoch 3/10\n",
      "25000/25000 [==============================] - 169s 7ms/step - loss: 0.6826 - accuracy: 0.5355 - val_loss: 0.6840 - val_accuracy: 0.5326\n",
      "Epoch 4/10\n",
      "25000/25000 [==============================] - 157s 6ms/step - loss: 0.6821 - accuracy: 0.5376 - val_loss: 0.6841 - val_accuracy: 0.5361\n",
      "Epoch 5/10\n",
      "25000/25000 [==============================] - 167s 7ms/step - loss: 0.6817 - accuracy: 0.5406 - val_loss: 0.6842 - val_accuracy: 0.5375\n",
      "Epoch 6/10\n",
      "25000/25000 [==============================] - 161s 6ms/step - loss: 0.6814 - accuracy: 0.5411 - val_loss: 0.6844 - val_accuracy: 0.5376\n",
      "Epoch 7/10\n",
      "25000/25000 [==============================] - 163s 7ms/step - loss: 0.6812 - accuracy: 0.5421 - val_loss: 0.6846 - val_accuracy: 0.5378\n",
      "Epoch 8/10\n",
      "25000/25000 [==============================] - 156s 6ms/step - loss: 0.6810 - accuracy: 0.5431 - val_loss: 0.6849 - val_accuracy: 0.5378\n",
      "Epoch 9/10\n",
      "25000/25000 [==============================] - 155s 6ms/step - loss: 0.6808 - accuracy: 0.5436 - val_loss: 0.6850 - val_accuracy: 0.5377\n",
      "Epoch 10/10\n",
      "25000/25000 [==============================] - 163s 7ms/step - loss: 0.6806 - accuracy: 0.5439 - val_loss: 0.6853 - val_accuracy: 0.5375\n"
     ]
    }
   ],
   "source": [
    "num_epochs=10\n",
    "\n",
    "model.compile(loss='binary_crossentropy',\n",
    "              optimizer='adam',\n",
    "              metrics=['accuracy'])\n",
    "\n",
    "history= model.fit(train_data,\n",
    "                   epochs=num_epochs,\n",
    "                   validation_data=test_data)"
   ]
  },
  {
   "cell_type": "code",
   "execution_count": 17,
   "metadata": {},
   "outputs": [
    {
     "data": {
      "image/png": "[encoded data removed]",
      "text/plain": [
       "<Figure size 432x288 with 1 Axes>"
      ]
     },
     "metadata": {
      "needs_background": "light"
     },
     "output_type": "display_data"
    },
    {
     "data": {
      "image/png": "[encoded data removed]",
      "text/plain": [
       "<Figure size 432x288 with 1 Axes>"
      ]
     },
     "metadata": {
      "needs_background": "light"
     },
     "output_type": "display_data"
    }
   ],
   "source": [
    "#The accuracy was barely about 50 percent. While losses decreasing, it's decreasing in a very small way. \n",
    "#The keys in the fact that we're using sub-words and not for-words?, sub-word meanings are often nonsensical \n",
    "#and it's only when we put them together in sequences that they have meaningful semantics. Thus, some way \n",
    "#from learning from sequences would be a great way forward.\n",
    "\n",
    "import matplotlib.pyplot as plt\n",
    "\n",
    "def plot_graphs(history, string):\n",
    "    plt.plot(history.history[string])\n",
    "    plt.plot(history.history['val_'+ string])\n",
    "    plt.xlabel(\"Epochs\")\n",
    "    plt.ylabel(string)\n",
    "    plt.legend([string,'val_'+ string])\n",
    "    plt.show()\n",
    "    \n",
    "plot_graphs(history, \"accuracy\")\n",
    "plot_graphs(history, \"loss\")"
   ]
  },
  {
   "cell_type": "code",
   "execution_count": null,
   "metadata": {},
   "outputs": [],
   "source": []
  }
 ],
 "metadata": {
  "kernelspec": {
   "display_name": "Python 3",
   "language": "python",
   "name": "python3"
  },
  "language_info": {
   "codemirror_mode": {
    "name": "ipython",
    "version": 3
   },
   "file_extension": ".py",
   "mimetype": "text/x-python",
   "name": "python",
   "nbconvert_exporter": "python",
   "pygments_lexer": "ipython3",
   "version": "3.6.2"
  },
  "toc": {
   "base_numbering": 1,
   "nav_menu": {},
   "number_sections": true,
   "sideBar": true,
   "skip_h1_title": false,
   "title_cell": "Table of Contents",
   "title_sidebar": "Contents",
   "toc_cell": false,
   "toc_position": {},
   "toc_section_display": true,
   "toc_window_display": false
  }
 },
 "nbformat": 4,
 "nbformat_minor": 2
}
