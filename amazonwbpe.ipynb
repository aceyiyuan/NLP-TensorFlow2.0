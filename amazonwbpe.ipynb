{
  "nbformat": 4,
  "nbformat_minor": 0,
  "metadata": {
    "colab": {
      "name": "amazonwbpe",
      "provenance": [],
      "collapsed_sections": [],
      "include_colab_link": true
    },
    "kernelspec": {
      "name": "python3",
      "display_name": "Python 3"
    },
    "accelerator": "GPU"
  },
  "cells": [
    {
      "cell_type": "markdown",
      "metadata": {
        "id": "view-in-github",
        "colab_type": "text"
      },
      "source": [
        "<a href=\"https://colab.research.google.com/github/dizzySummer/NLP-TensorFlow2.0/blob/master/amazonwbpe.ipynb\" target=\"_parent\"><img src=\"https://colab.research.google.com/assets/colab-badge.svg\" alt=\"Open In Colab\"/></a>"
      ]
    },
    {
      "cell_type": "code",
      "metadata": {
        "id": "ULPmGnXEsdsZ",
        "colab_type": "code",
        "outputId": "cfe010bc-6bdd-4dfe-84b9-c3f4b182eddb",
        "colab": {
          "base_uri": "https://localhost:8080/",
          "height": 122
        }
      },
      "source": [
        "from google.colab import drive\n",
        "drive.mount('/content/drive')"
      ],
      "execution_count": 0,
      "outputs": [
        {
          "output_type": "stream",
          "text": [
            "Go to this URL in a browser: https://accounts.google.com/o/oauth2/auth?client_id=947318989803-6bn6qk8qdgf4n4g3pfee6491hc0brc4i.apps.googleusercontent.com&redirect_uri=urn%3aietf%3awg%3aoauth%3a2.0%3aoob&response_type=code&scope=email%20https%3a%2f%2fwww.googleapis.com%2fauth%2fdocs.test%20https%3a%2f%2fwww.googleapis.com%2fauth%2fdrive%20https%3a%2f%2fwww.googleapis.com%2fauth%2fdrive.photos.readonly%20https%3a%2f%2fwww.googleapis.com%2fauth%2fpeopleapi.readonly\n",
            "\n",
            "Enter your authorization code:\n",
            "··········\n",
            "Mounted at /content/drive\n"
          ],
          "name": "stdout"
        }
      ]
    },
    {
      "cell_type": "code",
      "metadata": {
        "id": "KC-76uyYWyi6",
        "colab_type": "code",
        "outputId": "402b1130-f293-4da4-e157-845709b9fd5f",
        "colab": {
          "base_uri": "https://localhost:8080/",
          "height": 63
        }
      },
      "source": [
        "import sys\n",
        "# insert at 1, 0 is the script path (or '' in REPL)\n",
        "sys.path.insert(1, '/content/drive/My Drive/amazon-fine-food-reviews/')\n",
        "\n",
        "import attention\n"
      ],
      "execution_count": 0,
      "outputs": [
        {
          "output_type": "display_data",
          "data": {
            "text/html": [
              "<p style=\"color: red;\">\n",
              "The default version of TensorFlow in Colab will soon switch to TensorFlow 2.x.<br>\n",
              "We recommend you <a href=\"https://www.tensorflow.org/guide/migrate\" target=\"_blank\">upgrade</a> now \n",
              "or ensure your notebook will continue to use TensorFlow 1.x via the <code>%tensorflow_version 1.x</code> magic:\n",
              "<a href=\"https://colab.research.google.com/notebooks/tensorflow_version.ipynb\" target=\"_blank\">more info</a>.</p>\n"
            ],
            "text/plain": [
              "<IPython.core.display.HTML object>"
            ]
          },
          "metadata": {
            "tags": []
          }
        }
      ]
    },
    {
      "cell_type": "code",
      "metadata": {
        "id": "WbG2ibftsRWB",
        "colab_type": "code",
        "outputId": "70027ca6-5639-4673-ff36-11353e894a60",
        "colab": {
          "base_uri": "https://localhost:8080/",
          "height": 683
        }
      },
      "source": [
        "import io\n",
        "import os\n",
        "import pandas as pd\n",
        "import numpy as np\n",
        "#import data that stored on Google drive\n",
        "import io\n",
        "df = pd.read_csv('/content/drive/My Drive/amazon-fine-food-reviews/Reviews.csv')\n",
        "# Dataset is now stored in a Pandas Dataframe\n",
        "df.head()"
      ],
      "execution_count": 0,
      "outputs": [
        {
          "output_type": "execute_result",
          "data": {
            "text/html": [
              "<div>\n",
              "<style scoped>\n",
              "    .dataframe tbody tr th:only-of-type {\n",
              "        vertical-align: middle;\n",
              "    }\n",
              "\n",
              "    .dataframe tbody tr th {\n",
              "        vertical-align: top;\n",
              "    }\n",
              "\n",
              "    .dataframe thead th {\n",
              "        text-align: right;\n",
              "    }\n",
              "</style>\n",
              "<table border=\"1\" class=\"dataframe\">\n",
              "  <thead>\n",
              "    <tr style=\"text-align: right;\">\n",
              "      <th></th>\n",
              "      <th>Id</th>\n",
              "      <th>ProductId</th>\n",
              "      <th>UserId</th>\n",
              "      <th>ProfileName</th>\n",
              "      <th>HelpfulnessNumerator</th>\n",
              "      <th>HelpfulnessDenominator</th>\n",
              "      <th>Score</th>\n",
              "      <th>Time</th>\n",
              "      <th>Summary</th>\n",
              "      <th>Text</th>\n",
              "    </tr>\n",
              "  </thead>\n",
              "  <tbody>\n",
              "    <tr>\n",
              "      <th>0</th>\n",
              "      <td>1</td>\n",
              "      <td>B001E4KFG0</td>\n",
              "      <td>A3SGXH7AUHU8GW</td>\n",
              "      <td>delmartian</td>\n",
              "      <td>1</td>\n",
              "      <td>1</td>\n",
              "      <td>5</td>\n",
              "      <td>1303862400</td>\n",
              "      <td>Good Quality Dog Food</td>\n",
              "      <td>I have bought several of the Vitality canned d...</td>\n",
              "    </tr>\n",
              "    <tr>\n",
              "      <th>1</th>\n",
              "      <td>2</td>\n",
              "      <td>B00813GRG4</td>\n",
              "      <td>A1D87F6ZCVE5NK</td>\n",
              "      <td>dll pa</td>\n",
              "      <td>0</td>\n",
              "      <td>0</td>\n",
              "      <td>1</td>\n",
              "      <td>1346976000</td>\n",
              "      <td>Not as Advertised</td>\n",
              "      <td>Product arrived labeled as Jumbo Salted Peanut...</td>\n",
              "    </tr>\n",
              "    <tr>\n",
              "      <th>2</th>\n",
              "      <td>3</td>\n",
              "      <td>B000LQOCH0</td>\n",
              "      <td>ABXLMWJIXXAIN</td>\n",
              "      <td>Natalia Corres \"Natalia Corres\"</td>\n",
              "      <td>1</td>\n",
              "      <td>1</td>\n",
              "      <td>4</td>\n",
              "      <td>1219017600</td>\n",
              "      <td>\"Delight\" says it all</td>\n",
              "      <td>This is a confection that has been around a fe...</td>\n",
              "    </tr>\n",
              "    <tr>\n",
              "      <th>3</th>\n",
              "      <td>4</td>\n",
              "      <td>B000UA0QIQ</td>\n",
              "      <td>A395BORC6FGVXV</td>\n",
              "      <td>Karl</td>\n",
              "      <td>3</td>\n",
              "      <td>3</td>\n",
              "      <td>2</td>\n",
              "      <td>1307923200</td>\n",
              "      <td>Cough Medicine</td>\n",
              "      <td>If you are looking for the secret ingredient i...</td>\n",
              "    </tr>\n",
              "    <tr>\n",
              "      <th>4</th>\n",
              "      <td>5</td>\n",
              "      <td>B006K2ZZ7K</td>\n",
              "      <td>A1UQRSCLF8GW1T</td>\n",
              "      <td>Michael D. Bigham \"M. Wassir\"</td>\n",
              "      <td>0</td>\n",
              "      <td>0</td>\n",
              "      <td>5</td>\n",
              "      <td>1350777600</td>\n",
              "      <td>Great taffy</td>\n",
              "      <td>Great taffy at a great price.  There was a wid...</td>\n",
              "    </tr>\n",
              "  </tbody>\n",
              "</table>\n",
              "</div>"
            ],
            "text/plain": [
              "   Id  ...                                               Text\n",
              "0   1  ...  I have bought several of the Vitality canned d...\n",
              "1   2  ...  Product arrived labeled as Jumbo Salted Peanut...\n",
              "2   3  ...  This is a confection that has been around a fe...\n",
              "3   4  ...  If you are looking for the secret ingredient i...\n",
              "4   5  ...  Great taffy at a great price.  There was a wid...\n",
              "\n",
              "[5 rows x 10 columns]"
            ]
          },
          "metadata": {
            "tags": []
          },
          "execution_count": 3
        }
      ]
    },
    {
      "cell_type": "code",
      "metadata": {
        "id": "w4Ya2oTosxlt",
        "colab_type": "code",
        "outputId": "e5d14bd7-6733-4d35-bee9-6e6cce1c9ba3",
        "colab": {
          "base_uri": "https://localhost:8080/",
          "height": 34
        }
      },
      "source": [
        "# this block will be needed in the real dataset\n",
        "df=df.dropna()\n",
        "df=df[['Summary','Text']].reset_index(drop=True)\n",
        "df.head()\n",
        "\n",
        "len(df) #568411"
      ],
      "execution_count": 0,
      "outputs": [
        {
          "output_type": "execute_result",
          "data": {
            "text/plain": [
              "568411"
            ]
          },
          "metadata": {
            "tags": []
          },
          "execution_count": 4
        }
      ]
    },
    {
      "cell_type": "code",
      "metadata": {
        "id": "vyRJ1WsR2Crg",
        "colab_type": "code",
        "outputId": "e604a477-28b2-4313-81ec-218aed7d5480",
        "colab": {
          "base_uri": "https://localhost:8080/",
          "height": 221
        }
      },
      "source": [
        "print(\"preprocessing\")\n",
        "df[\"Text\"]=df[\"Text\"].str.lower()\n",
        "df[\"Summary\"]=df[\"Summary\"].str.lower()\n",
        "\n",
        "df.head()"
      ],
      "execution_count": 0,
      "outputs": [
        {
          "output_type": "stream",
          "text": [
            "preprocessing\n"
          ],
          "name": "stdout"
        },
        {
          "output_type": "execute_result",
          "data": {
            "text/html": [
              "<div>\n",
              "<style scoped>\n",
              "    .dataframe tbody tr th:only-of-type {\n",
              "        vertical-align: middle;\n",
              "    }\n",
              "\n",
              "    .dataframe tbody tr th {\n",
              "        vertical-align: top;\n",
              "    }\n",
              "\n",
              "    .dataframe thead th {\n",
              "        text-align: right;\n",
              "    }\n",
              "</style>\n",
              "<table border=\"1\" class=\"dataframe\">\n",
              "  <thead>\n",
              "    <tr style=\"text-align: right;\">\n",
              "      <th></th>\n",
              "      <th>Summary</th>\n",
              "      <th>Text</th>\n",
              "    </tr>\n",
              "  </thead>\n",
              "  <tbody>\n",
              "    <tr>\n",
              "      <th>0</th>\n",
              "      <td>good quality dog food</td>\n",
              "      <td>i have bought several of the vitality canned d...</td>\n",
              "    </tr>\n",
              "    <tr>\n",
              "      <th>1</th>\n",
              "      <td>not as advertised</td>\n",
              "      <td>product arrived labeled as jumbo salted peanut...</td>\n",
              "    </tr>\n",
              "    <tr>\n",
              "      <th>2</th>\n",
              "      <td>\"delight\" says it all</td>\n",
              "      <td>this is a confection that has been around a fe...</td>\n",
              "    </tr>\n",
              "    <tr>\n",
              "      <th>3</th>\n",
              "      <td>cough medicine</td>\n",
              "      <td>if you are looking for the secret ingredient i...</td>\n",
              "    </tr>\n",
              "    <tr>\n",
              "      <th>4</th>\n",
              "      <td>great taffy</td>\n",
              "      <td>great taffy at a great price.  there was a wid...</td>\n",
              "    </tr>\n",
              "  </tbody>\n",
              "</table>\n",
              "</div>"
            ],
            "text/plain": [
              "                 Summary                                               Text\n",
              "0  good quality dog food  i have bought several of the vitality canned d...\n",
              "1      not as advertised  product arrived labeled as jumbo salted peanut...\n",
              "2  \"delight\" says it all  this is a confection that has been around a fe...\n",
              "3         cough medicine  if you are looking for the secret ingredient i...\n",
              "4            great taffy  great taffy at a great price.  there was a wid..."
            ]
          },
          "metadata": {
            "tags": []
          },
          "execution_count": 5
        }
      ]
    },
    {
      "cell_type": "code",
      "metadata": {
        "id": "3goBk6shRsaG",
        "colab_type": "code",
        "outputId": "3e8d7b61-f460-4d1a-90e6-e795cb459d21",
        "colab": {
          "base_uri": "https://localhost:8080/",
          "height": 122
        }
      },
      "source": [
        "!pip install sentencepiece"
      ],
      "execution_count": 0,
      "outputs": [
        {
          "output_type": "stream",
          "text": [
            "Collecting sentencepiece\n",
            "\u001b[?25l  Downloading https://files.pythonhosted.org/packages/14/3d/efb655a670b98f62ec32d66954e1109f403db4d937c50d779a75b9763a29/sentencepiece-0.1.83-cp36-cp36m-manylinux1_x86_64.whl (1.0MB)\n",
            "\u001b[K     |████████████████████████████████| 1.0MB 2.6MB/s \n",
            "\u001b[?25hInstalling collected packages: sentencepiece\n",
            "Successfully installed sentencepiece-0.1.83\n"
          ],
          "name": "stdout"
        }
      ]
    },
    {
      "cell_type": "code",
      "metadata": {
        "id": "Q4W_w-xmRzF_",
        "colab_type": "code",
        "outputId": "504349a0-c743-4f9b-caf2-3d298ec5705c",
        "colab": {
          "base_uri": "https://localhost:8080/",
          "height": 34
        }
      },
      "source": [
        "import logging\n",
        "import sentencepiece as spm\n",
        "import os\n",
        "\n",
        "logging.basicConfig(level=logging.INFO)\n",
        "input_file=\"to_mytxt2.txt\"\n",
        "vocab_size = 15000\n",
        "prefix = 'm_bpe'\n",
        "\n",
        "\n",
        "templates = '--input={} --model_prefix={} --vocab_size={} --pad_id=0 --unk_id=1 --bos_id=2  --eos_id=3 --model_type=bpe'\n",
        "cmd = templates.format(input_file, prefix, vocab_size)\n",
        "\n",
        "spm.SentencePieceTrainer.train(cmd)\n",
        "print(\"BPE model trained!\")\n"
      ],
      "execution_count": 0,
      "outputs": [
        {
          "output_type": "stream",
          "text": [
            "BPE model trained!\n"
          ],
          "name": "stdout"
        }
      ]
    },
    {
      "cell_type": "code",
      "metadata": {
        "id": "YLAeABpEotje",
        "colab_type": "code",
        "colab": {}
      },
      "source": [
        ""
      ],
      "execution_count": 0,
      "outputs": []
    },
    {
      "cell_type": "code",
      "metadata": {
        "id": "xdNf252WRlgg",
        "colab_type": "code",
        "outputId": "d684543b-24b0-4fe8-8d40-cf71a1ec5d4f",
        "colab": {
          "base_uri": "https://localhost:8080/",
          "height": 119
        }
      },
      "source": [
        "# makes segmenter instance and loads the model file (m.model)\n",
        "sp_bpe = spm.SentencePieceProcessor()\n",
        "sp_bpe2 = spm.SentencePieceProcessor()\n",
        "sp_bpe.load('{}.model'.format(prefix))\n",
        "sp_bpe2.load('{}.model'.format(prefix))\n",
        "print(\"Trained BPE model loaded\")\n",
        "\n",
        "\n",
        "#option={\"unk\": \"UNK\",\"eos\": \"</s>\"}\n",
        "extra_options = 'bos:eos' #'reverse:bos:eos'\n",
        "sp_bpe.SetEncodeExtraOptions(extra_options)\n",
        "\n",
        "print(\"sp_bpe with extra options \")  \n",
        "print(sp_bpe.EncodeAsIds('so good'))\n",
        "print(sp_bpe.EncodeAsPieces('so good'))\n",
        "\n",
        "#print(\"sp_bpe2 without extra options \")\n",
        "#print(sp_bpe2.EncodeAsIds('so good'))\n",
        "#print(sp_bpe2.EncodeAsPieces('so good'))\n",
        "\n",
        "print(sp_bpe.DecodeIds([5]))\n",
        "# vocabulary size\n",
        "print(len(sp_bpe))"
      ],
      "execution_count": 0,
      "outputs": [
        {
          "output_type": "stream",
          "text": [
            "Trained BPE model loaded\n",
            "sp_bpe with extra options \n",
            "[2, 76, 142, 3]\n",
            "['<s>', '▁so', '▁good', '</s>']\n",
            "a\n",
            "15000\n"
          ],
          "name": "stdout"
        }
      ]
    },
    {
      "cell_type": "code",
      "metadata": {
        "id": "4XBAMdFUVnb6",
        "colab_type": "code",
        "colab": {}
      },
      "source": [
        "df.to_csv(r'/content/drive/My Drive/amazon-fine-food-reviews/to_mytxt2.txt', header=None, index=None, sep=' ', mode='a')\n"
      ],
      "execution_count": 0,
      "outputs": []
    },
    {
      "cell_type": "code",
      "metadata": {
        "id": "eG0m2fcISZCs",
        "colab_type": "code",
        "outputId": "48aca861-d33c-4ba9-820c-6c5a050ef84e",
        "colab": {
          "base_uri": "https://localhost:8080/",
          "height": 289
        }
      },
      "source": [
        "import warnings\n",
        "warnings.filterwarnings(\"ignore\")\n",
        "\n",
        "df[\"Tokened_Summary\"]=df[\"Summary\"].apply(lambda x:sp_bpe.encode_as_pieces(x))\n",
        "df[\"Tokened_Text\"]=df[\"Text\"].apply(lambda x:sp_bpe2.encode_as_pieces(x))\n",
        "#val.head(10)\n",
        "\n",
        "\n",
        "df.head()"
      ],
      "execution_count": 0,
      "outputs": [
        {
          "output_type": "execute_result",
          "data": {
            "text/html": [
              "<div>\n",
              "<style scoped>\n",
              "    .dataframe tbody tr th:only-of-type {\n",
              "        vertical-align: middle;\n",
              "    }\n",
              "\n",
              "    .dataframe tbody tr th {\n",
              "        vertical-align: top;\n",
              "    }\n",
              "\n",
              "    .dataframe thead th {\n",
              "        text-align: right;\n",
              "    }\n",
              "</style>\n",
              "<table border=\"1\" class=\"dataframe\">\n",
              "  <thead>\n",
              "    <tr style=\"text-align: right;\">\n",
              "      <th></th>\n",
              "      <th>Summary</th>\n",
              "      <th>Text</th>\n",
              "      <th>Tokened_Summary</th>\n",
              "      <th>Tokened_Text</th>\n",
              "    </tr>\n",
              "  </thead>\n",
              "  <tbody>\n",
              "    <tr>\n",
              "      <th>0</th>\n",
              "      <td>good quality dog food</td>\n",
              "      <td>i have bought several of the vitality canned d...</td>\n",
              "      <td>[&lt;s&gt;, ▁good, ▁quality, ▁dog, ▁food, &lt;/s&gt;]</td>\n",
              "      <td>[▁i, ▁have, ▁bought, ▁several, ▁of, ▁the, ▁vit...</td>\n",
              "    </tr>\n",
              "    <tr>\n",
              "      <th>1</th>\n",
              "      <td>not as advertised</td>\n",
              "      <td>product arrived labeled as jumbo salted peanut...</td>\n",
              "      <td>[&lt;s&gt;, ▁not, ▁as, ▁advertised, &lt;/s&gt;]</td>\n",
              "      <td>[▁product, ▁arrived, ▁labeled, ▁as, ▁jumbo, ▁s...</td>\n",
              "    </tr>\n",
              "    <tr>\n",
              "      <th>2</th>\n",
              "      <td>\"delight\" says it all</td>\n",
              "      <td>this is a confection that has been around a fe...</td>\n",
              "      <td>[&lt;s&gt;, ▁\", delight, \", ▁says, ▁it, ▁all, &lt;/s&gt;]</td>\n",
              "      <td>[▁this, ▁is, ▁a, ▁confection, ▁that, ▁has, ▁be...</td>\n",
              "    </tr>\n",
              "    <tr>\n",
              "      <th>3</th>\n",
              "      <td>cough medicine</td>\n",
              "      <td>if you are looking for the secret ingredient i...</td>\n",
              "      <td>[&lt;s&gt;, ▁cough, ▁medicine, &lt;/s&gt;]</td>\n",
              "      <td>[▁if, ▁you, ▁are, ▁looking, ▁for, ▁the, ▁secre...</td>\n",
              "    </tr>\n",
              "    <tr>\n",
              "      <th>4</th>\n",
              "      <td>great taffy</td>\n",
              "      <td>great taffy at a great price.  there was a wid...</td>\n",
              "      <td>[&lt;s&gt;, ▁great, ▁taffy, &lt;/s&gt;]</td>\n",
              "      <td>[▁great, ▁taffy, ▁at, ▁a, ▁great, ▁price, ., ▁...</td>\n",
              "    </tr>\n",
              "  </tbody>\n",
              "</table>\n",
              "</div>"
            ],
            "text/plain": [
              "                 Summary  ...                                       Tokened_Text\n",
              "0  good quality dog food  ...  [▁i, ▁have, ▁bought, ▁several, ▁of, ▁the, ▁vit...\n",
              "1      not as advertised  ...  [▁product, ▁arrived, ▁labeled, ▁as, ▁jumbo, ▁s...\n",
              "2  \"delight\" says it all  ...  [▁this, ▁is, ▁a, ▁confection, ▁that, ▁has, ▁be...\n",
              "3         cough medicine  ...  [▁if, ▁you, ▁are, ▁looking, ▁for, ▁the, ▁secre...\n",
              "4            great taffy  ...  [▁great, ▁taffy, ▁at, ▁a, ▁great, ▁price, ., ▁...\n",
              "\n",
              "[5 rows x 4 columns]"
            ]
          },
          "metadata": {
            "tags": []
          },
          "execution_count": 10
        }
      ]
    },
    {
      "cell_type": "code",
      "metadata": {
        "id": "Y-l6BxfGSii6",
        "colab_type": "code",
        "outputId": "a792df9f-fb9f-4e1e-864d-6f907eae4cf8",
        "colab": {
          "base_uri": "https://localhost:8080/",
          "height": 289
        }
      },
      "source": [
        "df[\"Tokened_Summary\"]=df[\"Summary\"].apply(lambda x:sp_bpe.encode_as_ids(x))\n",
        "df[\"Tokened_Text\"]=df[\"Text\"].apply(lambda x:sp_bpe2.encode_as_ids(x))\n",
        "#val.head(10)\n",
        "df.head()"
      ],
      "execution_count": 0,
      "outputs": [
        {
          "output_type": "execute_result",
          "data": {
            "text/html": [
              "<div>\n",
              "<style scoped>\n",
              "    .dataframe tbody tr th:only-of-type {\n",
              "        vertical-align: middle;\n",
              "    }\n",
              "\n",
              "    .dataframe tbody tr th {\n",
              "        vertical-align: top;\n",
              "    }\n",
              "\n",
              "    .dataframe thead th {\n",
              "        text-align: right;\n",
              "    }\n",
              "</style>\n",
              "<table border=\"1\" class=\"dataframe\">\n",
              "  <thead>\n",
              "    <tr style=\"text-align: right;\">\n",
              "      <th></th>\n",
              "      <th>Summary</th>\n",
              "      <th>Text</th>\n",
              "      <th>Tokened_Summary</th>\n",
              "      <th>Tokened_Text</th>\n",
              "    </tr>\n",
              "  </thead>\n",
              "  <tbody>\n",
              "    <tr>\n",
              "      <th>0</th>\n",
              "      <td>good quality dog food</td>\n",
              "      <td>i have bought several of the vitality canned d...</td>\n",
              "      <td>[2, 142, 600, 215, 217, 3]</td>\n",
              "      <td>[7, 103, 502, 941, 46, 10, 14376, 1691, 215, 2...</td>\n",
              "    </tr>\n",
              "    <tr>\n",
              "      <th>1</th>\n",
              "      <td>not as advertised</td>\n",
              "      <td>product arrived labeled as jumbo salted peanut...</td>\n",
              "      <td>[2, 98, 115, 2886, 3]</td>\n",
              "      <td>[165, 1053, 4511, 115, 7604, 3440, 1844, 305, ...</td>\n",
              "    </tr>\n",
              "    <tr>\n",
              "      <th>2</th>\n",
              "      <td>\"delight\" says it all</td>\n",
              "      <td>this is a confection that has been around a fe...</td>\n",
              "      <td>[2, 34, 8147, 14969, 1365, 41, 176, 3]</td>\n",
              "      <td>[70, 49, 5, 8548, 85, 232, 378, 923, 5, 601, 4...</td>\n",
              "    </tr>\n",
              "    <tr>\n",
              "      <th>3</th>\n",
              "      <td>cough medicine</td>\n",
              "      <td>if you are looking for the secret ingredient i...</td>\n",
              "      <td>[2, 6793, 4362, 3]</td>\n",
              "      <td>[203, 78, 99, 760, 63, 10, 5191, 520, 50, 3119...</td>\n",
              "    </tr>\n",
              "    <tr>\n",
              "      <th>4</th>\n",
              "      <td>great taffy</td>\n",
              "      <td>great taffy at a great price.  there was a wid...</td>\n",
              "      <td>[2, 172, 5947, 3]</td>\n",
              "      <td>[172, 5947, 167, 5, 172, 299, 14968, 313, 108,...</td>\n",
              "    </tr>\n",
              "  </tbody>\n",
              "</table>\n",
              "</div>"
            ],
            "text/plain": [
              "                 Summary  ...                                       Tokened_Text\n",
              "0  good quality dog food  ...  [7, 103, 502, 941, 46, 10, 14376, 1691, 215, 2...\n",
              "1      not as advertised  ...  [165, 1053, 4511, 115, 7604, 3440, 1844, 305, ...\n",
              "2  \"delight\" says it all  ...  [70, 49, 5, 8548, 85, 232, 378, 923, 5, 601, 4...\n",
              "3         cough medicine  ...  [203, 78, 99, 760, 63, 10, 5191, 520, 50, 3119...\n",
              "4            great taffy  ...  [172, 5947, 167, 5, 172, 299, 14968, 313, 108,...\n",
              "\n",
              "[5 rows x 4 columns]"
            ]
          },
          "metadata": {
            "tags": []
          },
          "execution_count": 11
        }
      ]
    },
    {
      "cell_type": "code",
      "metadata": {
        "id": "uLUdQXzO-4wa",
        "colab_type": "code",
        "outputId": "4443b103-640e-4a9c-be62-ab5a8c4aaa38",
        "colab": {
          "base_uri": "https://localhost:8080/",
          "height": 34
        }
      },
      "source": [
        "type(df['Tokened_Summary'][0])"
      ],
      "execution_count": 0,
      "outputs": [
        {
          "output_type": "execute_result",
          "data": {
            "text/plain": [
              "list"
            ]
          },
          "metadata": {
            "tags": []
          },
          "execution_count": 12
        }
      ]
    },
    {
      "cell_type": "code",
      "metadata": {
        "id": "9wRRZq3TS5if",
        "colab_type": "code",
        "outputId": "d160f862-f53e-4d09-e8f3-6282cbd92334",
        "colab": {
          "base_uri": "https://localhost:8080/",
          "height": 170
        }
      },
      "source": [
        "df['summSum']=df['Tokened_Summary'].str.len()\n",
        "df['summSum'].describe()"
      ],
      "execution_count": 0,
      "outputs": [
        {
          "output_type": "execute_result",
          "data": {
            "text/plain": [
              "count    568411.000000\n",
              "mean          7.129556\n",
              "std           3.335194\n",
              "min           3.000000\n",
              "25%           5.000000\n",
              "50%           6.000000\n",
              "75%           9.000000\n",
              "max          92.000000\n",
              "Name: summSum, dtype: float64"
            ]
          },
          "metadata": {
            "tags": []
          },
          "execution_count": 13
        }
      ]
    },
    {
      "cell_type": "code",
      "metadata": {
        "id": "eyJb6sT9S_FK",
        "colab_type": "code",
        "outputId": "ea533a23-b612-4252-f7a7-33780bda896e",
        "colab": {
          "base_uri": "https://localhost:8080/",
          "height": 170
        }
      },
      "source": [
        "df['textSum']=df['Tokened_Text'].str.len()\n",
        "df['textSum'].describe()"
      ],
      "execution_count": 0,
      "outputs": [
        {
          "output_type": "execute_result",
          "data": {
            "text/plain": [
              "count    568411.000000\n",
              "mean        100.644465\n",
              "std         104.887953\n",
              "min           3.000000\n",
              "25%          41.000000\n",
              "50%          69.000000\n",
              "75%         121.000000\n",
              "max        4803.000000\n",
              "Name: textSum, dtype: float64"
            ]
          },
          "metadata": {
            "tags": []
          },
          "execution_count": 14
        }
      ]
    },
    {
      "cell_type": "code",
      "metadata": {
        "id": "ixQARL7uTEQo",
        "colab_type": "code",
        "outputId": "9d63536e-0411-4f49-f269-06d715865f84",
        "colab": {
          "base_uri": "https://localhost:8080/",
          "height": 289
        }
      },
      "source": [
        "df.head()"
      ],
      "execution_count": 0,
      "outputs": [
        {
          "output_type": "execute_result",
          "data": {
            "text/html": [
              "<div>\n",
              "<style scoped>\n",
              "    .dataframe tbody tr th:only-of-type {\n",
              "        vertical-align: middle;\n",
              "    }\n",
              "\n",
              "    .dataframe tbody tr th {\n",
              "        vertical-align: top;\n",
              "    }\n",
              "\n",
              "    .dataframe thead th {\n",
              "        text-align: right;\n",
              "    }\n",
              "</style>\n",
              "<table border=\"1\" class=\"dataframe\">\n",
              "  <thead>\n",
              "    <tr style=\"text-align: right;\">\n",
              "      <th></th>\n",
              "      <th>Summary</th>\n",
              "      <th>Text</th>\n",
              "      <th>Tokened_Summary</th>\n",
              "      <th>Tokened_Text</th>\n",
              "      <th>summSum</th>\n",
              "      <th>textSum</th>\n",
              "    </tr>\n",
              "  </thead>\n",
              "  <tbody>\n",
              "    <tr>\n",
              "      <th>0</th>\n",
              "      <td>good quality dog food</td>\n",
              "      <td>i have bought several of the vitality canned d...</td>\n",
              "      <td>[2, 142, 600, 215, 217, 3]</td>\n",
              "      <td>[7, 103, 502, 941, 46, 10, 14376, 1691, 215, 2...</td>\n",
              "      <td>6</td>\n",
              "      <td>52</td>\n",
              "    </tr>\n",
              "    <tr>\n",
              "      <th>1</th>\n",
              "      <td>not as advertised</td>\n",
              "      <td>product arrived labeled as jumbo salted peanut...</td>\n",
              "      <td>[2, 98, 115, 2886, 3]</td>\n",
              "      <td>[165, 1053, 4511, 115, 7604, 3440, 1844, 305, ...</td>\n",
              "      <td>5</td>\n",
              "      <td>38</td>\n",
              "    </tr>\n",
              "    <tr>\n",
              "      <th>2</th>\n",
              "      <td>\"delight\" says it all</td>\n",
              "      <td>this is a confection that has been around a fe...</td>\n",
              "      <td>[2, 34, 8147, 14969, 1365, 41, 176, 3]</td>\n",
              "      <td>[70, 49, 5, 8548, 85, 232, 378, 923, 5, 601, 4...</td>\n",
              "      <td>8</td>\n",
              "      <td>127</td>\n",
              "    </tr>\n",
              "    <tr>\n",
              "      <th>3</th>\n",
              "      <td>cough medicine</td>\n",
              "      <td>if you are looking for the secret ingredient i...</td>\n",
              "      <td>[2, 6793, 4362, 3]</td>\n",
              "      <td>[203, 78, 99, 760, 63, 10, 5191, 520, 50, 3119...</td>\n",
              "      <td>4</td>\n",
              "      <td>49</td>\n",
              "    </tr>\n",
              "    <tr>\n",
              "      <th>4</th>\n",
              "      <td>great taffy</td>\n",
              "      <td>great taffy at a great price.  there was a wid...</td>\n",
              "      <td>[2, 172, 5947, 3]</td>\n",
              "      <td>[172, 5947, 167, 5, 172, 299, 14968, 313, 108,...</td>\n",
              "      <td>4</td>\n",
              "      <td>32</td>\n",
              "    </tr>\n",
              "  </tbody>\n",
              "</table>\n",
              "</div>"
            ],
            "text/plain": [
              "                 Summary  ... textSum\n",
              "0  good quality dog food  ...      52\n",
              "1      not as advertised  ...      38\n",
              "2  \"delight\" says it all  ...     127\n",
              "3         cough medicine  ...      49\n",
              "4            great taffy  ...      32\n",
              "\n",
              "[5 rows x 6 columns]"
            ]
          },
          "metadata": {
            "tags": []
          },
          "execution_count": 15
        }
      ]
    },
    {
      "cell_type": "code",
      "metadata": {
        "id": "9BG3Im-oKnTn",
        "colab_type": "code",
        "outputId": "56c049a9-a10c-456a-abcd-5a959608d236",
        "colab": {
          "base_uri": "https://localhost:8080/",
          "height": 34
        }
      },
      "source": [
        "len(df)"
      ],
      "execution_count": 0,
      "outputs": [
        {
          "output_type": "execute_result",
          "data": {
            "text/plain": [
              "568411"
            ]
          },
          "metadata": {
            "tags": []
          },
          "execution_count": 16
        }
      ]
    },
    {
      "cell_type": "code",
      "metadata": {
        "id": "Im8eg4IRc20X",
        "colab_type": "code",
        "colab": {}
      },
      "source": [
        "#https://stackoverflow.com/questions/18936957/count-distinct-words-from-a-pandas-data-frame\n",
        "#df['Tokened_Text'].str.lower().str.split()"
      ],
      "execution_count": 0,
      "outputs": []
    },
    {
      "cell_type": "code",
      "metadata": {
        "id": "-rYFdK3nTKPF",
        "colab_type": "code",
        "outputId": "94e414ca-fdb6-4346-b360-49ee25721055",
        "colab": {
          "base_uri": "https://localhost:8080/",
          "height": 34
        }
      },
      "source": [
        "#remove columns which length of tokened_summary > 15 and length of tokened_text >60\n",
        "df = df[(df['textSum'] <100)&(df['summSum']<9)].reset_index(drop=True)\n",
        "len(df)"
      ],
      "execution_count": 0,
      "outputs": [
        {
          "output_type": "execute_result",
          "data": {
            "text/plain": [
              "307463"
            ]
          },
          "metadata": {
            "tags": []
          },
          "execution_count": 18
        }
      ]
    },
    {
      "cell_type": "code",
      "metadata": {
        "id": "mUiFko4TTPni",
        "colab_type": "code",
        "outputId": "e4ac71ee-333b-4e3c-a701-d9f27855aff8",
        "colab": {
          "base_uri": "https://localhost:8080/",
          "height": 204
        }
      },
      "source": [
        "df=df[['Tokened_Text','Tokened_Summary']]\n",
        "df.head()"
      ],
      "execution_count": 0,
      "outputs": [
        {
          "output_type": "execute_result",
          "data": {
            "text/html": [
              "<div>\n",
              "<style scoped>\n",
              "    .dataframe tbody tr th:only-of-type {\n",
              "        vertical-align: middle;\n",
              "    }\n",
              "\n",
              "    .dataframe tbody tr th {\n",
              "        vertical-align: top;\n",
              "    }\n",
              "\n",
              "    .dataframe thead th {\n",
              "        text-align: right;\n",
              "    }\n",
              "</style>\n",
              "<table border=\"1\" class=\"dataframe\">\n",
              "  <thead>\n",
              "    <tr style=\"text-align: right;\">\n",
              "      <th></th>\n",
              "      <th>Tokened_Text</th>\n",
              "      <th>Tokened_Summary</th>\n",
              "    </tr>\n",
              "  </thead>\n",
              "  <tbody>\n",
              "    <tr>\n",
              "      <th>0</th>\n",
              "      <td>[7, 103, 502, 941, 46, 10, 14376, 1691, 215, 2...</td>\n",
              "      <td>[2, 142, 600, 215, 217, 3]</td>\n",
              "    </tr>\n",
              "    <tr>\n",
              "      <th>1</th>\n",
              "      <td>[165, 1053, 4511, 115, 7604, 3440, 1844, 305, ...</td>\n",
              "      <td>[2, 98, 115, 2886, 3]</td>\n",
              "    </tr>\n",
              "    <tr>\n",
              "      <th>2</th>\n",
              "      <td>[203, 78, 99, 760, 63, 10, 5191, 520, 50, 3119...</td>\n",
              "      <td>[2, 6793, 4362, 3]</td>\n",
              "    </tr>\n",
              "    <tr>\n",
              "      <th>3</th>\n",
              "      <td>[172, 5947, 167, 5, 172, 299, 14968, 313, 108,...</td>\n",
              "      <td>[2, 172, 5947, 3]</td>\n",
              "    </tr>\n",
              "    <tr>\n",
              "      <th>4</th>\n",
              "      <td>[7, 542, 5, 3059, 2944, 63, 5947, 29, 674, 70,...</td>\n",
              "      <td>[2, 507, 5947, 3]</td>\n",
              "    </tr>\n",
              "  </tbody>\n",
              "</table>\n",
              "</div>"
            ],
            "text/plain": [
              "                                        Tokened_Text             Tokened_Summary\n",
              "0  [7, 103, 502, 941, 46, 10, 14376, 1691, 215, 2...  [2, 142, 600, 215, 217, 3]\n",
              "1  [165, 1053, 4511, 115, 7604, 3440, 1844, 305, ...       [2, 98, 115, 2886, 3]\n",
              "2  [203, 78, 99, 760, 63, 10, 5191, 520, 50, 3119...          [2, 6793, 4362, 3]\n",
              "3  [172, 5947, 167, 5, 172, 299, 14968, 313, 108,...           [2, 172, 5947, 3]\n",
              "4  [7, 542, 5, 3059, 2944, 63, 5947, 29, 674, 70,...           [2, 507, 5947, 3]"
            ]
          },
          "metadata": {
            "tags": []
          },
          "execution_count": 19
        }
      ]
    },
    {
      "cell_type": "code",
      "metadata": {
        "id": "VFgWJ37bTXDg",
        "colab_type": "code",
        "outputId": "3db7b68b-3152-4948-c51d-a13812806614",
        "colab": {
          "base_uri": "https://localhost:8080/",
          "height": 34
        }
      },
      "source": [
        "len(df)"
      ],
      "execution_count": 0,
      "outputs": [
        {
          "output_type": "execute_result",
          "data": {
            "text/plain": [
              "307463"
            ]
          },
          "metadata": {
            "tags": []
          },
          "execution_count": 20
        }
      ]
    },
    {
      "cell_type": "code",
      "metadata": {
        "id": "n0jSxDR2Td8a",
        "colab_type": "code",
        "outputId": "19c0e28f-02f4-4005-fd96-890353b3e59c",
        "colab": {
          "base_uri": "https://localhost:8080/",
          "height": 204
        }
      },
      "source": [
        "from sklearn.model_selection import train_test_split\n",
        "train, val = train_test_split(df, test_size=0.3)\n",
        "train.shape\n",
        "#val.shape\n",
        "train.head()"
      ],
      "execution_count": 0,
      "outputs": [
        {
          "output_type": "execute_result",
          "data": {
            "text/html": [
              "<div>\n",
              "<style scoped>\n",
              "    .dataframe tbody tr th:only-of-type {\n",
              "        vertical-align: middle;\n",
              "    }\n",
              "\n",
              "    .dataframe tbody tr th {\n",
              "        vertical-align: top;\n",
              "    }\n",
              "\n",
              "    .dataframe thead th {\n",
              "        text-align: right;\n",
              "    }\n",
              "</style>\n",
              "<table border=\"1\" class=\"dataframe\">\n",
              "  <thead>\n",
              "    <tr style=\"text-align: right;\">\n",
              "      <th></th>\n",
              "      <th>Tokened_Text</th>\n",
              "      <th>Tokened_Summary</th>\n",
              "    </tr>\n",
              "  </thead>\n",
              "  <tbody>\n",
              "    <tr>\n",
              "      <th>158891</th>\n",
              "      <td>[88, 484, 154, 98, 1572, 32, 225, 70, 270, 295...</td>\n",
              "      <td>[2, 484, 219, 134, 14977, 3]</td>\n",
              "    </tr>\n",
              "    <tr>\n",
              "      <th>15150</th>\n",
              "      <td>[231, 46, 176, 46, 10, 630, 2822, 29, 422, 105...</td>\n",
              "      <td>[2, 184, 46, 741, 2018, 14977, 3]</td>\n",
              "    </tr>\n",
              "    <tr>\n",
              "      <th>50918</th>\n",
              "      <td>[70, 49, 10, 545, 165, 63, 445, 319, 3418, 149...</td>\n",
              "      <td>[2, 120, 14957, 14956, 20, 14961, 4425, 3]</td>\n",
              "    </tr>\n",
              "    <tr>\n",
              "      <th>290189</th>\n",
              "      <td>[802, 172, 1441, 63, 5, 215, 5155, 14972, 90, ...</td>\n",
              "      <td>[2, 552, 1537, 3]</td>\n",
              "    </tr>\n",
              "    <tr>\n",
              "      <th>305477</th>\n",
              "      <td>[41, 14973, 14953, 475, 14977, 29, 598, 701, 2...</td>\n",
              "      <td>[2, 475, 14977, 3]</td>\n",
              "    </tr>\n",
              "  </tbody>\n",
              "</table>\n",
              "</div>"
            ],
            "text/plain": [
              "                                             Tokened_Text                             Tokened_Summary\n",
              "158891  [88, 484, 154, 98, 1572, 32, 225, 70, 270, 295...                [2, 484, 219, 134, 14977, 3]\n",
              "15150   [231, 46, 176, 46, 10, 630, 2822, 29, 422, 105...           [2, 184, 46, 741, 2018, 14977, 3]\n",
              "50918   [70, 49, 10, 545, 165, 63, 445, 319, 3418, 149...  [2, 120, 14957, 14956, 20, 14961, 4425, 3]\n",
              "290189  [802, 172, 1441, 63, 5, 215, 5155, 14972, 90, ...                           [2, 552, 1537, 3]\n",
              "305477  [41, 14973, 14953, 475, 14977, 29, 598, 701, 2...                          [2, 475, 14977, 3]"
            ]
          },
          "metadata": {
            "tags": []
          },
          "execution_count": 21
        }
      ]
    },
    {
      "cell_type": "code",
      "metadata": {
        "id": "jxOoR6zWTm5o",
        "colab_type": "code",
        "outputId": "0921d707-799c-4b0a-eafd-b3cee3e54717",
        "colab": {
          "base_uri": "https://localhost:8080/",
          "height": 34
        }
      },
      "source": [
        "len(train)"
      ],
      "execution_count": 0,
      "outputs": [
        {
          "output_type": "execute_result",
          "data": {
            "text/plain": [
              "215224"
            ]
          },
          "metadata": {
            "tags": []
          },
          "execution_count": 22
        }
      ]
    },
    {
      "cell_type": "code",
      "metadata": {
        "id": "595e0Om0TqK7",
        "colab_type": "code",
        "outputId": "3a8ce2ab-fbd2-4482-f27e-28a527793334",
        "colab": {
          "base_uri": "https://localhost:8080/",
          "height": 204
        }
      },
      "source": [
        "val.head()"
      ],
      "execution_count": 0,
      "outputs": [
        {
          "output_type": "execute_result",
          "data": {
            "text/html": [
              "<div>\n",
              "<style scoped>\n",
              "    .dataframe tbody tr th:only-of-type {\n",
              "        vertical-align: middle;\n",
              "    }\n",
              "\n",
              "    .dataframe tbody tr th {\n",
              "        vertical-align: top;\n",
              "    }\n",
              "\n",
              "    .dataframe thead th {\n",
              "        text-align: right;\n",
              "    }\n",
              "</style>\n",
              "<table border=\"1\" class=\"dataframe\">\n",
              "  <thead>\n",
              "    <tr style=\"text-align: right;\">\n",
              "      <th></th>\n",
              "      <th>Tokened_Text</th>\n",
              "      <th>Tokened_Summary</th>\n",
              "    </tr>\n",
              "  </thead>\n",
              "  <tbody>\n",
              "    <tr>\n",
              "      <th>95883</th>\n",
              "      <td>[7, 3419, 70, 265, 223, 88, 926, 1273, 32, 292...</td>\n",
              "      <td>[2, 172, 265, 3]</td>\n",
              "    </tr>\n",
              "    <tr>\n",
              "      <th>261352</th>\n",
              "      <td>[10, 265, 232, 5, 1353, 14972, 1609, 157, 29, ...</td>\n",
              "      <td>[2, 342, 7, 1686, 3]</td>\n",
              "    </tr>\n",
              "    <tr>\n",
              "      <th>214772</th>\n",
              "      <td>[141, 99, 188, 188, 1136, 305, 41, 154, 103, 1...</td>\n",
              "      <td>[2, 2207, 5655, 5655, 888, 12850, 14977, 3]</td>\n",
              "    </tr>\n",
              "    <tr>\n",
              "      <th>213935</th>\n",
              "      <td>[141, 169, 185, 129, 10, 1011, 12655, 227, 7, ...</td>\n",
              "      <td>[2, 185, 115, 7, 2107, 14977, 3]</td>\n",
              "    </tr>\n",
              "    <tr>\n",
              "      <th>247667</th>\n",
              "      <td>[5, 357, 46, 2950, 1112, 141, 91, 2069, 171, 2...</td>\n",
              "      <td>[2, 2950, 3]</td>\n",
              "    </tr>\n",
              "  </tbody>\n",
              "</table>\n",
              "</div>"
            ],
            "text/plain": [
              "                                             Tokened_Text                              Tokened_Summary\n",
              "95883   [7, 3419, 70, 265, 223, 88, 926, 1273, 32, 292...                             [2, 172, 265, 3]\n",
              "261352  [10, 265, 232, 5, 1353, 14972, 1609, 157, 29, ...                         [2, 342, 7, 1686, 3]\n",
              "214772  [141, 99, 188, 188, 1136, 305, 41, 154, 103, 1...  [2, 2207, 5655, 5655, 888, 12850, 14977, 3]\n",
              "213935  [141, 169, 185, 129, 10, 1011, 12655, 227, 7, ...             [2, 185, 115, 7, 2107, 14977, 3]\n",
              "247667  [5, 357, 46, 2950, 1112, 141, 91, 2069, 171, 2...                                 [2, 2950, 3]"
            ]
          },
          "metadata": {
            "tags": []
          },
          "execution_count": 23
        }
      ]
    },
    {
      "cell_type": "code",
      "metadata": {
        "id": "r8xG6bLVTr4k",
        "colab_type": "code",
        "outputId": "a27e828c-7b51-4f2b-e44d-85ca6d801b12",
        "colab": {
          "base_uri": "https://localhost:8080/",
          "height": 34
        }
      },
      "source": [
        "len(val)"
      ],
      "execution_count": 0,
      "outputs": [
        {
          "output_type": "execute_result",
          "data": {
            "text/plain": [
              "92239"
            ]
          },
          "metadata": {
            "tags": []
          },
          "execution_count": 24
        }
      ]
    },
    {
      "cell_type": "code",
      "metadata": {
        "id": "a5ofP23KT2wC",
        "colab_type": "code",
        "outputId": "25a22322-8462-4375-d36f-b0a9baab26a8",
        "colab": {
          "base_uri": "https://localhost:8080/",
          "height": 119
        }
      },
      "source": [
        "with open('{}.vocab'.format(prefix), encoding='utf-8') as f:\n",
        "    vocabs = [doc.strip() for doc in f]\n",
        "\n",
        "print('num of vocabs = {}'.format(len(vocabs))) # 2000\n",
        "print(sp_bpe.unk_id())\n",
        "for id in range (4):\n",
        "  print(sp_bpe.id_to_piece(id),sp_bpe.is_control(id))"
      ],
      "execution_count": 0,
      "outputs": [
        {
          "output_type": "stream",
          "text": [
            "num of vocabs = 15000\n",
            "1\n",
            "<pad> True\n",
            "<unk> False\n",
            "<s> True\n",
            "</s> True\n"
          ],
          "name": "stdout"
        }
      ]
    },
    {
      "cell_type": "code",
      "metadata": {
        "id": "fGxxk97JT9Zl",
        "colab_type": "code",
        "outputId": "0fe1bca0-8554-4b35-fe07-66cbcd242bf5",
        "colab": {
          "base_uri": "https://localhost:8080/",
          "height": 119
        }
      },
      "source": [
        "x_train=train.iloc[:,0]\n",
        "x_val=val.iloc[:,0] \n",
        "y_train=train.iloc[:,1]\n",
        "y_val=val.iloc[:,1]\n",
        "x_train.head()"
      ],
      "execution_count": 0,
      "outputs": [
        {
          "output_type": "execute_result",
          "data": {
            "text/plain": [
              "158891    [88, 484, 154, 98, 1572, 32, 225, 70, 270, 295...\n",
              "15150     [231, 46, 176, 46, 10, 630, 2822, 29, 422, 105...\n",
              "50918     [70, 49, 10, 545, 165, 63, 445, 319, 3418, 149...\n",
              "290189    [802, 172, 1441, 63, 5, 215, 5155, 14972, 90, ...\n",
              "305477    [41, 14973, 14953, 475, 14977, 29, 598, 701, 2...\n",
              "Name: Tokened_Text, dtype: object"
            ]
          },
          "metadata": {
            "tags": []
          },
          "execution_count": 26
        }
      ]
    },
    {
      "cell_type": "code",
      "metadata": {
        "id": "LmGT3Tq5U7wa",
        "colab_type": "code",
        "outputId": "286178e2-ff0f-4b1c-8af5-271bcbacc733",
        "colab": {
          "base_uri": "https://localhost:8080/",
          "height": 187
        }
      },
      "source": [
        "from keras.preprocessing.sequence import pad_sequences\n",
        "\n",
        "#padding zero up to maximum length\n",
        "x_train   =   pad_sequences(x_train,  maxlen=100, padding='post')\n",
        "x_val   =   pad_sequences(x_val, maxlen=100, padding='post')\n",
        "#padding zero up to maximum length\n",
        "y_train    =   pad_sequences(y_train,  maxlen=9, padding='post')\n",
        "y_val   =   pad_sequences(x_val, maxlen=9, padding='post')\n",
        "\n",
        "print(x_train[14])"
      ],
      "execution_count": 0,
      "outputs": [
        {
          "output_type": "stream",
          "text": [
            "Using TensorFlow backend.\n"
          ],
          "name": "stderr"
        },
        {
          "output_type": "stream",
          "text": [
            "[    7  1294 14973 14949  2284  2106   400    63    10   299 14968   203\n",
            "    85 14973 14953   342    78 14973     8  2284 14972   210    78   222\n",
            "    61  1059 14968   715 14972    70   400    49   859   142    63    10\n",
            "   299  1624 14968    41 14973 14953    67  2049    91     5  6839 14973\n",
            " 14953   841 14968   172  4225 10061 14977     0     0     0     0     0\n",
            "     0     0     0     0     0     0     0     0     0     0     0     0\n",
            "     0     0     0     0     0     0     0     0     0     0     0     0\n",
            "     0     0     0     0     0     0     0     0     0     0     0     0\n",
            "     0     0     0     0]\n"
          ],
          "name": "stdout"
        }
      ]
    },
    {
      "cell_type": "code",
      "metadata": {
        "id": "PoCQpbuHVDO3",
        "colab_type": "code",
        "outputId": "a79419b1-63f3-4860-abe7-8ee7366215fb",
        "colab": {
          "base_uri": "https://localhost:8080/",
          "height": 34
        }
      },
      "source": [
        "#we get total unique text tokens x_train =14698\n",
        "x_voc=0\n",
        "x_tokens=[]\n",
        "for row in x_train:\n",
        "  for tokenx in row:\n",
        "    if tokenx not in x_tokens:\n",
        "        x_tokens.append(tokenx)\n",
        "        #print(token, end=' ')\n",
        "        x_voc+=1\n",
        "\n",
        "x_voc=x_voc+1\n",
        "print(x_voc)\n"
      ],
      "execution_count": 0,
      "outputs": [
        {
          "output_type": "stream",
          "text": [
            "14515\n"
          ],
          "name": "stdout"
        }
      ]
    },
    {
      "cell_type": "code",
      "metadata": {
        "id": "ECE4tCpRVISi",
        "colab_type": "code",
        "outputId": "0f46ef3d-5773-45c1-e1c3-673a8b9a5621",
        "colab": {
          "base_uri": "https://localhost:8080/",
          "height": 34
        }
      },
      "source": [
        "x_voc_size=len(sp_bpe)\n",
        "print(x_voc_size)"
      ],
      "execution_count": 0,
      "outputs": [
        {
          "output_type": "stream",
          "text": [
            "15000\n"
          ],
          "name": "stdout"
        }
      ]
    },
    {
      "cell_type": "code",
      "metadata": {
        "id": "TAQE9KTiVOov",
        "colab_type": "code",
        "outputId": "b000ac89-e5c6-44be-81b1-ed2cfe8321d8",
        "colab": {
          "base_uri": "https://localhost:8080/",
          "height": 34
        }
      },
      "source": [
        "#make a comparision between this one and next cell. \n",
        "#we get total unique text tokens y_train =10866\n",
        "y_voc=0\n",
        "y_tokens=[]\n",
        "\n",
        "for row in y_train:\n",
        "  for tokeny in row:\n",
        "    if tokeny not in y_tokens:\n",
        "      y_tokens.append(tokeny)\n",
        "     \n",
        "      y_voc+=1\n",
        "\n",
        "y_voc=y_voc+1 \n",
        "\n",
        "print(y_voc)"
      ],
      "execution_count": 0,
      "outputs": [
        {
          "output_type": "stream",
          "text": [
            "10220\n"
          ],
          "name": "stdout"
        }
      ]
    },
    {
      "cell_type": "code",
      "metadata": {
        "id": "QLO5_bdPVWJa",
        "colab_type": "code",
        "outputId": "3b6a8e63-3f25-48c9-f033-46f0c3cbbc12",
        "colab": {
          "base_uri": "https://localhost:8080/",
          "height": 34
        }
      },
      "source": [
        "y_train.shape"
      ],
      "execution_count": 0,
      "outputs": [
        {
          "output_type": "execute_result",
          "data": {
            "text/plain": [
              "(215224, 9)"
            ]
          },
          "metadata": {
            "tags": []
          },
          "execution_count": 31
        }
      ]
    },
    {
      "cell_type": "code",
      "metadata": {
        "id": "m2dsujKOVZk5",
        "colab_type": "code",
        "outputId": "cd31c85b-a7a3-4324-c0c3-c9fc1738ce1e",
        "colab": {
          "base_uri": "https://localhost:8080/",
          "height": 34
        }
      },
      "source": [
        "x_train.shape"
      ],
      "execution_count": 0,
      "outputs": [
        {
          "output_type": "execute_result",
          "data": {
            "text/plain": [
              "(215224, 100)"
            ]
          },
          "metadata": {
            "tags": []
          },
          "execution_count": 32
        }
      ]
    },
    {
      "cell_type": "code",
      "metadata": {
        "id": "ay5ENBvPV_zY",
        "colab_type": "code",
        "outputId": "f75f1bbd-c7a4-4b98-df16-6f6fb60de191",
        "colab": {
          "base_uri": "https://localhost:8080/",
          "height": 34
        }
      },
      "source": [
        "\n",
        "#we get total unique text tokens y_train =15000 /actually this is the whole voc list size\n",
        "y_voc2=0\n",
        "y_tokens2=[]\n",
        "t = 0\n",
        "for row in y_train:\n",
        "  import numpy as np\n",
        "  t = max(t,np.max(row))\n",
        "  for token in row:\n",
        "    if token not in y_tokens2:\n",
        "      y_tokens2.append(token)\n",
        "      #print(token,end='')\n",
        "      y_voc2+=1\n",
        "\n",
        "y_voc2=y_voc+1 \n",
        "y_voc2 = t+1\n",
        "\n",
        "y_voc2_size=len(sp_bpe)#corrected from sp_bpe2 to sp_bpe\n",
        "print(y_voc2_size)\n"
      ],
      "execution_count": 0,
      "outputs": [
        {
          "output_type": "stream",
          "text": [
            "15000\n"
          ],
          "name": "stdout"
        }
      ]
    },
    {
      "cell_type": "code",
      "metadata": {
        "id": "7F-DI66gk1HF",
        "colab_type": "code",
        "colab": {}
      },
      "source": [
        "#import csv\n",
        "\n",
        "#train_csv = train.to_csv (r'/content/drive/My Drive/amazon-fine-food-reviews/train-real.csv', index = None, header=True)\n",
        "#val_csv = val.to_csv (r'/content/drive/My Drive/amazon-fine-food-reviews/val-real.csv', index = None, header=True)\n",
        "\n"
      ],
      "execution_count": 0,
      "outputs": []
    },
    {
      "cell_type": "code",
      "metadata": {
        "id": "8kls5bACF7rX",
        "colab_type": "code",
        "outputId": "ceffabf3-6640-438a-f781-f8a8882b7c2e",
        "colab": {
          "base_uri": "https://localhost:8080/",
          "height": 51
        }
      },
      "source": [
        "\n",
        "print(len(train))\n",
        "print(len(val))\n"
      ],
      "execution_count": 0,
      "outputs": [
        {
          "output_type": "stream",
          "text": [
            "215224\n",
            "92239\n"
          ],
          "name": "stdout"
        }
      ]
    },
    {
      "cell_type": "code",
      "metadata": {
        "id": "RetSUFUCneLG",
        "colab_type": "code",
        "colab": {}
      },
      "source": [
        "#df = pd.read_csv(r'/content/drive/My Drive/amazon-fine-food-reviews/train-real.csv')\n",
        "##Dataset is now stored in a Pandas Dataframe\n",
        "\n",
        "#df_v = pd.read_csv(r'/content/drive/My Drive/amazon-fine-food-reviews/val-real.csv')\n",
        "#len(df_v)"
      ],
      "execution_count": 0,
      "outputs": []
    },
    {
      "cell_type": "code",
      "metadata": {
        "id": "rpSq9KBbWe_1",
        "colab_type": "code",
        "outputId": "060718f1-dc3e-4073-d05c-f069df195d71",
        "colab": {
          "base_uri": "https://localhost:8080/",
          "height": 34
        }
      },
      "source": [
        "import tensorflow as tf\n",
        "\n",
        "#from keras.preprocessing.text import Tokenizer \n",
        "#from nltk.corpus import stopwords   \n",
        "from tensorflow.keras.layers import Input, LSTM, Embedding, Dense, Concatenate, TimeDistributed, Bidirectional\n",
        "from tensorflow.keras.models import Model\n",
        "from tensorflow.keras.callbacks import EarlyStopping\n",
        "import warnings\n",
        "from tensorflow.python.layers.core import Dense\n",
        "from tensorflow.python.ops.rnn_cell_impl import _zero_state_tensors\n",
        "print('TensorFlow Version: {}'.format(tf.__version__))"
      ],
      "execution_count": 0,
      "outputs": [
        {
          "output_type": "stream",
          "text": [
            "TensorFlow Version: 1.15.0\n"
          ],
          "name": "stdout"
        }
      ]
    },
    {
      "cell_type": "code",
      "metadata": {
        "id": "cJiozM0npZtp",
        "colab_type": "code",
        "colab": {}
      },
      "source": [
        "import time\n",
        "from tensorflow import keras\n",
        "import datetime, os\n",
        "\n",
        "#import datetime, os\n",
        "from tensorflow.python.keras.callbacks import TensorBoard\n"
      ],
      "execution_count": 0,
      "outputs": []
    },
    {
      "cell_type": "code",
      "metadata": {
        "id": "5fRkrrY4WkkD",
        "colab_type": "code",
        "outputId": "12d4548c-c530-4126-e280-eb4078337930",
        "colab": {
          "base_uri": "https://localhost:8080/",
          "height": 836
        }
      },
      "source": [
        "from keras import backend as K\n",
        "from tensorflow.keras.layers import *\n",
        "from attention import *\n",
        "K.clear_session()\n",
        "\n",
        "latent_dim = 300\n",
        "embedding_dim=100  # output vector from embedding layer\n",
        "\n",
        "#encoder\n",
        "\n",
        "max_text_len=100\n",
        "\n",
        "encoder_inputs = Input(shape=(max_text_len,)) \n",
        "encoder_embedding = Embedding(x_voc_size, embedding_dim, trainable=True)(encoder_inputs)\n",
        "\n",
        "\n",
        "#encoder_lstm1\n",
        "encoder_LSTM1=LSTM(latent_dim, return_sequences=True, return_state=True, dropout=0.4, recurrent_dropout=0.4)\n",
        "encoder_output1,state_h1,state_c1=encoder_LSTM1(encoder_embedding)\n",
        "\n",
        "#encoder_lstm2\n",
        "encoder_LSTM2=LSTM(latent_dim, return_sequences=True, return_state=True, dropout=0.4, recurrent_dropout=0.4)\n",
        "encoder_output2,state_h2,state_c2=encoder_LSTM2(encoder_output1)\n",
        "\n",
        "#encoder_lstm3\n",
        "encoder_LSTM3=LSTM(latent_dim, return_sequences=True, return_state=True, dropout=0.4, recurrent_dropout=0.4)\n",
        "encoder_outputs,state_h,state_c=encoder_LSTM3(encoder_output2)\n",
        "\n",
        "# Set up the decoder, using `encoder_states` as initial state.\n",
        "decoder_inputs = Input(shape=(None,))\n",
        "\n",
        "#embedding layer\n",
        "dec_emb_layer = Embedding(y_voc2_size, embedding_dim,trainable=True)\n",
        "dec_emb = dec_emb_layer(decoder_inputs)\n",
        "\n",
        "decoder_lstm = LSTM(latent_dim, return_sequences=True, return_state=True,dropout=0.4,recurrent_dropout=0.4)\n",
        "decoder_outputs,decoder_fwd_state, decoder_back_state = decoder_lstm(dec_emb,initial_state=[state_h, state_c])\n",
        "\n",
        "#Attention layer\n",
        "attn_layer = AttentionLayer(name='attention_layer')\n",
        "attn_out, attn_states = attn_layer([encoder_outputs, decoder_outputs])\n",
        "\n",
        "# Concat attention input and decoder LSTM output\n",
        "decoder_concat_input = Concatenate(axis=-1, name='concat_layer')([decoder_outputs, attn_out])\n",
        "\n",
        "#dense layer\n",
        "decoder_dense =  TimeDistributed(Dense(y_voc2_size, activation='softmax'))\n",
        "decoder_outputs = decoder_dense(decoder_concat_input)\n",
        "\n",
        "# Define the model \n",
        "model = Model([encoder_inputs, decoder_inputs], decoder_outputs)\n",
        "\n",
        "model.summary()"
      ],
      "execution_count": 0,
      "outputs": [
        {
          "output_type": "stream",
          "text": [
            "WARNING:tensorflow:From /usr/local/lib/python3.6/dist-packages/tensorflow_core/python/keras/initializers.py:119: calling RandomUniform.__init__ (from tensorflow.python.ops.init_ops) with dtype is deprecated and will be removed in a future version.\n",
            "Instructions for updating:\n",
            "Call initializer instance with the dtype argument instead of passing it to the constructor\n"
          ],
          "name": "stdout"
        },
        {
          "output_type": "stream",
          "text": [
            "WARNING:tensorflow:From /usr/local/lib/python3.6/dist-packages/tensorflow_core/python/keras/initializers.py:119: calling RandomUniform.__init__ (from tensorflow.python.ops.init_ops) with dtype is deprecated and will be removed in a future version.\n",
            "Instructions for updating:\n",
            "Call initializer instance with the dtype argument instead of passing it to the constructor\n"
          ],
          "name": "stderr"
        },
        {
          "output_type": "stream",
          "text": [
            "WARNING:tensorflow:From /usr/local/lib/python3.6/dist-packages/tensorflow_core/python/ops/resource_variable_ops.py:1630: calling BaseResourceVariable.__init__ (from tensorflow.python.ops.resource_variable_ops) with constraint is deprecated and will be removed in a future version.\n",
            "Instructions for updating:\n",
            "If using Keras pass *_constraint arguments to layers.\n"
          ],
          "name": "stdout"
        },
        {
          "output_type": "stream",
          "text": [
            "WARNING:tensorflow:From /usr/local/lib/python3.6/dist-packages/tensorflow_core/python/ops/resource_variable_ops.py:1630: calling BaseResourceVariable.__init__ (from tensorflow.python.ops.resource_variable_ops) with constraint is deprecated and will be removed in a future version.\n",
            "Instructions for updating:\n",
            "If using Keras pass *_constraint arguments to layers.\n",
            "INFO:numexpr.utils:NumExpr defaulting to 2 threads.\n"
          ],
          "name": "stderr"
        },
        {
          "output_type": "stream",
          "text": [
            "Model: \"model\"\n",
            "__________________________________________________________________________________________________\n",
            "Layer (type)                    Output Shape         Param #     Connected to                     \n",
            "==================================================================================================\n",
            "input_1 (InputLayer)            [(None, 100)]        0                                            \n",
            "__________________________________________________________________________________________________\n",
            "embedding (Embedding)           (None, 100, 100)     1500000     input_1[0][0]                    \n",
            "__________________________________________________________________________________________________\n",
            "lstm (LSTM)                     [(None, 100, 300), ( 481200      embedding[0][0]                  \n",
            "__________________________________________________________________________________________________\n",
            "input_2 (InputLayer)            [(None, None)]       0                                            \n",
            "__________________________________________________________________________________________________\n",
            "lstm_1 (LSTM)                   [(None, 100, 300), ( 721200      lstm[0][0]                       \n",
            "__________________________________________________________________________________________________\n",
            "embedding_1 (Embedding)         (None, None, 100)    1500000     input_2[0][0]                    \n",
            "__________________________________________________________________________________________________\n",
            "lstm_2 (LSTM)                   [(None, 100, 300), ( 721200      lstm_1[0][0]                     \n",
            "__________________________________________________________________________________________________\n",
            "lstm_3 (LSTM)                   [(None, None, 300),  481200      embedding_1[0][0]                \n",
            "                                                                 lstm_2[0][1]                     \n",
            "                                                                 lstm_2[0][2]                     \n",
            "__________________________________________________________________________________________________\n",
            "attention_layer (AttentionLayer ((None, None, 300),  180300      lstm_2[0][0]                     \n",
            "                                                                 lstm_3[0][0]                     \n",
            "__________________________________________________________________________________________________\n",
            "concat_layer (Concatenate)      (None, None, 600)    0           lstm_3[0][0]                     \n",
            "                                                                 attention_layer[0][0]            \n",
            "__________________________________________________________________________________________________\n",
            "time_distributed (TimeDistribut (None, None, 15000)  9015000     concat_layer[0][0]               \n",
            "==================================================================================================\n",
            "Total params: 14,600,100\n",
            "Trainable params: 14,600,100\n",
            "Non-trainable params: 0\n",
            "__________________________________________________________________________________________________\n"
          ],
          "name": "stdout"
        }
      ]
    },
    {
      "cell_type": "code",
      "metadata": {
        "id": "C3UzLkwsXAYB",
        "colab_type": "code",
        "colab": {}
      },
      "source": [
        "#Can I use TensorBoard with Google Colab?\n",
        "#Tensorboard: ValueError: Duplicate plugins for name projector #22676\n",
        "#https://github.com/pytorch/pytorch/issues/22676\n",
        "\n",
        "logs_base_dir = \"./logs\"\n",
        "logdir = os.path.join(logs_base_dir, datetime.datetime.now().strftime(\"%Y%m%d-%H%M%S\"))\n",
        "tensorboard_callback = tf.keras.callbacks.TensorBoard(logdir)\n",
        "\n",
        "model.compile(optimizer='rmsprop', loss='sparse_categorical_crossentropy')\n",
        "es = EarlyStopping(monitor='val_loss', mode='min', verbose=1,patience=8)"
      ],
      "execution_count": 0,
      "outputs": []
    },
    {
      "cell_type": "code",
      "metadata": {
        "id": "IUpspmzHXFqx",
        "colab_type": "code",
        "outputId": "93cb01d2-0311-40fd-f04c-ba28c24c8780",
        "colab": {
          "base_uri": "https://localhost:8080/",
          "height": 326
        }
      },
      "source": [
        "history=model.fit([x_train,y_train[:,:-1]], y_train.reshape(y_train.shape[0],y_train.shape[1], 1)[:,1:] ,epochs=5,callbacks=[es, tensorboard_callback],batch_size=384, validation_data=([x_val,y_val[:,:-1]], y_val.reshape(y_val.shape[0],y_val.shape[1], 1)[:,1:]))"
      ],
      "execution_count": 0,
      "outputs": [
        {
          "output_type": "stream",
          "text": [
            "WARNING:tensorflow:From /usr/local/lib/python3.6/dist-packages/tensorflow_core/python/ops/math_grad.py:1424: where (from tensorflow.python.ops.array_ops) is deprecated and will be removed in a future version.\n",
            "Instructions for updating:\n",
            "Use tf.where in 2.0, which has the same broadcast rule as np.where\n"
          ],
          "name": "stdout"
        },
        {
          "output_type": "stream",
          "text": [
            "WARNING:tensorflow:From /usr/local/lib/python3.6/dist-packages/tensorflow_core/python/ops/math_grad.py:1424: where (from tensorflow.python.ops.array_ops) is deprecated and will be removed in a future version.\n",
            "Instructions for updating:\n",
            "Use tf.where in 2.0, which has the same broadcast rule as np.where\n"
          ],
          "name": "stderr"
        },
        {
          "output_type": "stream",
          "text": [
            "Train on 215985 samples, validate on 92566 samples\n",
            "Epoch 1/5\n",
            "215985/215985 [==============================] - 1149s 5ms/sample - loss: 2.7536 - val_loss: 0.2100\n",
            "Epoch 2/5\n",
            "215985/215985 [==============================] - 1135s 5ms/sample - loss: 2.3579 - val_loss: 0.2260\n",
            "Epoch 3/5\n",
            "215985/215985 [==============================] - 1139s 5ms/sample - loss: 2.1890 - val_loss: 0.2285\n",
            "Epoch 4/5\n",
            "215985/215985 [==============================] - 1141s 5ms/sample - loss: 2.0954 - val_loss: 0.2434\n",
            "Epoch 5/5\n",
            "215985/215985 [==============================] - 1133s 5ms/sample - loss: 2.0320 - val_loss: 0.2354\n"
          ],
          "name": "stdout"
        }
      ]
    },
    {
      "cell_type": "code",
      "metadata": {
        "id": "CJHhz0ma_w38",
        "colab_type": "code",
        "outputId": "23ce0452-3ab3-4032-b338-5b0ddea9574c",
        "colab": {
          "base_uri": "https://localhost:8080/",
          "height": 204
        }
      },
      "source": [
        "mytest = sp_bpe.encode_as_ids('love this bbq sauce... can\\'t wait for this to be more available, i buy it up if i see a few at the local stores.')\n",
        "newtest= sp_bpe.encode_as_ids('and I feel like a new man with this bag I looooove it !!')\n",
        "print(mytest)\n",
        "test = pad_sequences([newtest],  maxlen=100, padding='post')\n",
        "print(test)\n",
        "secNewTest=sp_bpe.DecodeIds(newtest)\n",
        "#?? means UNK\n",
        "print(secNewTest)"
      ],
      "execution_count": 0,
      "outputs": [
        {
          "output_type": "stream",
          "text": [
            "[2, 215, 66, 1696, 941, 313, 139, 14973, 14949, 1653, 62, 66, 31, 61, 226, 1111, 14972, 6, 254, 39, 248, 199, 6, 371, 5, 583, 165, 10, 771, 948, 14968, 3]\n",
            "[[    2    30 14947     1   736   125     5   580  1154    90    66   287\n",
            "  14947     1 10093  3028    39  8801     3     0     0     0     0     0\n",
            "      0     0     0     0     0     0     0     0     0     0     0     0\n",
            "      0     0     0     0     0     0     0     0     0     0     0     0\n",
            "      0     0     0     0     0     0     0     0     0     0     0     0\n",
            "      0     0     0     0     0     0     0     0     0     0     0     0\n",
            "      0     0     0     0     0     0     0     0     0     0     0     0\n",
            "      0     0     0     0     0     0     0     0     0     0     0     0\n",
            "      0     0     0     0]]\n",
            "and  ⁇  feel like a new man with this bag  ⁇  looooove it !!\n"
          ],
          "name": "stdout"
        }
      ]
    },
    {
      "cell_type": "code",
      "metadata": {
        "id": "v1jjoLBvtknS",
        "colab_type": "code",
        "colab": {}
      },
      "source": [
        "\n",
        "# Encode the input sequence to get the feature vector\n",
        "encoder_model = Model(inputs=encoder_inputs,outputs=[encoder_outputs, state_h, state_c])\n",
        "\n",
        "# Decoder setup\n",
        "# Below tensors will hold the states of the previous time step\n",
        "decoder_state_input_h = Input(shape=(latent_dim,))\n",
        "decoder_state_input_c = Input(shape=(latent_dim,))\n",
        "decoder_hidden_state_input = Input(shape=(max_text_len,latent_dim))\n",
        "\n",
        "# Get the embeddings of the decoder sequence\n",
        "dec_emb2= dec_emb_layer(decoder_inputs) \n",
        "# To predict the next word in the sequence, set the initial states to the states from the previous time step\n",
        "decoder_outputs2, state_h2, state_c2 = decoder_lstm(dec_emb2, initial_state=[decoder_state_input_h, decoder_state_input_c])\n",
        "\n",
        "#attention inference\n",
        "attn_out_inf, attn_states_inf = attn_layer([decoder_hidden_state_input, decoder_outputs2])\n",
        "decoder_inf_concat = Concatenate(axis=-1, name='concat')([decoder_outputs2, attn_out_inf])\n",
        "\n",
        "# A dense softmax layer to generate prob dist. over the target vocabulary\n",
        "decoder_outputs2 = decoder_dense(decoder_inf_concat) \n",
        "\n",
        "# Final decoder model\n",
        "decoder_model = Model(\n",
        "    [decoder_inputs] + [decoder_hidden_state_input,decoder_state_input_h, decoder_state_input_c],\n",
        "    [decoder_outputs2] + [state_h2, state_c2])\n",
        "\n",
        "max_summary_len = 9\n",
        "def decode_sequence(input_seq):\n",
        "    # Encode the input as state vectors.\n",
        "    e_out, e_h, e_c = encoder_model.predict(input_seq)\n",
        "\n",
        "    # Generate empty target sequence of length 1.\n",
        "    target_seq = np.zeros((1,1))\n",
        "    \n",
        "    # Populate the first word of target sequence with the start word.\n",
        "    target_seq[0, 0] = 2 #target_word_index['sostok']\n",
        "\n",
        "    stop_condition = False\n",
        "    decoded_sentence = ''\n",
        "    while not stop_condition:\n",
        "      \n",
        "        output_tokens, h, c = decoder_model.predict([target_seq] + [e_out, e_h, e_c])\n",
        "\n",
        "        # Sample a token\n",
        "        sampled_token_index = int(np.argmax(output_tokens[0, -1, :]))\n",
        "        sampled_token = sp_bpe.DecodeIds([sampled_token_index]) #reverse_target_word_index[sampled_token_index]\n",
        "        \n",
        "        if(sampled_token!=3):#'eostok'):\n",
        "            decoded_sentence += ' '+sampled_token\n",
        "\n",
        "        # Exit condition: either hit max length or find stop word.\n",
        "        if (sampled_token_index == 3 or sampled_token_index == 0 or len(decoded_sentence.split()) >= (max_summary_len-1)):\n",
        "            stop_condition = True\n",
        "\n",
        "        # Update the target sequence (of length 1).\n",
        "        target_seq = np.zeros((1,1))\n",
        "        target_seq[0, 0] = sampled_token_index\n",
        "\n",
        "        # Update internal states\n",
        "        e_h, e_c = h, c\n",
        "\n",
        "    return decoded_sentence\n",
        "  \n",
        "#decode_sequence(test)"
      ],
      "execution_count": 0,
      "outputs": []
    },
    {
      "cell_type": "code",
      "metadata": {
        "id": "YoB3qfYmnARZ",
        "colab_type": "code",
        "colab": {}
      },
      "source": [
        "#define the functions to convert an integer sequence to a word sequence for summary as well as the reviews:\n",
        "\n",
        "def seq2summary(input_seq):\n",
        "    newString=''\n",
        "    for i in input_seq:\n",
        "        if((i!=0 and i!=target_seq[2]) and i!=target_seq[3]):\n",
        "            newString=newString+sp_bpe.DecodeIds[i]+' '\n",
        "    return newString\n",
        "\n",
        "def seq2text(input_seq):\n",
        "    newString=''\n",
        "    for i in input_seq:\n",
        "        if(i!=0):\n",
        "            newString=newString+sp_bpe2.DecodeIds[i]+' '\n",
        "    return newString"
      ],
      "execution_count": 0,
      "outputs": []
    },
    {
      "cell_type": "code",
      "metadata": {
        "id": "sgjoqA8hk6x8",
        "colab_type": "code",
        "outputId": "39ded62f-c4ea-4705-ac7b-6656570f2624",
        "colab": {
          "base_uri": "https://localhost:8080/",
          "height": 85
        }
      },
      "source": [
        "!pip install rouge"
      ],
      "execution_count": 0,
      "outputs": [
        {
          "output_type": "stream",
          "text": [
            "Collecting rouge\n",
            "  Downloading https://files.pythonhosted.org/packages/63/ac/b93411318529980ab7f41e59ed64ec3ffed08ead32389e29eb78585dd55d/rouge-0.3.2-py3-none-any.whl\n",
            "Installing collected packages: rouge\n",
            "Successfully installed rouge-0.3.2\n"
          ],
          "name": "stdout"
        }
      ]
    },
    {
      "cell_type": "code",
      "metadata": {
        "id": "jacAOdpUe5Ed",
        "colab_type": "code",
        "outputId": "818d91bf-9245-43bc-8773-feba17554614",
        "colab": {
          "base_uri": "https://localhost:8080/",
          "height": 54
        }
      },
      "source": [
        "#test some examples\n",
        "from rouge import Rouge \n",
        "\n",
        "hypothesis = \"the #### transcript is a written version of each day 's cnn student news program use this transcript to help students with reading comprehension and vocabulary use the weekly newsquiz to test your knowledge of storie s you     saw on cnn student news\"\n",
        "\n",
        "reference = \"this page includes the show transcript use the transcript to help students with reading comprehension and vocabulary at the bottom of the page , comment for a chance to be mentioned on cnn student news . you must be a teac    her or a student age # # or older to request a mention on the cnn student news roll call . the weekly newsquiz tests     students ' knowledge of even ts in the news\"\n",
        "\n",
        "rouge = Rouge()\n",
        "scores = rouge.get_scores(hypothesis, reference)\n",
        "print(scores)"
      ],
      "execution_count": 0,
      "outputs": [
        {
          "output_type": "stream",
          "text": [
            "[{'rouge-1': {'f': 0.5238095189484127, 'p': 0.6285714285714286, 'r': 0.4489795918367347}, 'rouge-2': {'f': 0.2727272680991736, 'p': 0.375, 'r': 0.21428571428571427}, 'rouge-l': {'f': 0.4517704517703128, 'p': 0.5714285714285714, 'r': 0.40816326530612246}}]\n"
          ],
          "name": "stdout"
        }
      ]
    },
    {
      "cell_type": "code",
      "metadata": {
        "id": "jIWZoaEUXpqT",
        "colab_type": "code",
        "outputId": "17db11a8-09a1-4e47-ca76-db3b4c03a3bd",
        "colab": {
          "base_uri": "https://localhost:8080/",
          "height": 1000
        }
      },
      "source": [
        "for i in range(200,300):\n",
        "    print(\"Review:\",sp_bpe2.DecodeIds(x_train[i].tolist()))\n",
        "    print(\"Original summary:\",sp_bpe.DecodeIds(y_train[i].tolist()))\n",
        "    print(\"Predicted summary:\", decode_sequence(x_train[i].reshape(1,max_text_len)))\n",
        " \n",
        "    #ref. https://pypi.org/project/rouge/\n",
        "    rouge=Rouge()\n",
        "    scores = rouge.get_scores(decode_sequence(x_train[i].reshape(1,max_text_len)),sp_bpe.DecodeIds(y_train[i].tolist()),avg=True)\n",
        "    print(scores)\n",
        "  \n",
        "    print(\"\\n\")"
      ],
      "execution_count": 0,
      "outputs": [
        {
          "output_type": "stream",
          "text": [
            "Review: they just dont have that slim jim snap. really, they are kind of gross. m brother seems to like hem though so all is not lost.\n",
            "Original summary: no snap\n",
            "Predicted summary:  not so good \n",
            "{'rouge-1': {'f': 0.0, 'p': 0.0, 'r': 0.0}, 'rouge-2': {'f': 0.0, 'p': 0.0, 'r': 0.0}, 'rouge-l': {'f': 0.0, 'p': 0.0, 'r': 0.0}}\n",
            "\n",
            "\n",
            "Review: there wonderful, my dog loves them, and i feel good giving them to him, i will always get these for him.\n",
            "Original summary: my dog loves these!!!!!!!!!!!!!!!!!!\n",
            "Predicted summary:  great product \n",
            "{'rouge-1': {'f': 0.0, 'p': 0.0, 'r': 0.0}, 'rouge-2': {'f': 0.0, 'p': 0.0, 'r': 0.0}, 'rouge-l': {'f': 0.0, 'p': 0.0, 'r': 0.0}}\n",
            "\n",
            "\n",
            "Review: very unique and flavorful gummies. they don't have the texture or the chew of haribo, but they are very good in their own right. for the price you really can't go wrong.\n",
            "Original summary: great for the price\n",
            "Predicted summary:  great product \n",
            "{'rouge-1': {'f': 0.33333332888888895, 'p': 0.5, 'r': 0.25}, 'rouge-2': {'f': 0.0, 'p': 0.0, 'r': 0.0}, 'rouge-l': {'f': 0.27777777777785184, 'p': 0.5, 'r': 0.25}}\n",
            "\n",
            "\n",
            "Review: these treats are fantastic. my dog loves them. just freeze the treat and open the small container and let your little (or big) pet enjoy the healthy cold treat. i didn't remember where i first bought the treats and took a chance through amazon to buy them. of course, amazon had them through third party. i can always count on amazon and the products they represent.\n",
            "Original summary: dog lovers\n",
            "Predicted summary:  my dogs love these \n",
            "{'rouge-1': {'f': 0.0, 'p': 0.0, 'r': 0.0}, 'rouge-2': {'f': 0.0, 'p': 0.0, 'r': 0.0}, 'rouge-l': {'f': 0.0, 'p': 0.0, 'r': 0.0}}\n",
            "\n",
            "\n",
            "Review: when i need a snack i know fruit would be better for me, but chips are easier to eat. then i discovered how easy this is to eat and how much better for me.\n",
            "Original summary: better than chips\n",
            "Predicted summary:  great snack \n",
            "{'rouge-1': {'f': 0.0, 'p': 0.0, 'r': 0.0}, 'rouge-2': {'f': 0.0, 'p': 0.0, 'r': 0.0}, 'rouge-l': {'f': 0.0, 'p': 0.0, 'r': 0.0}}\n",
            "\n",
            "\n",
            "Review: we liked this product and so bought bulks from amazon. this was our second box of 12. now we find quite some crackers are in clumps which are not fully baked due to their size. these days machines should have automatic senors that can reject the poorly formed crackers. it makes me wonder the condition of the factory and how organic products are qualified.\n",
            "Original summary: got some poorly formed crackers\n",
            "Predicted summary:  not as advertised \n",
            "{'rouge-1': {'f': 0.0, 'p': 0.0, 'r': 0.0}, 'rouge-2': {'f': 0.0, 'p': 0.0, 'r': 0.0}, 'rouge-l': {'f': 0.0, 'p': 0.0, 'r': 0.0}}\n",
            "\n",
            "\n",
            "Review: vine sent this is a box 100 times bigger than the tea packet. the wife made the tea and she drank it.m mshe said that it was ok, nothing to really write home about. she said that it tasted like ginger ta with a touch of lemon\n",
            "Original summary: lemon ginger tea\n",
            "Predicted summary:  not a fan \n",
            "{'rouge-1': {'f': 0.0, 'p': 0.0, 'r': 0.0}, 'rouge-2': {'f': 0.0, 'p': 0.0, 'r': 0.0}, 'rouge-l': {'f': 0.0, 'p': 0.0, 'r': 0.0}}\n",
            "\n",
            "\n",
            "Review: i think for this type of product, the taste weights at least 30% of its overall characters. i didn't try any \"previous formula\", but this version does not taste good, it makes me feel a little \"dusty\". the effect is good and can help me refresh quickly.\n",
            "Original summary: the taste is bad through...\n",
            "Predicted summary:  not the same \n",
            "{'rouge-1': {'f': 0.24999999531250006, 'p': 0.3333333333333333, 'r': 0.2}, 'rouge-2': {'f': 0.0, 'p': 0.0, 'r': 0.0}, 'rouge-l': {'f': 0.22368421052631188, 'p': 0.3333333333333333, 'r': 0.2}}\n",
            "\n",
            "\n",
            "Review: i tried this for the first time lately, i had two packets in the cupboard and needed a meal for friend's i just added a 1kg of seafood extender 500 gm seafood mix and some light cheese on top, it made a great meal with very little work,<br />everyone wanted the recipe !\n",
            "Original summary: top product\n",
            "Predicted summary:  great product \n",
            "{'rouge-1': {'f': 0.4999999950000001, 'p': 0.5, 'r': 0.5}, 'rouge-2': {'f': 0.0, 'p': 0.0, 'r': 0.0}, 'rouge-l': {'f': 0.4999999999995, 'p': 0.5, 'r': 0.5}}\n",
            "\n",
            "\n",
            "Review: this coffee is consistently delicious. very bold taste for the real coffee drinker. if you want a great breakfast coffee, or late morning pick up this is for you.\n",
            "Original summary: very bold\n",
            "Predicted summary:  great coffee \n",
            "{'rouge-1': {'f': 0.0, 'p': 0.0, 'r': 0.0}, 'rouge-2': {'f': 0.0, 'p': 0.0, 'r': 0.0}, 'rouge-l': {'f': 0.0, 'p': 0.0, 'r': 0.0}}\n",
            "\n",
            "\n",
            "Review: i have purchased other hot cocoa cups but find grove square to be about the best of them all. i usually add two teaspoons of the the flavored coffeemate creamers, my favorite being the sugar free caramel macchiato. by adding the sugar free creamer the taste is there but not the calories.\n",
            "Original summary: great taste\n",
            "Predicted summary:  great taste \n",
            "{'rouge-1': {'f': 0.999999995, 'p': 1.0, 'r': 1.0}, 'rouge-2': {'f': 0.999999995, 'p': 1.0, 'r': 1.0}, 'rouge-l': {'f': 0.9999999999995, 'p': 1.0, 'r': 1.0}}\n",
            "\n",
            "\n",
            "Review: we're going through training school with our puppy and we need lots of healthy treats and snacks that aren't going to hurt her digestive system, since she seems to have a sensitive stomach. these are great- my dog loves them and i love that amazon has bulk ordering deals. it saves me time, bus fare, and is about half the price of the treats in the stores where i live. i hope these deals stay around for awhile!\n",
            "Original summary: yummy healthy treats!\n",
            "Predicted summary:  my dogs love these ! \n",
            "{'rouge-1': {'f': 0.0, 'p': 0.0, 'r': 0.0}, 'rouge-2': {'f': 0.0, 'p': 0.0, 'r': 0.0}, 'rouge-l': {'f': 0.0, 'p': 0.0, 'r': 0.0}}\n",
            "\n",
            "\n",
            "Review: i'm not a big fan of this coffee. it has a slightly bitter flavor as well as the proverbial decaf after-taste, so i won't order again.\n",
            "Original summary: not a big fan\n",
            "Predicted summary:  good coffee \n",
            "{'rouge-1': {'f': 0.0, 'p': 0.0, 'r': 0.0}, 'rouge-2': {'f': 0.0, 'p': 0.0, 'r': 0.0}, 'rouge-l': {'f': 0.0, 'p': 0.0, 'r': 0.0}}\n",
            "\n",
            "\n",
            "Review: bought this flavor to try: it is amazing. it has a great berry flavor and is incredibly smooth. you can see the quality when you open the can: whole, dry berries and whole needle tea.\n",
            "Original summary: terrific tea\n",
            "Predicted summary:  great product \n",
            "{'rouge-1': {'f': 0.0, 'p': 0.0, 'r': 0.0}, 'rouge-2': {'f': 0.0, 'p': 0.0, 'r': 0.0}, 'rouge-l': {'f': 0.0, 'p': 0.0, 'r': 0.0}}\n",
            "\n",
            "\n",
            "Review: let me preference this by saying that i had never had egg flower soup or corn soup before. i was hesitant to try it, but it was pretty good. after the first time i've played around adding seasoning, spring onions, chopped veg, etc. however, that's not necessary. it's very quick to prepare. just pour the mix into your water, boil, stir in a well beaten egg, and your done.\n",
            "Original summary: good soup\n",
            "Predicted summary:  not the best \n",
            "{'rouge-1': {'f': 0.0, 'p': 0.0, 'r': 0.0}, 'rouge-2': {'f': 0.0, 'p': 0.0, 'r': 0.0}, 'rouge-l': {'f': 0.0, 'p': 0.0, 'r': 0.0}}\n",
            "\n",
            "\n",
            "Review: this price is not good by any stretch of the imagination! the coffee is great but you can buy it at sam's club for about half this price. $11.88 for 33.9 oz.\n",
            "Original summary: folger's price\n",
            "Predicted summary:  great coffee \n",
            "{'rouge-1': {'f': 0.0, 'p': 0.0, 'r': 0.0}, 'rouge-2': {'f': 0.0, 'p': 0.0, 'r': 0.0}, 'rouge-l': {'f': 0.0, 'p': 0.0, 'r': 0.0}}\n",
            "\n",
            "\n",
            "Review: i ordered the variety pack and 4 of this flavor came in it. it is absolutely the worst thing i have ever tasted in my life!<br /><br />i tried to drink them without tasting them, but it didn't work. they were just sooooo bad i had to dump the rest down the drain.<br /><br />order another flavor and stay away from this abomination they call a drink.\n",
            "Original summary: yuk!\n",
            "Predicted summary:  not the same \n",
            "{'rouge-1': {'f': 0.0, 'p': 0.0, 'r': 0.0}, 'rouge-2': {'f': 0.0, 'p': 0.0, 'r': 0.0}, 'rouge-l': {'f': 0.0, 'p': 0.0, 'r': 0.0}}\n",
            "\n",
            "\n",
            "Review: this was a birthday gift and received very happily and gladly and put to use immediately. they arrived on time, were beautiful and worked great.\n",
            "Original summary: egg cups & spoons\n",
            "Predicted summary:  great product \n",
            "{'rouge-1': {'f': 0.0, 'p': 0.0, 'r': 0.0}, 'rouge-2': {'f': 0.0, 'p': 0.0, 'r': 0.0}, 'rouge-l': {'f': 0.0, 'p': 0.0, 'r': 0.0}}\n",
            "\n",
            "\n",
            "Review: this is just like the ones we played with when we were kids in the sixties! these are the good old-fashioned kind that are made of hard rubber and bounce!!! the kids got them in their stockings and have played with them everyday. they are so tough the ferrets can't even get a good hold on them to chew them up!\n",
            "Original summary: great toy!\n",
            "Predicted summary:  great product \n",
            "{'rouge-1': {'f': 0.4999999950000001, 'p': 0.5, 'r': 0.5}, 'rouge-2': {'f': 0.0, 'p': 0.0, 'r': 0.0}, 'rouge-l': {'f': 0.4999999999995, 'p': 0.5, 'r': 0.5}}\n",
            "\n",
            "\n",
            "Review: this product is very good and doesn't last long at the house ... only complaint is few large pieces mostly tiny scraps that r very small\n",
            "Original summary: excellent product\n",
            "Predicted summary:  great product \n",
            "{'rouge-1': {'f': 0.4999999950000001, 'p': 0.5, 'r': 0.5}, 'rouge-2': {'f': 0.0, 'p': 0.0, 'r': 0.0}, 'rouge-l': {'f': 0.4999999999995, 'p': 0.5, 'r': 0.5}}\n",
            "\n",
            "\n",
            "Review: grilled out brats, chicken, and burgers for the entire family yesterday. covered all of it with country bob's seasoning and all purpose sauce! the family loved it. best sauce available!! can't wait to use it on my steaks tonight!\n",
            "Original summary: amazing!!!!!\n",
            "Predicted summary:  great stuff ! \n",
            "{'rouge-1': {'f': 0.0, 'p': 0.0, 'r': 0.0}, 'rouge-2': {'f': 0.0, 'p': 0.0, 'r': 0.0}, 'rouge-l': {'f': 0.0, 'p': 0.0, 'r': 0.0}}\n",
            "\n",
            "\n",
            "Review: my lil pup loves his treats! recently when i was visiting my moms house he found his way under and was being a lil explorer and i shook the bag of treats and he came running. i ordered a bag to try then ordered two more shortly after. only thing i found was strage is that the packaging went from 2 calories to 3 per treat- no biggie just weird.\n",
            "Original summary: payton loves these!\n",
            "Predicted summary:  my dogs love these \n",
            "{'rouge-1': {'f': 0.0, 'p': 0.0, 'r': 0.0}, 'rouge-2': {'f': 0.0, 'p': 0.0, 'r': 0.0}, 'rouge-l': {'f': 0.0, 'p': 0.0, 'r': 0.0}}\n",
            "\n",
            "\n",
            "Review: our french bulldog will eat just about any sort of treat, so i can't comment for those who have picky eaters. we bought these with an eye towards reducing gas and they have worked great. we can give him a handful of these per day without a increase in farts. great price too for how many are included.\n",
            "Original summary: great hard treats, no gas\n",
            "Predicted summary:  my dog loves these \n",
            "{'rouge-1': {'f': 0.0, 'p': 0.0, 'r': 0.0}, 'rouge-2': {'f': 0.0, 'p': 0.0, 'r': 0.0}, 'rouge-l': {'f': 0.0, 'p': 0.0, 'r': 0.0}}\n",
            "\n",
            "\n",
            "Review: i love this tea. i ordered some 100 ct boxes of different teas for our small resort. i don't like green or black tea, even if it's flavored. but a customer tried this flavor and it smelled so good to me that i had to try one. yum! i just added a spot of sugar and it was like a dessert to me. finally an enjoyable way to get some green tea into me.\n",
            "Original summary: wonderful and flavorful\n",
            "Predicted summary:  great tea \n",
            "{'rouge-1': {'f': 0.0, 'p': 0.0, 'r': 0.0}, 'rouge-2': {'f': 0.0, 'p': 0.0, 'r': 0.0}, 'rouge-l': {'f': 0.0, 'p': 0.0, 'r': 0.0}}\n",
            "\n",
            "\n",
            "Review: great product. sprinkles are so expensive in the grocery store so this is a good buy, my kids go through a lot of sprinkles but this will last us a while!\n",
            "Original summary: sprinkles\n",
            "Predicted summary:  great product \n",
            "{'rouge-1': {'f': 0.0, 'p': 0.0, 'r': 0.0}, 'rouge-2': {'f': 0.0, 'p': 0.0, 'r': 0.0}, 'rouge-l': {'f': 0.0, 'p': 0.0, 'r': 0.0}}\n",
            "\n",
            "\n",
            "Review: i have been able to germinate the seeds and all of them have popped. i live in florida so putting them outside is not recommended. it's too hot. i have killed all that have popped by putting them outside. even though it says they can take the heat, florida sun is still too hot.\n",
            "Original summary: great seeds\n",
            "Predicted summary:  great product \n",
            "{'rouge-1': {'f': 0.4999999950000001, 'p': 0.5, 'r': 0.5}, 'rouge-2': {'f': 0.0, 'p': 0.0, 'r': 0.0}, 'rouge-l': {'f': 0.4999999999995, 'p': 0.5, 'r': 0.5}}\n",
            "\n",
            "\n",
            "Review: i have had problems finding treats that my picky boston terrier will eat.this is 1 of 2 that she will take and the other is from this site also. please don't get rid of these my puppy will be lost\n",
            "Original summary: awesome treat\n",
            "Predicted summary:  great product \n",
            "{'rouge-1': {'f': 0.0, 'p': 0.0, 'r': 0.0}, 'rouge-2': {'f': 0.0, 'p': 0.0, 'r': 0.0}, 'rouge-l': {'f': 0.0, 'p': 0.0, 'r': 0.0}}\n",
            "\n",
            "\n",
            "Review:  ⁇ i know some coffee snobs think all instant tastes like dishwater--well, try this one and you may have a different opinion. nescafe does it right and hits the bail on the head. packaging in the little tubes/sticks is just right. and yes, i make my hot water in the microwave.\n",
            "Original summary: the most convenient cup of coffee\n",
            "Predicted summary:  great coffee \n",
            "{'rouge-1': {'f': 0.24999999625000005, 'p': 0.5, 'r': 0.16666666666666666}, 'rouge-2': {'f': 0.0, 'p': 0.0, 'r': 0.0}, 'rouge-l': {'f': 0.17857142857152802, 'p': 0.5, 'r': 0.16666666666666666}}\n",
            "\n",
            "\n",
            "Review: i love this product. i have a problem with food sensitivities/allergies;eggs, yeast and sulphates are the main problem. i love pasta and was so glad to find this product because egg and sulphate free noodles are very hard to find in any of my area grocery stores. (dye-free would make it perfect!) the flavor and consistancy are so good, they don't need to be yellow to improve their quality..just a suggestion.\n",
            "Original summary: msd\n",
            "Predicted summary:  great product \n",
            "{'rouge-1': {'f': 0.0, 'p': 0.0, 'r': 0.0}, 'rouge-2': {'f': 0.0, 'p': 0.0, 'r': 0.0}, 'rouge-l': {'f': 0.0, 'p': 0.0, 'r': 0.0}}\n",
            "\n",
            "\n",
            "Review: my daughter brought me some cafe britt coffee when she returned from her semester abroad in costa rica. that's when i got hooked! it's more expensive than supermarket brands but it's worth it. if you buy 6 bags, you get free shipping.\n",
            "Original summary: costa rican coffee\n",
            "Predicted summary:  great coffee \n",
            "{'rouge-1': {'f': 0.39999999520000007, 'p': 0.5, 'r': 0.3333333333333333}, 'rouge-2': {'f': 0.0, 'p': 0.0, 'r': 0.0}, 'rouge-l': {'f': 0.371428571428493, 'p': 0.5, 'r': 0.3333333333333333}}\n",
            "\n",
            "\n",
            "Review: i love natural peanut butter, but it is pain to mix. until i got my new witmer peanut butter mixer. it works so easy and does a great job.\n",
            "Original summary: it really works great!\n",
            "Predicted summary:  great product \n",
            "{'rouge-1': {'f': 0.0, 'p': 0.0, 'r': 0.0}, 'rouge-2': {'f': 0.0, 'p': 0.0, 'r': 0.0}, 'rouge-l': {'f': 0.0, 'p': 0.0, 'r': 0.0}}\n",
            "\n",
            "\n",
            "Review: this is great coffee but what is wrong with the price? $19.50 for a 16-disc pack? you can buy it direct from tassimo for $6.99.\n",
            "Original summary: great price???\n",
            "Predicted summary:  good coffee \n",
            "{'rouge-1': {'f': 0.0, 'p': 0.0, 'r': 0.0}, 'rouge-2': {'f': 0.0, 'p': 0.0, 'r': 0.0}, 'rouge-l': {'f': 0.0, 'p': 0.0, 'r': 0.0}}\n",
            "\n",
            "\n",
            "Review: beware! pictured is a package of pipes.. that's not what you get. i was looking for a small corn cob and thought i was buying what is pictured: a set of small corn cobs. i got one big one that i have no use for. sigh..\n",
            "Original summary: bummin'\n",
            "Predicted summary:  not as advertised \n",
            "{'rouge-1': {'f': 0.0, 'p': 0.0, 'r': 0.0}, 'rouge-2': {'f': 0.0, 'p': 0.0, 'r': 0.0}, 'rouge-l': {'f': 0.0, 'p': 0.0, 'r': 0.0}}\n",
            "\n",
            "\n",
            "Review: definitely oriented towards the starbux crowd. comprared to their dark magic flavor, this is a bit bolder and a little more bitter, but not objectionably so. grown-up coffee.\n",
            "Original summary: very good\n",
            "Predicted summary:  good coffee \n",
            "{'rouge-1': {'f': 0.4999999950000001, 'p': 0.5, 'r': 0.5}, 'rouge-2': {'f': 0.0, 'p': 0.0, 'r': 0.0}, 'rouge-l': {'f': 0.4999999999995, 'p': 0.5, 'r': 0.5}}\n",
            "\n",
            "\n",
            "Review: i'm on weight watchers and this cereal is great at only 3 points per serving, tasty and it packs a fiber whallop.<br /><br />but it's cheaper at my local grocery store at $3.99 a box.\n",
            "Original summary: great cereal\n",
            "Predicted summary:  great product \n",
            "{'rouge-1': {'f': 0.4999999950000001, 'p': 0.5, 'r': 0.5}, 'rouge-2': {'f': 0.0, 'p': 0.0, 'r': 0.0}, 'rouge-l': {'f': 0.4999999999995, 'p': 0.5, 'r': 0.5}}\n",
            "\n",
            "\n",
            "Review: this flavor is very smooth. i enjoy it even more with a mix of diet orange. tastes like those orange sherbert and vanilla ice cream bars.\n",
            "Original summary: my favorite soda stream\n",
            "Predicted summary:  great product \n",
            "{'rouge-1': {'f': 0.0, 'p': 0.0, 'r': 0.0}, 'rouge-2': {'f': 0.0, 'p': 0.0, 'r': 0.0}, 'rouge-l': {'f': 0.0, 'p': 0.0, 'r': 0.0}}\n",
            "\n",
            "\n",
            "Review: i tried this water at room temperature and cold out of the fridge. tasted to me like water is supposed to taste. no better or worse than water from my brita pitcher.<br /><br />i'm not sure how i could fairly evaluate the health claims made. in the meantime, i guess i'll stick to my brita pitcher water.\n",
            "Original summary: tastes like water ...\n",
            "Predicted summary:  not as advertised \n",
            "{'rouge-1': {'f': 0.0, 'p': 0.0, 'r': 0.0}, 'rouge-2': {'f': 0.0, 'p': 0.0, 'r': 0.0}, 'rouge-l': {'f': 0.0, 'p': 0.0, 'r': 0.0}}\n",
            "\n",
            "\n",
            "Review: the is not only good value for the money but it is top of the line stash tea.\n",
            "Original summary: double bergamont tea\n",
            "Predicted summary:  great tea \n",
            "{'rouge-1': {'f': 0.39999999520000007, 'p': 0.5, 'r': 0.3333333333333333}, 'rouge-2': {'f': 0.0, 'p': 0.0, 'r': 0.0}, 'rouge-l': {'f': 0.371428571428493, 'p': 0.5, 'r': 0.3333333333333333}}\n",
            "\n",
            "\n",
            "Review: arrived on time. what a deal !!! so glad i could find this product on amazon ! i used this when i feel like im getting sick<br />thanks !\n",
            "Original summary: great for your health\n",
            "Predicted summary:  great product \n",
            "{'rouge-1': {'f': 0.33333332888888895, 'p': 0.5, 'r': 0.25}, 'rouge-2': {'f': 0.0, 'p': 0.0, 'r': 0.0}, 'rouge-l': {'f': 0.27777777777785184, 'p': 0.5, 'r': 0.25}}\n",
            "\n",
            "\n",
            "Review: i do not know how to rate this item. if she would take her picture down a notch (like remove it from the lable) then maybe people would be able to tell what kind of spice it is. i know she has an identity issue but the lable totally chases me off.\n",
            "Original summary: not impressed\n",
            "Predicted summary:  not as advertised \n",
            "{'rouge-1': {'f': 0.39999999520000007, 'p': 0.3333333333333333, 'r': 0.5}, 'rouge-2': {'f': 0.0, 'p': 0.0, 'r': 0.0}, 'rouge-l': {'f': 0.3714285714278808, 'p': 0.3333333333333333, 'r': 0.5}}\n",
            "\n",
            "\n",
            "Review: my dogs love these as treats but maintaining them with their kong is kind of a pain. the dogs will immediately chew of the portion outside of the kong leaving the remainder of the biscuit to rattle around inside. they soon tire of trying to get the partial treat out and it is up to me to remove it.\n",
            "Original summary: dogs love them but...\n",
            "Predicted summary:  dogs love them \n",
            "{'rouge-1': {'f': 0.8571428522448981, 'p': 1.0, 'r': 0.75}, 'rouge-2': {'f': 0.7999999952000001, 'p': 1.0, 'r': 0.6666666666666666}, 'rouge-l': {'f': 0.8241758241756372, 'p': 1.0, 'r': 0.75}}\n",
            "\n",
            "\n",
            "Review: i have never been a fan of decaf as it always seems to have an aftertaste for me. this blend seems to circumvent that as there is no tinny taste of decaf (at least for my palate).<br /><br />donut house just serves a great, mild blend, suitable for all.\n",
            "Original summary: great flavor, no decaf aftertaste\n",
            "Predicted summary:  great tea \n",
            "{'rouge-1': {'f': 0.2857142816326531, 'p': 0.5, 'r': 0.2}, 'rouge-2': {'f': 0.0, 'p': 0.0, 'r': 0.0}, 'rouge-l': {'f': 0.21804511278205893, 'p': 0.5, 'r': 0.2}}\n",
            "\n",
            "\n",
            "Review: we love our keurig coffeemaker and have tried many coffees. recently discovered wolfgang puck's new line of coffees and are pleased with all of his we have tried. this one is smooth with a great flavor, no bite. we would purchase this again.\n",
            "Original summary: great coffee\n",
            "Predicted summary:  great coffee \n",
            "{'rouge-1': {'f': 0.999999995, 'p': 1.0, 'r': 1.0}, 'rouge-2': {'f': 0.999999995, 'p': 1.0, 'r': 1.0}, 'rouge-l': {'f': 0.9999999999995, 'p': 1.0, 'r': 1.0}}\n",
            "\n",
            "\n",
            "Review: i love this! use it on salad, to cook with, to add a little zest to almost anything. it is so convenient to use, that i keep my bottle on the countertop right next to the stove. i would recommend this product.\n",
            "Original summary: garlic juice spray\n",
            "Predicted summary:  great product \n",
            "{'rouge-1': {'f': 0.0, 'p': 0.0, 'r': 0.0}, 'rouge-2': {'f': 0.0, 'p': 0.0, 'r': 0.0}, 'rouge-l': {'f': 0.0, 'p': 0.0, 'r': 0.0}}\n",
            "\n",
            "\n",
            "Review: we like these almonds and were unable to get them at our local store anymore so found them on amazon and ordered them.\n",
            "Original summary: good almonds\n",
            "Predicted summary:  great snack \n",
            "{'rouge-1': {'f': 0.0, 'p': 0.0, 'r': 0.0}, 'rouge-2': {'f': 0.0, 'p': 0.0, 'r': 0.0}, 'rouge-l': {'f': 0.0, 'p': 0.0, 'r': 0.0}}\n",
            "\n",
            "\n",
            "Review: this soup is good, easy to prepare, stores well, and has healthy ingredients. to me, couscous seems to be like a rice version of grits ;-) it goes well with a sandwich or other part of a meal. the price was very good also, at less than $1 for each cup. i enjoy it. i hope this review is helpful.\n",
            "Original summary: good & basic soup\n",
            "Predicted summary:  great product \n",
            "{'rouge-1': {'f': 0.0, 'p': 0.0, 'r': 0.0}, 'rouge-2': {'f': 0.0, 'p': 0.0, 'r': 0.0}, 'rouge-l': {'f': 0.0, 'p': 0.0, 'r': 0.0}}\n",
            "\n",
            "\n",
            "Review: i tried several coffees before settling on this smooth blend. it has a robust flavor and smells wonderful. if your looking for a smooth coffee with a little kick,this is the one!\n",
            "Original summary: italian heaven\n",
            "Predicted summary:  great coffee \n",
            "{'rouge-1': {'f': 0.0, 'p': 0.0, 'r': 0.0}, 'rouge-2': {'f': 0.0, 'p': 0.0, 'r': 0.0}, 'rouge-l': {'f': 0.0, 'p': 0.0, 'r': 0.0}}\n",
            "\n",
            "\n",
            "Review: my dog was suffering with itchy skin. he had been eating natural choice brand (cheaper) since he was a puppy. i was nervous to change foods. the vet suggested to change foods sand see if the skin issues cleared up. wellness brand did the job. my dog seems to love the food and the skin issues cleared up within a few weeks.\n",
            "Original summary: happy with the product\n",
            "Predicted summary:  my dog loves it \n",
            "{'rouge-1': {'f': 0.0, 'p': 0.0, 'r': 0.0}, 'rouge-2': {'f': 0.0, 'p': 0.0, 'r': 0.0}, 'rouge-l': {'f': 0.0, 'p': 0.0, 'r': 0.0}}\n",
            "\n",
            "\n",
            "Review: this tastes awesome. and i agree about the pricing online. that doesnt take away fromt he fact that this soda tastes amazing. i also like to collect the bottles.\n",
            "Original summary: awesome!\n",
            "Predicted summary:  great stuff \n",
            "{'rouge-1': {'f': 0.0, 'p': 0.0, 'r': 0.0}, 'rouge-2': {'f': 0.0, 'p': 0.0, 'r': 0.0}, 'rouge-l': {'f': 0.0, 'p': 0.0, 'r': 0.0}}\n",
            "\n",
            "\n",
            "Review: perfect! these are great vintage looking lollipops for our vintage wedding. good quality. pic on amazon selling page is what you get.\n",
            "Original summary: great!!\n",
            "Predicted summary:  great product \n",
            "{'rouge-1': {'f': 0.0, 'p': 0.0, 'r': 0.0}, 'rouge-2': {'f': 0.0, 'p': 0.0, 'r': 0.0}, 'rouge-l': {'f': 0.0, 'p': 0.0, 'r': 0.0}}\n",
            "\n",
            "\n",
            "Review: the cinnamon honey sticks flavor was excellent. when added to tea it enhanced the flavor of the tea.\n",
            "Original summary: great flavor\n",
            "Predicted summary:  great tea \n",
            "{'rouge-1': {'f': 0.4999999950000001, 'p': 0.5, 'r': 0.5}, 'rouge-2': {'f': 0.0, 'p': 0.0, 'r': 0.0}, 'rouge-l': {'f': 0.4999999999995, 'p': 0.5, 'r': 0.5}}\n",
            "\n",
            "\n",
            "Review: i've been eating all varieties of post shredded wheat since i was a kid. i've always liked it in a bowl of milk with sugar on top, but i've also come to enjoy it as a dry snack. i will snack on it plain, but it is especially delicious with a dab of peanut butter. i like the peanut butter enhancement so much that i hardly even it it in milk anymore. good stuff; i will continue to buy it.\n",
            "Original summary: i eat it\n",
            "Predicted summary:  great product \n",
            "{'rouge-1': {'f': 0.0, 'p': 0.0, 'r': 0.0}, 'rouge-2': {'f': 0.0, 'p': 0.0, 'r': 0.0}, 'rouge-l': {'f': 0.0, 'p': 0.0, 'r': 0.0}}\n",
            "\n",
            "\n",
            "Review: lipton green tea citrus is an great tea to brew at home and be able to have the same great flavor that you get in the bottle version, but control the amount of sugar.\n",
            "Original summary: great product\n",
            "Predicted summary:  great tea \n",
            "{'rouge-1': {'f': 0.4999999950000001, 'p': 0.5, 'r': 0.5}, 'rouge-2': {'f': 0.0, 'p': 0.0, 'r': 0.0}, 'rouge-l': {'f': 0.4999999999995, 'p': 0.5, 'r': 0.5}}\n",
            "\n",
            "\n",
            "Review: i like teas and i do drink them quite freaquently. this one is not really noteworthy. it is somewhat on the weak side, but far from the worst.<br />i am only writing this review to tell you to shop around. check the twinings website. there are deals to be had!\n",
            "Original summary: good, but weak\n",
            "Predicted summary:  not a fan \n",
            "{'rouge-1': {'f': 0.0, 'p': 0.0, 'r': 0.0}, 'rouge-2': {'f': 0.0, 'p': 0.0, 'r': 0.0}, 'rouge-l': {'f': 0.0, 'p': 0.0, 'r': 0.0}}\n",
            "\n",
            "\n",
            "Review: i have a keurig coffee system and this the best brand i have tried yet.\n",
            "Original summary: great coffee!\n",
            "Predicted summary:  great coffee \n",
            "{'rouge-1': {'f': 0.4999999950000001, 'p': 0.5, 'r': 0.5}, 'rouge-2': {'f': 0.0, 'p': 0.0, 'r': 0.0}, 'rouge-l': {'f': 0.4999999999995, 'p': 0.5, 'r': 0.5}}\n",
            "\n",
            "\n",
            "Review: this tea is fantastic. the main flavor is licorice - with other herbal undertones and it is my favorite tea of all. i had to buy the six pack because i run through a single pack so fast.\n",
            "Original summary: breathe deep is my favorite tea\n",
            "Predicted summary:  great tea \n",
            "{'rouge-1': {'f': 0.24999999625000005, 'p': 0.5, 'r': 0.16666666666666666}, 'rouge-2': {'f': 0.0, 'p': 0.0, 'r': 0.0}, 'rouge-l': {'f': 0.17857142857152802, 'p': 0.5, 'r': 0.16666666666666666}}\n",
            "\n",
            "\n",
            "Review: i didn't realize this had chocolate in it when i ordered it. normally i don't like teas with chocolate. it has become one of my two favorite flavored teas. just fantastic flavor hot. i haven't tried it cold yet.<br />it does have a faint earl grey flavor, along with a fruity flavor.\n",
            "Original summary: wonderful flavor\n",
            "Predicted summary:  great tea \n",
            "{'rouge-1': {'f': 0.0, 'p': 0.0, 'r': 0.0}, 'rouge-2': {'f': 0.0, 'p': 0.0, 'r': 0.0}, 'rouge-l': {'f': 0.0, 'p': 0.0, 'r': 0.0}}\n",
            "\n",
            "\n",
            "Review: i loved this as a collection piece. only problem was, it tastes like crap and i couldn't really feel any 'energy drink' effects. so, depending on what you want it for, it could be the best or the worst thing to buy.\n",
            "Original summary: loved it, sorta\n",
            "Predicted summary:  great product \n",
            "{'rouge-1': {'f': 0.0, 'p': 0.0, 'r': 0.0}, 'rouge-2': {'f': 0.0, 'p': 0.0, 'r': 0.0}, 'rouge-l': {'f': 0.0, 'p': 0.0, 'r': 0.0}}\n",
            "\n",
            "\n",
            "Review: this conditioner leaves the hair silky and soft, great smelling, helps with the tangles and conditions your scalp, doesn't make my hair greasy or weigh it down. i love this conditioner and it goes perfectly with the shampoo!\n",
            "Original summary: great conditioner\n",
            "Predicted summary:  great product \n",
            "{'rouge-1': {'f': 0.4999999950000001, 'p': 0.5, 'r': 0.5}, 'rouge-2': {'f': 0.0, 'p': 0.0, 'r': 0.0}, 'rouge-l': {'f': 0.4999999999995, 'p': 0.5, 'r': 0.5}}\n",
            "\n",
            "\n",
            "Review: i searched all over the place for an affordable, no salt added, vegetable bouillon that didn't contain all kinds of extra ingredients. i was very happy to find this product and use it so often i have signed myself up for a recurring shipment of it, which saves me even more money! it is tasty and adds the perfect touch to the many soups i feed my family. it does contain naturally occurring sodium, of course, but nothing beyond that.\n",
            "Original summary: delicious\n",
            "Predicted summary:  great product \n",
            "{'rouge-1': {'f': 0.0, 'p': 0.0, 'r': 0.0}, 'rouge-2': {'f': 0.0, 'p': 0.0, 'r': 0.0}, 'rouge-l': {'f': 0.0, 'p': 0.0, 'r': 0.0}}\n",
            "\n",
            "\n",
            "Review: thank you it came in 3 days.. it works great to put the k-cups in. so i don't have the boxs of the k-cups just sitting around.\n",
            "Original summary: thank you\n",
            "Predicted summary:  good coffee \n",
            "{'rouge-1': {'f': 0.0, 'p': 0.0, 'r': 0.0}, 'rouge-2': {'f': 0.0, 'p': 0.0, 'r': 0.0}, 'rouge-l': {'f': 0.0, 'p': 0.0, 'r': 0.0}}\n",
            "\n",
            "\n",
            "Review: these gummy bears tasted amazing, and were worth the money. the 6 pound bag is really big -- you'll have plenty to share (or keep to yourself to eat over a period of a month or two!). if you like gummy bears, you will love this product.\n",
            "Original summary: great gummy bears!\n",
            "Predicted summary:  yummy ! \n",
            "{'rouge-1': {'f': 0.0, 'p': 0.0, 'r': 0.0}, 'rouge-2': {'f': 0.0, 'p': 0.0, 'r': 0.0}, 'rouge-l': {'f': 0.0, 'p': 0.0, 'r': 0.0}}\n",
            "\n",
            "\n",
            "Review: these are so healthy and tasty just to eat by themselves even... kind of tastes like a nut... we even mix a few hemp seeds in with our baby's(about a year old, about a teaspoon-not too much) meals, every once in a while and he enjoys it. if you like eating healthy, this is a great deal! thanks!!! shalom &lt;3\n",
            "Original summary: great!!!\n",
            "Predicted summary:  great taste ! \n",
            "{'rouge-1': {'f': 0.0, 'p': 0.0, 'r': 0.0}, 'rouge-2': {'f': 0.0, 'p': 0.0, 'r': 0.0}, 'rouge-l': {'f': 0.0, 'p': 0.0, 'r': 0.0}}\n",
            "\n",
            "\n",
            "Review: these snacks are very addicting. i brought a bag with me to the er and openned it up to share with my family members. they all commented it was good. never got the bag back. plus the price is way cheaper than the grocery store even when they're on sale!\n",
            "Original summary: very addicting!\n",
            "Predicted summary:  great snack \n",
            "{'rouge-1': {'f': 0.0, 'p': 0.0, 'r': 0.0}, 'rouge-2': {'f': 0.0, 'p': 0.0, 'r': 0.0}, 'rouge-l': {'f': 0.0, 'p': 0.0, 'r': 0.0}}\n",
            "\n",
            "\n",
            "Review: i have searched the internet and local stores for the best deal on k cups and amazon has them all beat. they average out to $0.5 ⁇  per cup and no shipping! very eonomical as far as k cups go. this is also really great tasting coffee. not too strong but not at all weak. perfect! and, as always, great shipping. always on time but usually arrives early.\n",
            "Original summary: best deal i could find\n",
            "Predicted summary:  great coffee \n",
            "{'rouge-1': {'f': 0.0, 'p': 0.0, 'r': 0.0}, 'rouge-2': {'f': 0.0, 'p': 0.0, 'r': 0.0}, 'rouge-l': {'f': 0.0, 'p': 0.0, 'r': 0.0}}\n",
            "\n",
            "\n",
            "Review: candy was great. packaging was amazing to keep the candy from melting. will buy more when these run out.\n",
            "Original summary: candy\n",
            "Predicted summary:  great product \n",
            "{'rouge-1': {'f': 0.0, 'p': 0.0, 'r': 0.0}, 'rouge-2': {'f': 0.0, 'p': 0.0, 'r': 0.0}, 'rouge-l': {'f': 0.0, 'p': 0.0, 'r': 0.0}}\n",
            "\n",
            "\n",
            "Review: i love coffee and at night really miss out if i don't have the decaff.\n",
            "Original summary: good coffee\n",
            "Predicted summary:  good coffee \n",
            "{'rouge-1': {'f': 0.999999995, 'p': 1.0, 'r': 1.0}, 'rouge-2': {'f': 0.999999995, 'p': 1.0, 'r': 1.0}, 'rouge-l': {'f': 0.9999999999995, 'p': 1.0, 'r': 1.0}}\n",
            "\n",
            "\n",
            "Review: i have a cat that has allergies to carbs as grains. his ears get messy, his lip swells up and turns red and he throws up often. this evo food is good for him, clean ears pink normal lips and he hasn't thrown up since he's been on it. he's been on it about a month and i will keep him on it forever !\n",
            "Original summary: mostly meat !\n",
            "Predicted summary:  my cats love it ! \n",
            "{'rouge-1': {'f': 0.24999999531250006, 'p': 0.2, 'r': 0.3333333333333333}, 'rouge-2': {'f': 0.0, 'p': 0.0, 'r': 0.0}, 'rouge-l': {'f': 0.2236842105256471, 'p': 0.2, 'r': 0.3333333333333333}}\n",
            "\n",
            "\n",
            "Review: because of our cat's digestive problems, and due to multiple unsuccessful trials of other \"top\" brands of canned cat food, led us to try the wellness brands. our feline-centric veterinarian concurred, and i am happy to report that after 2 weeks, our cat is responding wonderfully!<br /><br />he is a \"new\" cat! he loves this food! a great, all-natural product.\n",
            "Original summary: great catfood\n",
            "Predicted summary:  my cats love it \n",
            "{'rouge-1': {'f': 0.0, 'p': 0.0, 'r': 0.0}, 'rouge-2': {'f': 0.0, 'p': 0.0, 'r': 0.0}, 'rouge-l': {'f': 0.0, 'p': 0.0, 'r': 0.0}}\n",
            "\n",
            "\n",
            "Review: if you like the flavor of green tea and like your beverage iced you will enjoy this beverage.<br /><br />i like the taste of green tea and i also like the health benefits of green tea. i mix this with ice water and splenda. it is a refreshing summer beverage. i like that it dissolves easily and is packaged in small packages. it is convenient and easy to use.\n",
            "Original summary: nice green iced tea beverage\n",
            "Predicted summary:  great tea \n",
            "{'rouge-1': {'f': 0.2857142816326531, 'p': 0.5, 'r': 0.2}, 'rouge-2': {'f': 0.0, 'p': 0.0, 'r': 0.0}, 'rouge-l': {'f': 0.21804511278205893, 'p': 0.5, 'r': 0.2}}\n",
            "\n",
            "\n",
            "Review: the jack link's beef steak, peppered are always nice to have in the pocket in case i get a bit hungry\n",
            "Original summary: good snack\n",
            "Predicted summary:  great product \n",
            "{'rouge-1': {'f': 0.0, 'p': 0.0, 'r': 0.0}, 'rouge-2': {'f': 0.0, 'p': 0.0, 'r': 0.0}, 'rouge-l': {'f': 0.0, 'p': 0.0, 'r': 0.0}}\n",
            "\n",
            "\n",
            "Review: a good brew, not starbucks, but not store brand. decent coffee w/ over 100 yrs of history. i believe this used to be a & p coffee many decades ago...<br /><br />some sheen & shine to the beans, not as oily as i prefer, but good.\n",
            "Original summary: good basic coffee\n",
            "Predicted summary:  good coffee \n",
            "{'rouge-1': {'f': 0.7999999952000001, 'p': 1.0, 'r': 0.6666666666666666}, 'rouge-2': {'f': 0.0, 'p': 0.0, 'r': 0.0}, 'rouge-l': {'f': 0.7428571428570644, 'p': 1.0, 'r': 0.6666666666666666}}\n",
            "\n",
            "\n",
            "Review: fever-tree brand ginger beer has a great flavor. i use this ginger beer in mojito specials. the ginger beer makes a refreshing non-alcohol drink as well.\n",
            "Original summary: tastes great\n",
            "Predicted summary:  great product \n",
            "{'rouge-1': {'f': 0.4999999950000001, 'p': 0.5, 'r': 0.5}, 'rouge-2': {'f': 0.0, 'p': 0.0, 'r': 0.0}, 'rouge-l': {'f': 0.4999999999995, 'p': 0.5, 'r': 0.5}}\n",
            "\n",
            "\n",
            "Review: i had one of these scoopes for 8 years and it was fine, i got a new pup so i thought i would buy a new scoop, supposedly the same king. no no no, this scoop breaks in the same place everytime, the plastic is weak. i have purchased three of them in one year! poor product.\n",
            "Original summary: breaks very easily\n",
            "Predicted summary:  not as advertised \n",
            "{'rouge-1': {'f': 0.0, 'p': 0.0, 'r': 0.0}, 'rouge-2': {'f': 0.0, 'p': 0.0, 'r': 0.0}, 'rouge-l': {'f': 0.0, 'p': 0.0, 'r': 0.0}}\n",
            "\n",
            "\n",
            "Review: my kids love this brand, i cannot eat kraft any longer after trying annie's. all of the neighbor kids love it as well now.\n",
            "Original summary: yummy mac and cheese\n",
            "Predicted summary:  great product \n",
            "{'rouge-1': {'f': 0.0, 'p': 0.0, 'r': 0.0}, 'rouge-2': {'f': 0.0, 'p': 0.0, 'r': 0.0}, 'rouge-l': {'f': 0.0, 'p': 0.0, 'r': 0.0}}\n",
            "\n",
            "\n",
            "Review: this wine kit is a great everday drinker, especially when served to non-wine drinkers. as with all vino italiano wine kits, do not make them to 6 gallon / 23 litre carboys. only make this brand to 5 gallons and you will have a inexpensive but very drinkable table wine. have made two piesporters so far and plan to make more.\n",
            "Original summary: great at 5 gallons\n",
            "Predicted summary:  great product \n",
            "{'rouge-1': {'f': 0.33333332888888895, 'p': 0.5, 'r': 0.25}, 'rouge-2': {'f': 0.0, 'p': 0.0, 'r': 0.0}, 'rouge-l': {'f': 0.27777777777785184, 'p': 0.5, 'r': 0.25}}\n",
            "\n",
            "\n",
            "Review: i can see why the kid from narnia couldn't get enough of this stuff. if roses smell good to you, you'll like it. the texture is great, it's almost like a gummy,, but much firmer. the powdered sugar makes it all the more delicate and delicious. eating them makes you feel like royalty, for some reason! i love this stuff, and will definitely buy more in the near future.\n",
            "Original summary: yum!\n",
            "Predicted summary:  great stuff ! \n",
            "{'rouge-1': {'f': 0.0, 'p': 0.0, 'r': 0.0}, 'rouge-2': {'f': 0.0, 'p': 0.0, 'r': 0.0}, 'rouge-l': {'f': 0.0, 'p': 0.0, 'r': 0.0}}\n",
            "\n",
            "\n",
            "Review: i absolutely love this flour blend. it's the only one i use. delightful texture (not gritty). anything i make with the gluten free mama's cookbook and flour blend comes out perfectly provided that i don't mess up the recipe! :) thanks for the cheap & speedy shipping, amazon!\n",
            "Original summary: best gf flour blend ever\n",
            "Predicted summary:  love this stuff ! \n",
            "{'rouge-1': {'f': 0.0, 'p': 0.0, 'r': 0.0}, 'rouge-2': {'f': 0.0, 'p': 0.0, 'r': 0.0}, 'rouge-l': {'f': 0.0, 'p': 0.0, 'r': 0.0}}\n",
            "\n",
            "\n",
            "Review: i needed a decaffeinated iced tea and lipton is quite tasty. have been drinking it for several years and was unable to find it in my grocery stores.\n",
            "Original summary: lipton diet iced tea\n",
            "Predicted summary:  great tea \n",
            "{'rouge-1': {'f': 0.33333332888888895, 'p': 0.5, 'r': 0.25}, 'rouge-2': {'f': 0.0, 'p': 0.0, 'r': 0.0}, 'rouge-l': {'f': 0.27777777777785184, 'p': 0.5, 'r': 0.25}}\n",
            "\n",
            "\n",
            "Review: this is the best vanilla you will ever use. say good-bye to alcohol-based vanilla and hello to this thick, delightful paste. an even exchange for vanilla extract in recipes but a much truer vanilla flavor. be aware, however, that the vanilla bean specks will show in foods like shortbread cookies - i like the look but, for some, it might take getting time to get use to.\n",
            "Original summary: better than vanilla extract!\n",
            "Predicted summary:  great product \n",
            "{'rouge-1': {'f': 0.0, 'p': 0.0, 'r': 0.0}, 'rouge-2': {'f': 0.0, 'p': 0.0, 'r': 0.0}, 'rouge-l': {'f': 0.0, 'p': 0.0, 'r': 0.0}}\n",
            "\n",
            "\n",
            "Review: my nearly 16 year old cat takes meds daily and these have been a life saver. i thinks she's figured out that after she takes the treat she gets her breakfast, so i rarely have trouble getting her to take it. wish i'd had this years ago for another difficult kittie! we recommend them highly.\n",
            "Original summary: cat loves these.\n",
            "Predicted summary:  my cats love it ! \n",
            "{'rouge-1': {'f': 0.0, 'p': 0.0, 'r': 0.0}, 'rouge-2': {'f': 0.0, 'p': 0.0, 'r': 0.0}, 'rouge-l': {'f': 0.0, 'p': 0.0, 'r': 0.0}}\n",
            "\n",
            "\n",
            "Review: i love junk food cereals that are full of sugar (i.e. lucky charms) but i wanted to start eating healthier. this is delicious and definitely fulfills my sweet tooth. i highly recommend this cereal.\n",
            "Original summary: this is sweet enough\n",
            "Predicted summary:  yummy ! \n",
            "{'rouge-1': {'f': 0.0, 'p': 0.0, 'r': 0.0}, 'rouge-2': {'f': 0.0, 'p': 0.0, 'r': 0.0}, 'rouge-l': {'f': 0.0, 'p': 0.0, 'r': 0.0}}\n",
            "\n",
            "\n",
            "Review: whisker lickin's is a great product for your cat. i have used wl for years and my cat never turns away,<br />i fact my cat prefers this product over any dry food i have feed her--so whisker lickin's is now<br />my cats dry food of choice and amazon has the best price going that i could find !! great product !!\n",
            "Original summary: replaced my other dry cat food\n",
            "Predicted summary:  my cats love it ! \n",
            "{'rouge-1': {'f': 0.18181817685950424, 'p': 0.2, 'r': 0.16666666666666666}, 'rouge-2': {'f': 0.0, 'p': 0.0, 'r': 0.0}, 'rouge-l': {'f': 0.17888563049823314, 'p': 0.2, 'r': 0.16666666666666666}}\n",
            "\n",
            "\n",
            "Review: first found this marmalade at an irish trade show. loved it then, love it now.\n",
            "Original summary: a taste of ireland\n",
            "Predicted summary:  great product \n",
            "{'rouge-1': {'f': 0.0, 'p': 0.0, 'r': 0.0}, 'rouge-2': {'f': 0.0, 'p': 0.0, 'r': 0.0}, 'rouge-l': {'f': 0.0, 'p': 0.0, 'r': 0.0}}\n",
            "\n",
            "\n",
            "Review: i like to eat frozen vanilla yogurt but the catch is that i have to make it myself or it doesnt get done.<br /><br />these vanilla beans are amazing if you are really into vanilla.yougurt or icecream\n",
            "Original summary: great flavor\n",
            "Predicted summary:  great product \n",
            "{'rouge-1': {'f': 0.4999999950000001, 'p': 0.5, 'r': 0.5}, 'rouge-2': {'f': 0.0, 'p': 0.0, 'r': 0.0}, 'rouge-l': {'f': 0.4999999999995, 'p': 0.5, 'r': 0.5}}\n",
            "\n",
            "\n",
            "Review: tastes great, got there fast. i ordered this with an air popper for my sister and she loved it so much.\n",
            "Original summary: popcorn\n",
            "Predicted summary:  great product \n",
            "{'rouge-1': {'f': 0.0, 'p': 0.0, 'r': 0.0}, 'rouge-2': {'f': 0.0, 'p': 0.0, 'r': 0.0}, 'rouge-l': {'f': 0.0, 'p': 0.0, 'r': 0.0}}\n",
            "\n",
            "\n",
            "Review: this is a great buy and the coffee is robust and very flavorful brews well like it better than starbucks or millstone\n",
            "Original summary: flavor and value\n",
            "Predicted summary:  great coffee \n",
            "{'rouge-1': {'f': 0.0, 'p': 0.0, 'r': 0.0}, 'rouge-2': {'f': 0.0, 'p': 0.0, 'r': 0.0}, 'rouge-l': {'f': 0.0, 'p': 0.0, 'r': 0.0}}\n",
            "\n",
            "\n",
            "Review: these are great. we were told to stay away from wheat, barley and rye. this is a good answer for us. they a not pre-cut so you have to cut them in to. i recommend them.\n",
            "Original summary: gluten free english muffins\n",
            "Predicted summary:  great product \n",
            "{'rouge-1': {'f': 0.0, 'p': 0.0, 'r': 0.0}, 'rouge-2': {'f': 0.0, 'p': 0.0, 'r': 0.0}, 'rouge-l': {'f': 0.0, 'p': 0.0, 'r': 0.0}}\n",
            "\n",
            "\n",
            "Review: i use this for my protein shakes after my workouts. i like that it's free of artificial flavors and other junk that other whey protein powder mixes have.\n",
            "Original summary: good stuff\n",
            "Predicted summary:  great product \n",
            "{'rouge-1': {'f': 0.0, 'p': 0.0, 'r': 0.0}, 'rouge-2': {'f': 0.0, 'p': 0.0, 'r': 0.0}, 'rouge-l': {'f': 0.0, 'p': 0.0, 'r': 0.0}}\n",
            "\n",
            "\n",
            "Review: i used this product on my face along with alba papaya facial mask and it cleared my acne amazingly!! i was so pleased with this product its gental and smells fantastic and i recamend this product to women and men !!\n",
            "Original summary: great ! !\n",
            "Predicted summary:  great product \n",
            "{'rouge-1': {'f': 0.4999999950000001, 'p': 0.5, 'r': 0.5}, 'rouge-2': {'f': 0.0, 'p': 0.0, 'r': 0.0}, 'rouge-l': {'f': 0.4999999999995, 'p': 0.5, 'r': 0.5}}\n",
            "\n",
            "\n",
            "Review: wonderful taste - refreshing and thirst quenching!<br />stash premium lemon ginger herbal tea, tea bags, 20-count boxes (pack of 6)\n",
            "Original summary: stash premium herbal tea\n",
            "Predicted summary:  great tea \n",
            "{'rouge-1': {'f': 0.33333332888888895, 'p': 0.5, 'r': 0.25}, 'rouge-2': {'f': 0.0, 'p': 0.0, 'r': 0.0}, 'rouge-l': {'f': 0.27777777777785184, 'p': 0.5, 'r': 0.25}}\n",
            "\n",
            "\n",
            "Review: after buying once i purchased this product again within a few weeks. i was happy with both the quality and quantity of brittle for the price.\n",
            "Original summary: pleased\n",
            "Predicted summary:  great product \n",
            "{'rouge-1': {'f': 0.0, 'p': 0.0, 'r': 0.0}, 'rouge-2': {'f': 0.0, 'p': 0.0, 'r': 0.0}, 'rouge-l': {'f': 0.0, 'p': 0.0, 'r': 0.0}}\n",
            "\n",
            "\n",
            "Review: if you like eating fried fish then be my gust ,but if you dont buy somthing ealse please i am regrating this item why did i trust this shrimp ,its fish not shrimp.and its gross like the comment above me\n",
            "Original summary: donot buy this\n",
            "Predicted summary:  not as advertised \n",
            "{'rouge-1': {'f': 0.0, 'p': 0.0, 'r': 0.0}, 'rouge-2': {'f': 0.0, 'p': 0.0, 'r': 0.0}, 'rouge-l': {'f': 0.0, 'p': 0.0, 'r': 0.0}}\n",
            "\n",
            "\n",
            "Review: these mcdougall soups are really good and so quick and easy to fix. just add hot water and wait a couple of minutes. the miso soup is very good and even better when i add fresh chopped chives and bragg's liquid aminos.\n",
            "Original summary: yummy!\n",
            "Predicted summary:  great stuff \n",
            "{'rouge-1': {'f': 0.0, 'p': 0.0, 'r': 0.0}, 'rouge-2': {'f': 0.0, 'p': 0.0, 'r': 0.0}, 'rouge-l': {'f': 0.0, 'p': 0.0, 'r': 0.0}}\n",
            "\n",
            "\n",
            "Review: the cookies are the best gf packaged cookies. the only complaint i have about them is they seem to disappear!\n",
            "Original summary: delicious!!!\n",
            "Predicted summary:  great cookies \n",
            "{'rouge-1': {'f': 0.0, 'p': 0.0, 'r': 0.0}, 'rouge-2': {'f': 0.0, 'p': 0.0, 'r': 0.0}, 'rouge-l': {'f': 0.0, 'p': 0.0, 'r': 0.0}}\n",
            "\n",
            "\n",
            "Review: i was very happy with this tasty coffee. the beans are small and very flavorful. it makes me wonder if young coffee beans are preferable to fully grown ones. hills brothers has been in this business for a long time. they know what they're doing. very nice, indeed.\n",
            "Original summary: very tasty coffee!\n",
            "Predicted summary:  great coffee \n",
            "{'rouge-1': {'f': 0.0, 'p': 0.0, 'r': 0.0}, 'rouge-2': {'f': 0.0, 'p': 0.0, 'r': 0.0}, 'rouge-l': {'f': 0.0, 'p': 0.0, 'r': 0.0}}\n",
            "\n",
            "\n",
            "Review: liked the flavor and aroma of the coffee a lot! the only drawback is that it comes in a bag that has to be cut open, then needs to be put in a baggie of some sort to be kept fresh. a better design would be to ship the product in a resealable bag or container of some sort. the difference in price between this and the plastic pods makes it worthwhile.\n",
            "Original summary: coffee\n",
            "Predicted summary:  great coffee \n",
            "{'rouge-1': {'f': 0.6666666622222223, 'p': 0.5, 'r': 1.0}, 'rouge-2': {'f': 0.0, 'p': 0.0, 'r': 0.0}, 'rouge-l': {'f': 0.5555555555549629, 'p': 0.5, 'r': 1.0}}\n",
            "\n",
            "\n",
            "Review: my kids love these. it's nice to have a gluten free option for on-the-go snacking. these fit the bill nicely.\n",
            "Original summary: gluten free yummies\n",
            "Predicted summary:  great product \n",
            "{'rouge-1': {'f': 0.0, 'p': 0.0, 'r': 0.0}, 'rouge-2': {'f': 0.0, 'p': 0.0, 'r': 0.0}, 'rouge-l': {'f': 0.0, 'p': 0.0, 'r': 0.0}}\n",
            "\n",
            "\n",
            "Review: bought this for a gift, tried it myself and bought more...wonderful tea and looks beautiful in a clear pot, smells heavenly.\n",
            "Original summary: great tea!\n",
            "Predicted summary:  great tea \n",
            "{'rouge-1': {'f': 0.4999999950000001, 'p': 0.5, 'r': 0.5}, 'rouge-2': {'f': 0.0, 'p': 0.0, 'r': 0.0}, 'rouge-l': {'f': 0.4999999999995, 'p': 0.5, 'r': 0.5}}\n",
            "\n",
            "\n",
            "Review: these bags stink like chemicals when opening. the smell is horrible. the taste of the pretzels have the stench as well. amazon is shipping a replacement order that will arrive tomorrow. will update my review upon receiving the new batch.<br /><br />1/28/2012- unfortunately the replacement order is the exact as the first. something is not right with these pretzels. the chemical smell is so strong. amazon is refunding my purchase.\n",
            "Original summary: these are awful.\n",
            "Predicted summary:  not as advertised \n",
            "{'rouge-1': {'f': 0.0, 'p': 0.0, 'r': 0.0}, 'rouge-2': {'f': 0.0, 'p': 0.0, 'r': 0.0}, 'rouge-l': {'f': 0.0, 'p': 0.0, 'r': 0.0}}\n",
            "\n",
            "\n"
          ],
          "name": "stdout"
        }
      ]
    },
    {
      "cell_type": "code",
      "metadata": {
        "id": "6qJRe38zqRDo",
        "colab_type": "code",
        "outputId": "427c3703-5c2c-41ce-915c-378192f7ebc6",
        "colab": {
          "base_uri": "https://localhost:8080/",
          "height": 34
        }
      },
      "source": [
        "%tensorboard --logdir logs\n",
        "#click \"Graphs\" on the menu bar and take a look those generated grpahs"
      ],
      "execution_count": 0,
      "outputs": [
        {
          "output_type": "stream",
          "text": [
            "UsageError: Line magic function `%tensorboard` not found.\n"
          ],
          "name": "stderr"
        }
      ]
    },
    {
      "cell_type": "code",
      "metadata": {
        "id": "_JxzOvnEs_sJ",
        "colab_type": "code",
        "colab": {}
      },
      "source": [
        "\n",
        "![This image is just show effect of tensorboard.](https://drive.google.com/file/d/1ak1cPo4oTgbYKMOkz0JxBw1QwQ9bJNIf/view?usp=sharing)"
      ],
      "execution_count": 0,
      "outputs": []
    }
  ]
}