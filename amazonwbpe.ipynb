{
  "nbformat": 4,
  "nbformat_minor": 0,
  "metadata": {
    "colab": {
      "name": "amazonwbpe",
      "provenance": [],
      "collapsed_sections": [],
      "include_colab_link": true
    },
    "kernelspec": {
      "name": "python3",
      "display_name": "Python 3"
    },
    "accelerator": "GPU"
  },
  "cells": [
    {
      "cell_type": "markdown",
      "metadata": {
        "id": "view-in-github",
        "colab_type": "text"
      },
      "source": [
        "<a href=\"https://colab.research.google.com/github/dizzySummer/NLP-TensorFlow2.0/blob/master/amazonwbpe.ipynb\" target=\"_parent\"><img src=\"https://colab.research.google.com/assets/colab-badge.svg\" alt=\"Open In Colab\"/></a>"
      ]
    },
    {
      "cell_type": "code",
      "metadata": {
        "id": "ULPmGnXEsdsZ",
        "colab_type": "code",
        "outputId": "8e617d68-7789-498b-b7db-d0b7b1328d3f",
        "colab": {
          "base_uri": "https://localhost:8080/",
          "height": 54
        }
      },
      "source": [
        "from google.colab import drive\n",
        "drive.mount('/content/drive')"
      ],
      "execution_count": 1,
      "outputs": [
        {
          "output_type": "stream",
          "text": [
            "Drive already mounted at /content/drive; to attempt to forcibly remount, call drive.mount(\"/content/drive\", force_remount=True).\n"
          ],
          "name": "stdout"
        }
      ]
    },
    {
      "cell_type": "code",
      "metadata": {
        "id": "KC-76uyYWyi6",
        "colab_type": "code",
        "outputId": "59bd1be8-3269-4748-a09b-7c534288c13d",
        "colab": {
          "base_uri": "https://localhost:8080/",
          "height": 63
        }
      },
      "source": [
        "import sys\n",
        "# insert at 1, 0 is the script path (or '' in REPL)\n",
        "sys.path.insert(1, '/content/drive/My Drive/amazon-fine-food-reviews/')\n",
        "\n",
        "import attention\n"
      ],
      "execution_count": 2,
      "outputs": [
        {
          "output_type": "display_data",
          "data": {
            "text/html": [
              "<p style=\"color: red;\">\n",
              "The default version of TensorFlow in Colab will soon switch to TensorFlow 2.x.<br>\n",
              "We recommend you <a href=\"https://www.tensorflow.org/guide/migrate\" target=\"_blank\">upgrade</a> now \n",
              "or ensure your notebook will continue to use TensorFlow 1.x via the <code>%tensorflow_version 1.x</code> magic:\n",
              "<a href=\"https://colab.research.google.com/notebooks/tensorflow_version.ipynb\" target=\"_blank\">more info</a>.</p>\n"
            ],
            "text/plain": [
              "<IPython.core.display.HTML object>"
            ]
          },
          "metadata": {
            "tags": []
          }
        }
      ]
    },
    {
      "cell_type": "code",
      "metadata": {
        "id": "WbG2ibftsRWB",
        "colab_type": "code",
        "outputId": "f3aa4ae2-b10f-4450-cd88-702d2bd05c3e",
        "colab": {
          "base_uri": "https://localhost:8080/",
          "height": 683
        }
      },
      "source": [
        "import io\n",
        "import os\n",
        "import pandas as pd\n",
        "import numpy as np\n",
        "#import data that stored on Google drive\n",
        "import io\n",
        "df = pd.read_csv('/content/drive/My Drive/amazon-fine-food-reviews/Reviews.csv')\n",
        "# Dataset is now stored in a Pandas Dataframe\n",
        "df.head()"
      ],
      "execution_count": 3,
      "outputs": [
        {
          "output_type": "execute_result",
          "data": {
            "text/html": [
              "<div>\n",
              "<style scoped>\n",
              "    .dataframe tbody tr th:only-of-type {\n",
              "        vertical-align: middle;\n",
              "    }\n",
              "\n",
              "    .dataframe tbody tr th {\n",
              "        vertical-align: top;\n",
              "    }\n",
              "\n",
              "    .dataframe thead th {\n",
              "        text-align: right;\n",
              "    }\n",
              "</style>\n",
              "<table border=\"1\" class=\"dataframe\">\n",
              "  <thead>\n",
              "    <tr style=\"text-align: right;\">\n",
              "      <th></th>\n",
              "      <th>Id</th>\n",
              "      <th>ProductId</th>\n",
              "      <th>UserId</th>\n",
              "      <th>ProfileName</th>\n",
              "      <th>HelpfulnessNumerator</th>\n",
              "      <th>HelpfulnessDenominator</th>\n",
              "      <th>Score</th>\n",
              "      <th>Time</th>\n",
              "      <th>Summary</th>\n",
              "      <th>Text</th>\n",
              "    </tr>\n",
              "  </thead>\n",
              "  <tbody>\n",
              "    <tr>\n",
              "      <th>0</th>\n",
              "      <td>1</td>\n",
              "      <td>B001E4KFG0</td>\n",
              "      <td>A3SGXH7AUHU8GW</td>\n",
              "      <td>delmartian</td>\n",
              "      <td>1</td>\n",
              "      <td>1</td>\n",
              "      <td>5</td>\n",
              "      <td>1303862400</td>\n",
              "      <td>Good Quality Dog Food</td>\n",
              "      <td>I have bought several of the Vitality canned d...</td>\n",
              "    </tr>\n",
              "    <tr>\n",
              "      <th>1</th>\n",
              "      <td>2</td>\n",
              "      <td>B00813GRG4</td>\n",
              "      <td>A1D87F6ZCVE5NK</td>\n",
              "      <td>dll pa</td>\n",
              "      <td>0</td>\n",
              "      <td>0</td>\n",
              "      <td>1</td>\n",
              "      <td>1346976000</td>\n",
              "      <td>Not as Advertised</td>\n",
              "      <td>Product arrived labeled as Jumbo Salted Peanut...</td>\n",
              "    </tr>\n",
              "    <tr>\n",
              "      <th>2</th>\n",
              "      <td>3</td>\n",
              "      <td>B000LQOCH0</td>\n",
              "      <td>ABXLMWJIXXAIN</td>\n",
              "      <td>Natalia Corres \"Natalia Corres\"</td>\n",
              "      <td>1</td>\n",
              "      <td>1</td>\n",
              "      <td>4</td>\n",
              "      <td>1219017600</td>\n",
              "      <td>\"Delight\" says it all</td>\n",
              "      <td>This is a confection that has been around a fe...</td>\n",
              "    </tr>\n",
              "    <tr>\n",
              "      <th>3</th>\n",
              "      <td>4</td>\n",
              "      <td>B000UA0QIQ</td>\n",
              "      <td>A395BORC6FGVXV</td>\n",
              "      <td>Karl</td>\n",
              "      <td>3</td>\n",
              "      <td>3</td>\n",
              "      <td>2</td>\n",
              "      <td>1307923200</td>\n",
              "      <td>Cough Medicine</td>\n",
              "      <td>If you are looking for the secret ingredient i...</td>\n",
              "    </tr>\n",
              "    <tr>\n",
              "      <th>4</th>\n",
              "      <td>5</td>\n",
              "      <td>B006K2ZZ7K</td>\n",
              "      <td>A1UQRSCLF8GW1T</td>\n",
              "      <td>Michael D. Bigham \"M. Wassir\"</td>\n",
              "      <td>0</td>\n",
              "      <td>0</td>\n",
              "      <td>5</td>\n",
              "      <td>1350777600</td>\n",
              "      <td>Great taffy</td>\n",
              "      <td>Great taffy at a great price.  There was a wid...</td>\n",
              "    </tr>\n",
              "  </tbody>\n",
              "</table>\n",
              "</div>"
            ],
            "text/plain": [
              "   Id  ...                                               Text\n",
              "0   1  ...  I have bought several of the Vitality canned d...\n",
              "1   2  ...  Product arrived labeled as Jumbo Salted Peanut...\n",
              "2   3  ...  This is a confection that has been around a fe...\n",
              "3   4  ...  If you are looking for the secret ingredient i...\n",
              "4   5  ...  Great taffy at a great price.  There was a wid...\n",
              "\n",
              "[5 rows x 10 columns]"
            ]
          },
          "metadata": {
            "tags": []
          },
          "execution_count": 3
        }
      ]
    },
    {
      "cell_type": "code",
      "metadata": {
        "id": "w4Ya2oTosxlt",
        "colab_type": "code",
        "outputId": "9ddf0b07-6037-4c02-fafd-0c4b1153f5d1",
        "colab": {
          "base_uri": "https://localhost:8080/",
          "height": 34
        }
      },
      "source": [
        "# this block will be needed in the real dataset\n",
        "df=df.dropna()\n",
        "df=df[['Summary','Text']].reset_index(drop=True)\n",
        "df.head()\n",
        "\n",
        "len(df) #568411"
      ],
      "execution_count": 4,
      "outputs": [
        {
          "output_type": "execute_result",
          "data": {
            "text/plain": [
              "568411"
            ]
          },
          "metadata": {
            "tags": []
          },
          "execution_count": 4
        }
      ]
    },
    {
      "cell_type": "code",
      "metadata": {
        "id": "vyRJ1WsR2Crg",
        "colab_type": "code",
        "outputId": "74d043fc-12e5-4c07-e982-3ce79cfcb910",
        "colab": {
          "base_uri": "https://localhost:8080/",
          "height": 221
        }
      },
      "source": [
        "print(\"preprocessing\")\n",
        "df[\"Text\"]=df[\"Text\"].str.lower()\n",
        "df[\"Summary\"]=df[\"Summary\"].str.lower()\n",
        "\n",
        "df.head()"
      ],
      "execution_count": 5,
      "outputs": [
        {
          "output_type": "stream",
          "text": [
            "preprocessing\n"
          ],
          "name": "stdout"
        },
        {
          "output_type": "execute_result",
          "data": {
            "text/html": [
              "<div>\n",
              "<style scoped>\n",
              "    .dataframe tbody tr th:only-of-type {\n",
              "        vertical-align: middle;\n",
              "    }\n",
              "\n",
              "    .dataframe tbody tr th {\n",
              "        vertical-align: top;\n",
              "    }\n",
              "\n",
              "    .dataframe thead th {\n",
              "        text-align: right;\n",
              "    }\n",
              "</style>\n",
              "<table border=\"1\" class=\"dataframe\">\n",
              "  <thead>\n",
              "    <tr style=\"text-align: right;\">\n",
              "      <th></th>\n",
              "      <th>Summary</th>\n",
              "      <th>Text</th>\n",
              "    </tr>\n",
              "  </thead>\n",
              "  <tbody>\n",
              "    <tr>\n",
              "      <th>0</th>\n",
              "      <td>good quality dog food</td>\n",
              "      <td>i have bought several of the vitality canned d...</td>\n",
              "    </tr>\n",
              "    <tr>\n",
              "      <th>1</th>\n",
              "      <td>not as advertised</td>\n",
              "      <td>product arrived labeled as jumbo salted peanut...</td>\n",
              "    </tr>\n",
              "    <tr>\n",
              "      <th>2</th>\n",
              "      <td>\"delight\" says it all</td>\n",
              "      <td>this is a confection that has been around a fe...</td>\n",
              "    </tr>\n",
              "    <tr>\n",
              "      <th>3</th>\n",
              "      <td>cough medicine</td>\n",
              "      <td>if you are looking for the secret ingredient i...</td>\n",
              "    </tr>\n",
              "    <tr>\n",
              "      <th>4</th>\n",
              "      <td>great taffy</td>\n",
              "      <td>great taffy at a great price.  there was a wid...</td>\n",
              "    </tr>\n",
              "  </tbody>\n",
              "</table>\n",
              "</div>"
            ],
            "text/plain": [
              "                 Summary                                               Text\n",
              "0  good quality dog food  i have bought several of the vitality canned d...\n",
              "1      not as advertised  product arrived labeled as jumbo salted peanut...\n",
              "2  \"delight\" says it all  this is a confection that has been around a fe...\n",
              "3         cough medicine  if you are looking for the secret ingredient i...\n",
              "4            great taffy  great taffy at a great price.  there was a wid..."
            ]
          },
          "metadata": {
            "tags": []
          },
          "execution_count": 5
        }
      ]
    },
    {
      "cell_type": "code",
      "metadata": {
        "id": "3goBk6shRsaG",
        "colab_type": "code",
        "outputId": "856642e4-341f-43ef-ea9d-08d94420c7cb",
        "colab": {
          "base_uri": "https://localhost:8080/",
          "height": 34
        }
      },
      "source": [
        "!pip install sentencepiece"
      ],
      "execution_count": 6,
      "outputs": [
        {
          "output_type": "stream",
          "text": [
            "Requirement already satisfied: sentencepiece in /usr/local/lib/python3.6/dist-packages (0.1.83)\n"
          ],
          "name": "stdout"
        }
      ]
    },
    {
      "cell_type": "code",
      "metadata": {
        "id": "Q4W_w-xmRzF_",
        "colab_type": "code",
        "outputId": "b3f26279-0edd-45be-c669-978806c99aa8",
        "colab": {
          "base_uri": "https://localhost:8080/",
          "height": 34
        }
      },
      "source": [
        "import logging\n",
        "import sentencepiece as spm\n",
        "import os\n",
        "\n",
        "logging.basicConfig(level=logging.INFO)\n",
        "input_file=\"to_mytxt2.txt\"\n",
        "vocab_size = 15000\n",
        "prefix = 'm_bpe'\n",
        "\n",
        "\n",
        "templates = '--input={} --model_prefix={} --vocab_size={} --pad_id=0 --unk_id=1 --bos_id=2  --eos_id=3 --model_type=bpe'\n",
        "cmd = templates.format(input_file, prefix, vocab_size)\n",
        "\n",
        "spm.SentencePieceTrainer.train(cmd)\n",
        "print(\"BPE model trained!\")\n"
      ],
      "execution_count": 7,
      "outputs": [
        {
          "output_type": "stream",
          "text": [
            "BPE model trained!\n"
          ],
          "name": "stdout"
        }
      ]
    },
    {
      "cell_type": "code",
      "metadata": {
        "id": "YLAeABpEotje",
        "colab_type": "code",
        "colab": {}
      },
      "source": [
        ""
      ],
      "execution_count": 0,
      "outputs": []
    },
    {
      "cell_type": "code",
      "metadata": {
        "id": "xdNf252WRlgg",
        "colab_type": "code",
        "outputId": "32bb2294-201c-40fc-b67d-f67d3d3ac3f4",
        "colab": {
          "base_uri": "https://localhost:8080/",
          "height": 119
        }
      },
      "source": [
        "# makes segmenter instance and loads the model file (m.model)\n",
        "sp_bpe = spm.SentencePieceProcessor()\n",
        "sp_bpe2 = spm.SentencePieceProcessor()\n",
        "sp_bpe.load('{}.model'.format(prefix))\n",
        "sp_bpe2.load('{}.model'.format(prefix))\n",
        "print(\"Trained BPE model loaded\")\n",
        "\n",
        "\n",
        "#option={\"unk\": \"UNK\",\"eos\": \"</s>\"}\n",
        "extra_options = 'bos:eos' #'reverse:bos:eos'\n",
        "sp_bpe.SetEncodeExtraOptions(extra_options)\n",
        "\n",
        "print(\"sp_bpe with extra options \")  \n",
        "print(sp_bpe.EncodeAsIds('so good'))\n",
        "print(sp_bpe.EncodeAsPieces('so good'))\n",
        "\n",
        "#print(\"sp_bpe2 without extra options \")\n",
        "#print(sp_bpe2.EncodeAsIds('so good'))\n",
        "#print(sp_bpe2.EncodeAsPieces('so good'))\n",
        "\n",
        "print(sp_bpe.DecodeIds([5]))\n",
        "# vocabulary size\n",
        "print(len(sp_bpe))"
      ],
      "execution_count": 8,
      "outputs": [
        {
          "output_type": "stream",
          "text": [
            "Trained BPE model loaded\n",
            "sp_bpe with extra options \n",
            "[2, 115, 139, 3]\n",
            "['<s>', '▁so', '▁good', '</s>']\n",
            "a\n",
            "15000\n"
          ],
          "name": "stdout"
        }
      ]
    },
    {
      "cell_type": "code",
      "metadata": {
        "id": "4XBAMdFUVnb6",
        "colab_type": "code",
        "colab": {}
      },
      "source": [
        "df.to_csv(r'/content/drive/My Drive/amazon-fine-food-reviews/to_mytxt2.txt', header=None, index=None, sep=' ', mode='a')\n"
      ],
      "execution_count": 0,
      "outputs": []
    },
    {
      "cell_type": "code",
      "metadata": {
        "id": "eG0m2fcISZCs",
        "colab_type": "code",
        "outputId": "b8253e2a-1665-4fd3-cb5f-2730052298b5",
        "colab": {
          "base_uri": "https://localhost:8080/",
          "height": 289
        }
      },
      "source": [
        "import warnings\n",
        "warnings.filterwarnings(\"ignore\")\n",
        "\n",
        "df[\"Tokened_Summary\"]=df[\"Summary\"].apply(lambda x:sp_bpe.encode_as_pieces(x))\n",
        "df[\"Tokened_Text\"]=df[\"Text\"].apply(lambda x:sp_bpe2.encode_as_pieces(x))\n",
        "#val.head(10)\n",
        "\n",
        "\n",
        "df.head()"
      ],
      "execution_count": 10,
      "outputs": [
        {
          "output_type": "execute_result",
          "data": {
            "text/html": [
              "<div>\n",
              "<style scoped>\n",
              "    .dataframe tbody tr th:only-of-type {\n",
              "        vertical-align: middle;\n",
              "    }\n",
              "\n",
              "    .dataframe tbody tr th {\n",
              "        vertical-align: top;\n",
              "    }\n",
              "\n",
              "    .dataframe thead th {\n",
              "        text-align: right;\n",
              "    }\n",
              "</style>\n",
              "<table border=\"1\" class=\"dataframe\">\n",
              "  <thead>\n",
              "    <tr style=\"text-align: right;\">\n",
              "      <th></th>\n",
              "      <th>Summary</th>\n",
              "      <th>Text</th>\n",
              "      <th>Tokened_Summary</th>\n",
              "      <th>Tokened_Text</th>\n",
              "    </tr>\n",
              "  </thead>\n",
              "  <tbody>\n",
              "    <tr>\n",
              "      <th>0</th>\n",
              "      <td>good quality dog food</td>\n",
              "      <td>i have bought several of the vitality canned d...</td>\n",
              "      <td>[&lt;s&gt;, ▁good, ▁quality, ▁dog, ▁food, &lt;/s&gt;]</td>\n",
              "      <td>[▁i, ▁have, ▁bought, ▁several, ▁of, ▁the, ▁vit...</td>\n",
              "    </tr>\n",
              "    <tr>\n",
              "      <th>1</th>\n",
              "      <td>not as advertised</td>\n",
              "      <td>product arrived labeled as jumbo salted peanut...</td>\n",
              "      <td>[&lt;s&gt;, ▁not, ▁as, ▁advertised, &lt;/s&gt;]</td>\n",
              "      <td>[▁product, ▁arrived, ▁labeled, ▁as, ▁jumbo, ▁s...</td>\n",
              "    </tr>\n",
              "    <tr>\n",
              "      <th>2</th>\n",
              "      <td>\"delight\" says it all</td>\n",
              "      <td>this is a confection that has been around a fe...</td>\n",
              "      <td>[&lt;s&gt;, ▁\", delight, \", ▁says, ▁it, ▁all, &lt;/s&gt;]</td>\n",
              "      <td>[▁this, ▁is, ▁a, ▁confection, ▁that, ▁has, ▁be...</td>\n",
              "    </tr>\n",
              "    <tr>\n",
              "      <th>3</th>\n",
              "      <td>cough medicine</td>\n",
              "      <td>if you are looking for the secret ingredient i...</td>\n",
              "      <td>[&lt;s&gt;, ▁cough, ▁medicine, &lt;/s&gt;]</td>\n",
              "      <td>[▁if, ▁you, ▁are, ▁looking, ▁for, ▁the, ▁secre...</td>\n",
              "    </tr>\n",
              "    <tr>\n",
              "      <th>4</th>\n",
              "      <td>great taffy</td>\n",
              "      <td>great taffy at a great price.  there was a wid...</td>\n",
              "      <td>[&lt;s&gt;, ▁great, ▁taffy, &lt;/s&gt;]</td>\n",
              "      <td>[▁great, ▁taffy, ▁at, ▁a, ▁great, ▁price, ., ▁...</td>\n",
              "    </tr>\n",
              "  </tbody>\n",
              "</table>\n",
              "</div>"
            ],
            "text/plain": [
              "                 Summary  ...                                       Tokened_Text\n",
              "0  good quality dog food  ...  [▁i, ▁have, ▁bought, ▁several, ▁of, ▁the, ▁vit...\n",
              "1      not as advertised  ...  [▁product, ▁arrived, ▁labeled, ▁as, ▁jumbo, ▁s...\n",
              "2  \"delight\" says it all  ...  [▁this, ▁is, ▁a, ▁confection, ▁that, ▁has, ▁be...\n",
              "3         cough medicine  ...  [▁if, ▁you, ▁are, ▁looking, ▁for, ▁the, ▁secre...\n",
              "4            great taffy  ...  [▁great, ▁taffy, ▁at, ▁a, ▁great, ▁price, ., ▁...\n",
              "\n",
              "[5 rows x 4 columns]"
            ]
          },
          "metadata": {
            "tags": []
          },
          "execution_count": 10
        }
      ]
    },
    {
      "cell_type": "code",
      "metadata": {
        "id": "Y-l6BxfGSii6",
        "colab_type": "code",
        "outputId": "b9da4129-68d7-476f-832d-4cd7ada15bd6",
        "colab": {
          "base_uri": "https://localhost:8080/",
          "height": 289
        }
      },
      "source": [
        "df[\"Tokened_Summary\"]=df[\"Summary\"].apply(lambda x:sp_bpe.encode_as_ids(x))\n",
        "df[\"Tokened_Text\"]=df[\"Text\"].apply(lambda x:sp_bpe2.encode_as_ids(x))\n",
        "#val.head(10)\n",
        "df.head()"
      ],
      "execution_count": 11,
      "outputs": [
        {
          "output_type": "execute_result",
          "data": {
            "text/html": [
              "<div>\n",
              "<style scoped>\n",
              "    .dataframe tbody tr th:only-of-type {\n",
              "        vertical-align: middle;\n",
              "    }\n",
              "\n",
              "    .dataframe tbody tr th {\n",
              "        vertical-align: top;\n",
              "    }\n",
              "\n",
              "    .dataframe thead th {\n",
              "        text-align: right;\n",
              "    }\n",
              "</style>\n",
              "<table border=\"1\" class=\"dataframe\">\n",
              "  <thead>\n",
              "    <tr style=\"text-align: right;\">\n",
              "      <th></th>\n",
              "      <th>Summary</th>\n",
              "      <th>Text</th>\n",
              "      <th>Tokened_Summary</th>\n",
              "      <th>Tokened_Text</th>\n",
              "    </tr>\n",
              "  </thead>\n",
              "  <tbody>\n",
              "    <tr>\n",
              "      <th>0</th>\n",
              "      <td>good quality dog food</td>\n",
              "      <td>i have bought several of the vitality canned d...</td>\n",
              "      <td>[2, 139, 582, 335, 213, 3]</td>\n",
              "      <td>[6, 103, 493, 972, 46, 10, 1258, 542, 1486, 33...</td>\n",
              "    </tr>\n",
              "    <tr>\n",
              "      <th>1</th>\n",
              "      <td>not as advertised</td>\n",
              "      <td>product arrived labeled as jumbo salted peanut...</td>\n",
              "      <td>[2, 94, 119, 2638, 3]</td>\n",
              "      <td>[167, 1107, 5115, 119, 6697, 4041, 2848, 293, ...</td>\n",
              "    </tr>\n",
              "    <tr>\n",
              "      <th>2</th>\n",
              "      <td>\"delight\" says it all</td>\n",
              "      <td>this is a confection that has been around a fe...</td>\n",
              "      <td>[2, 32, 8841, 14969, 1303, 41, 173, 3]</td>\n",
              "      <td>[62, 48, 5, 8501, 86, 215, 373, 975, 5, 635, 4...</td>\n",
              "    </tr>\n",
              "    <tr>\n",
              "      <th>3</th>\n",
              "      <td>cough medicine</td>\n",
              "      <td>if you are looking for the secret ingredient i...</td>\n",
              "      <td>[2, 6684, 9004, 3]</td>\n",
              "      <td>[203, 79, 104, 747, 65, 10, 5407, 532, 52, 305...</td>\n",
              "    </tr>\n",
              "    <tr>\n",
              "      <th>4</th>\n",
              "      <td>great taffy</td>\n",
              "      <td>great taffy at a great price.  there was a wid...</td>\n",
              "      <td>[2, 172, 4967, 3]</td>\n",
              "      <td>[172, 4967, 174, 5, 172, 300, 14968, 308, 108,...</td>\n",
              "    </tr>\n",
              "  </tbody>\n",
              "</table>\n",
              "</div>"
            ],
            "text/plain": [
              "                 Summary  ...                                       Tokened_Text\n",
              "0  good quality dog food  ...  [6, 103, 493, 972, 46, 10, 1258, 542, 1486, 33...\n",
              "1      not as advertised  ...  [167, 1107, 5115, 119, 6697, 4041, 2848, 293, ...\n",
              "2  \"delight\" says it all  ...  [62, 48, 5, 8501, 86, 215, 373, 975, 5, 635, 4...\n",
              "3         cough medicine  ...  [203, 79, 104, 747, 65, 10, 5407, 532, 52, 305...\n",
              "4            great taffy  ...  [172, 4967, 174, 5, 172, 300, 14968, 308, 108,...\n",
              "\n",
              "[5 rows x 4 columns]"
            ]
          },
          "metadata": {
            "tags": []
          },
          "execution_count": 11
        }
      ]
    },
    {
      "cell_type": "code",
      "metadata": {
        "id": "uLUdQXzO-4wa",
        "colab_type": "code",
        "outputId": "044928cf-c303-456f-eaed-eed4ce8f4176",
        "colab": {
          "base_uri": "https://localhost:8080/",
          "height": 34
        }
      },
      "source": [
        "type(df['Tokened_Summary'][0])"
      ],
      "execution_count": 12,
      "outputs": [
        {
          "output_type": "execute_result",
          "data": {
            "text/plain": [
              "list"
            ]
          },
          "metadata": {
            "tags": []
          },
          "execution_count": 12
        }
      ]
    },
    {
      "cell_type": "code",
      "metadata": {
        "id": "9wRRZq3TS5if",
        "colab_type": "code",
        "outputId": "84d58c71-c944-451d-f037-297f5dba501b",
        "colab": {
          "base_uri": "https://localhost:8080/",
          "height": 170
        }
      },
      "source": [
        "df['summSum']=df['Tokened_Summary'].str.len()\n",
        "df['summSum'].describe()"
      ],
      "execution_count": 13,
      "outputs": [
        {
          "output_type": "execute_result",
          "data": {
            "text/plain": [
              "count    568411.000000\n",
              "mean          7.150532\n",
              "std           3.349560\n",
              "min           3.000000\n",
              "25%           5.000000\n",
              "50%           6.000000\n",
              "75%           9.000000\n",
              "max          90.000000\n",
              "Name: summSum, dtype: float64"
            ]
          },
          "metadata": {
            "tags": []
          },
          "execution_count": 13
        }
      ]
    },
    {
      "cell_type": "code",
      "metadata": {
        "id": "eyJb6sT9S_FK",
        "colab_type": "code",
        "outputId": "061ddf0f-27a7-4a67-f89c-f0f4d1d2902f",
        "colab": {
          "base_uri": "https://localhost:8080/",
          "height": 170
        }
      },
      "source": [
        "df['textSum']=df['Tokened_Text'].str.len()\n",
        "df['textSum'].describe()"
      ],
      "execution_count": 14,
      "outputs": [
        {
          "output_type": "execute_result",
          "data": {
            "text/plain": [
              "count    568411.000000\n",
              "mean        100.951268\n",
              "std         105.346128\n",
              "min           3.000000\n",
              "25%          41.000000\n",
              "50%          69.000000\n",
              "75%         122.000000\n",
              "max        4766.000000\n",
              "Name: textSum, dtype: float64"
            ]
          },
          "metadata": {
            "tags": []
          },
          "execution_count": 14
        }
      ]
    },
    {
      "cell_type": "code",
      "metadata": {
        "id": "ixQARL7uTEQo",
        "colab_type": "code",
        "outputId": "c8cef3ad-467a-4aa9-aa56-5f8bdddc9e21",
        "colab": {
          "base_uri": "https://localhost:8080/",
          "height": 289
        }
      },
      "source": [
        "df.head()"
      ],
      "execution_count": 15,
      "outputs": [
        {
          "output_type": "execute_result",
          "data": {
            "text/html": [
              "<div>\n",
              "<style scoped>\n",
              "    .dataframe tbody tr th:only-of-type {\n",
              "        vertical-align: middle;\n",
              "    }\n",
              "\n",
              "    .dataframe tbody tr th {\n",
              "        vertical-align: top;\n",
              "    }\n",
              "\n",
              "    .dataframe thead th {\n",
              "        text-align: right;\n",
              "    }\n",
              "</style>\n",
              "<table border=\"1\" class=\"dataframe\">\n",
              "  <thead>\n",
              "    <tr style=\"text-align: right;\">\n",
              "      <th></th>\n",
              "      <th>Summary</th>\n",
              "      <th>Text</th>\n",
              "      <th>Tokened_Summary</th>\n",
              "      <th>Tokened_Text</th>\n",
              "      <th>summSum</th>\n",
              "      <th>textSum</th>\n",
              "    </tr>\n",
              "  </thead>\n",
              "  <tbody>\n",
              "    <tr>\n",
              "      <th>0</th>\n",
              "      <td>good quality dog food</td>\n",
              "      <td>i have bought several of the vitality canned d...</td>\n",
              "      <td>[2, 139, 582, 335, 213, 3]</td>\n",
              "      <td>[6, 103, 493, 972, 46, 10, 1258, 542, 1486, 33...</td>\n",
              "      <td>6</td>\n",
              "      <td>54</td>\n",
              "    </tr>\n",
              "    <tr>\n",
              "      <th>1</th>\n",
              "      <td>not as advertised</td>\n",
              "      <td>product arrived labeled as jumbo salted peanut...</td>\n",
              "      <td>[2, 94, 119, 2638, 3]</td>\n",
              "      <td>[167, 1107, 5115, 119, 6697, 4041, 2848, 293, ...</td>\n",
              "      <td>5</td>\n",
              "      <td>38</td>\n",
              "    </tr>\n",
              "    <tr>\n",
              "      <th>2</th>\n",
              "      <td>\"delight\" says it all</td>\n",
              "      <td>this is a confection that has been around a fe...</td>\n",
              "      <td>[2, 32, 8841, 14969, 1303, 41, 173, 3]</td>\n",
              "      <td>[62, 48, 5, 8501, 86, 215, 373, 975, 5, 635, 4...</td>\n",
              "      <td>8</td>\n",
              "      <td>122</td>\n",
              "    </tr>\n",
              "    <tr>\n",
              "      <th>3</th>\n",
              "      <td>cough medicine</td>\n",
              "      <td>if you are looking for the secret ingredient i...</td>\n",
              "      <td>[2, 6684, 9004, 3]</td>\n",
              "      <td>[203, 79, 104, 747, 65, 10, 5407, 532, 52, 305...</td>\n",
              "      <td>4</td>\n",
              "      <td>49</td>\n",
              "    </tr>\n",
              "    <tr>\n",
              "      <th>4</th>\n",
              "      <td>great taffy</td>\n",
              "      <td>great taffy at a great price.  there was a wid...</td>\n",
              "      <td>[2, 172, 4967, 3]</td>\n",
              "      <td>[172, 4967, 174, 5, 172, 300, 14968, 308, 108,...</td>\n",
              "      <td>4</td>\n",
              "      <td>32</td>\n",
              "    </tr>\n",
              "  </tbody>\n",
              "</table>\n",
              "</div>"
            ],
            "text/plain": [
              "                 Summary  ... textSum\n",
              "0  good quality dog food  ...      54\n",
              "1      not as advertised  ...      38\n",
              "2  \"delight\" says it all  ...     122\n",
              "3         cough medicine  ...      49\n",
              "4            great taffy  ...      32\n",
              "\n",
              "[5 rows x 6 columns]"
            ]
          },
          "metadata": {
            "tags": []
          },
          "execution_count": 15
        }
      ]
    },
    {
      "cell_type": "code",
      "metadata": {
        "id": "9BG3Im-oKnTn",
        "colab_type": "code",
        "outputId": "d1d87f1a-9bc7-4c38-e05e-d7f56872ec69",
        "colab": {
          "base_uri": "https://localhost:8080/",
          "height": 34
        }
      },
      "source": [
        "len(df)"
      ],
      "execution_count": 16,
      "outputs": [
        {
          "output_type": "execute_result",
          "data": {
            "text/plain": [
              "568411"
            ]
          },
          "metadata": {
            "tags": []
          },
          "execution_count": 16
        }
      ]
    },
    {
      "cell_type": "code",
      "metadata": {
        "id": "Im8eg4IRc20X",
        "colab_type": "code",
        "colab": {}
      },
      "source": [
        "#https://stackoverflow.com/questions/18936957/count-distinct-words-from-a-pandas-data-frame\n",
        "#df['Tokened_Text'].str.lower().str.split()"
      ],
      "execution_count": 0,
      "outputs": []
    },
    {
      "cell_type": "code",
      "metadata": {
        "id": "-rYFdK3nTKPF",
        "colab_type": "code",
        "outputId": "a9c71d86-7c9b-46be-dbbb-c0c652d49e13",
        "colab": {
          "base_uri": "https://localhost:8080/",
          "height": 34
        }
      },
      "source": [
        "#remove columns which length of tokened_summary > 15 and length of tokened_text >60\n",
        "df = df[(df['textSum'] <100)&(df['summSum']<9)].reset_index(drop=True)\n",
        "len(df)"
      ],
      "execution_count": 18,
      "outputs": [
        {
          "output_type": "execute_result",
          "data": {
            "text/plain": [
              "305941"
            ]
          },
          "metadata": {
            "tags": []
          },
          "execution_count": 18
        }
      ]
    },
    {
      "cell_type": "code",
      "metadata": {
        "id": "mUiFko4TTPni",
        "colab_type": "code",
        "outputId": "a3d1ae48-8f3a-44ab-a5d0-fdab5cd0559b",
        "colab": {
          "base_uri": "https://localhost:8080/",
          "height": 204
        }
      },
      "source": [
        "df=df[['Tokened_Text','Tokened_Summary']]\n",
        "df.head()"
      ],
      "execution_count": 19,
      "outputs": [
        {
          "output_type": "execute_result",
          "data": {
            "text/html": [
              "<div>\n",
              "<style scoped>\n",
              "    .dataframe tbody tr th:only-of-type {\n",
              "        vertical-align: middle;\n",
              "    }\n",
              "\n",
              "    .dataframe tbody tr th {\n",
              "        vertical-align: top;\n",
              "    }\n",
              "\n",
              "    .dataframe thead th {\n",
              "        text-align: right;\n",
              "    }\n",
              "</style>\n",
              "<table border=\"1\" class=\"dataframe\">\n",
              "  <thead>\n",
              "    <tr style=\"text-align: right;\">\n",
              "      <th></th>\n",
              "      <th>Tokened_Text</th>\n",
              "      <th>Tokened_Summary</th>\n",
              "    </tr>\n",
              "  </thead>\n",
              "  <tbody>\n",
              "    <tr>\n",
              "      <th>0</th>\n",
              "      <td>[6, 103, 493, 972, 46, 10, 1258, 542, 1486, 33...</td>\n",
              "      <td>[2, 139, 582, 335, 213, 3]</td>\n",
              "    </tr>\n",
              "    <tr>\n",
              "      <th>1</th>\n",
              "      <td>[167, 1107, 5115, 119, 6697, 4041, 2848, 293, ...</td>\n",
              "      <td>[2, 94, 119, 2638, 3]</td>\n",
              "    </tr>\n",
              "    <tr>\n",
              "      <th>2</th>\n",
              "      <td>[203, 79, 104, 747, 65, 10, 5407, 532, 52, 305...</td>\n",
              "      <td>[2, 6684, 9004, 3]</td>\n",
              "    </tr>\n",
              "    <tr>\n",
              "      <th>3</th>\n",
              "      <td>[172, 4967, 174, 5, 172, 300, 14968, 308, 108,...</td>\n",
              "      <td>[2, 172, 4967, 3]</td>\n",
              "    </tr>\n",
              "    <tr>\n",
              "      <th>4</th>\n",
              "      <td>[6, 543, 5, 2991, 2871, 65, 4967, 29, 648, 62,...</td>\n",
              "      <td>[2, 489, 4967, 3]</td>\n",
              "    </tr>\n",
              "  </tbody>\n",
              "</table>\n",
              "</div>"
            ],
            "text/plain": [
              "                                        Tokened_Text             Tokened_Summary\n",
              "0  [6, 103, 493, 972, 46, 10, 1258, 542, 1486, 33...  [2, 139, 582, 335, 213, 3]\n",
              "1  [167, 1107, 5115, 119, 6697, 4041, 2848, 293, ...       [2, 94, 119, 2638, 3]\n",
              "2  [203, 79, 104, 747, 65, 10, 5407, 532, 52, 305...          [2, 6684, 9004, 3]\n",
              "3  [172, 4967, 174, 5, 172, 300, 14968, 308, 108,...           [2, 172, 4967, 3]\n",
              "4  [6, 543, 5, 2991, 2871, 65, 4967, 29, 648, 62,...           [2, 489, 4967, 3]"
            ]
          },
          "metadata": {
            "tags": []
          },
          "execution_count": 19
        }
      ]
    },
    {
      "cell_type": "code",
      "metadata": {
        "id": "VFgWJ37bTXDg",
        "colab_type": "code",
        "outputId": "27779771-42b0-4867-e58a-fd9a2e4999f1",
        "colab": {
          "base_uri": "https://localhost:8080/",
          "height": 34
        }
      },
      "source": [
        "len(df)"
      ],
      "execution_count": 20,
      "outputs": [
        {
          "output_type": "execute_result",
          "data": {
            "text/plain": [
              "305941"
            ]
          },
          "metadata": {
            "tags": []
          },
          "execution_count": 20
        }
      ]
    },
    {
      "cell_type": "code",
      "metadata": {
        "id": "n0jSxDR2Td8a",
        "colab_type": "code",
        "outputId": "8624d32f-29c1-48b0-b53f-a145d4a33ec7",
        "colab": {
          "base_uri": "https://localhost:8080/",
          "height": 204
        }
      },
      "source": [
        "from sklearn.model_selection import train_test_split\n",
        "train, val = train_test_split(df, test_size=0.3)\n",
        "train.shape\n",
        "#val.shape\n",
        "train.head()"
      ],
      "execution_count": 21,
      "outputs": [
        {
          "output_type": "execute_result",
          "data": {
            "text/html": [
              "<div>\n",
              "<style scoped>\n",
              "    .dataframe tbody tr th:only-of-type {\n",
              "        vertical-align: middle;\n",
              "    }\n",
              "\n",
              "    .dataframe tbody tr th {\n",
              "        vertical-align: top;\n",
              "    }\n",
              "\n",
              "    .dataframe thead th {\n",
              "        text-align: right;\n",
              "    }\n",
              "</style>\n",
              "<table border=\"1\" class=\"dataframe\">\n",
              "  <thead>\n",
              "    <tr style=\"text-align: right;\">\n",
              "      <th></th>\n",
              "      <th>Tokened_Text</th>\n",
              "      <th>Tokened_Summary</th>\n",
              "    </tr>\n",
              "  </thead>\n",
              "  <tbody>\n",
              "    <tr>\n",
              "      <th>48538</th>\n",
              "      <td>[337, 1202, 143, 79, 548, 293, 222, 5980, 7695...</td>\n",
              "      <td>[2, 88, 442, 1981, 3]</td>\n",
              "    </tr>\n",
              "    <tr>\n",
              "      <th>19671</th>\n",
              "      <td>[10, 1988, 847, 103, 373, 329, 3342, 1002, 29,...</td>\n",
              "      <td>[2, 1557, 8089, 3]</td>\n",
              "    </tr>\n",
              "    <tr>\n",
              "      <th>151195</th>\n",
              "      <td>[768, 1387, 29, 300, 14968, 4712, 12506, 6708,...</td>\n",
              "      <td>[2, 491, 3594, 104, 172, 3]</td>\n",
              "    </tr>\n",
              "    <tr>\n",
              "      <th>235054</th>\n",
              "      <td>[62, 48, 1626, 337, 6, 1180, 115, 86, 6, 436, ...</td>\n",
              "      <td>[2, 489, 14977, 3]</td>\n",
              "    </tr>\n",
              "    <tr>\n",
              "      <th>265458</th>\n",
              "      <td>[62, 108, 1626, 337, 6, 1598, 65, 88, 6282, 13...</td>\n",
              "      <td>[2, 537, 65, 13831, 1641, 638, 14977, 3]</td>\n",
              "    </tr>\n",
              "  </tbody>\n",
              "</table>\n",
              "</div>"
            ],
            "text/plain": [
              "                                             Tokened_Text                           Tokened_Summary\n",
              "48538   [337, 1202, 143, 79, 548, 293, 222, 5980, 7695...                     [2, 88, 442, 1981, 3]\n",
              "19671   [10, 1988, 847, 103, 373, 329, 3342, 1002, 29,...                        [2, 1557, 8089, 3]\n",
              "151195  [768, 1387, 29, 300, 14968, 4712, 12506, 6708,...               [2, 491, 3594, 104, 172, 3]\n",
              "235054  [62, 48, 1626, 337, 6, 1180, 115, 86, 6, 436, ...                        [2, 489, 14977, 3]\n",
              "265458  [62, 108, 1626, 337, 6, 1598, 65, 88, 6282, 13...  [2, 537, 65, 13831, 1641, 638, 14977, 3]"
            ]
          },
          "metadata": {
            "tags": []
          },
          "execution_count": 21
        }
      ]
    },
    {
      "cell_type": "code",
      "metadata": {
        "id": "jxOoR6zWTm5o",
        "colab_type": "code",
        "outputId": "6d798d55-0bab-4157-b107-10e6774f51dd",
        "colab": {
          "base_uri": "https://localhost:8080/",
          "height": 34
        }
      },
      "source": [
        "len(train)"
      ],
      "execution_count": 22,
      "outputs": [
        {
          "output_type": "execute_result",
          "data": {
            "text/plain": [
              "214158"
            ]
          },
          "metadata": {
            "tags": []
          },
          "execution_count": 22
        }
      ]
    },
    {
      "cell_type": "code",
      "metadata": {
        "id": "595e0Om0TqK7",
        "colab_type": "code",
        "outputId": "cfdcaddd-3e90-4d06-e027-6998a95809e4",
        "colab": {
          "base_uri": "https://localhost:8080/",
          "height": 204
        }
      },
      "source": [
        "val.head()"
      ],
      "execution_count": 23,
      "outputs": [
        {
          "output_type": "execute_result",
          "data": {
            "text/html": [
              "<div>\n",
              "<style scoped>\n",
              "    .dataframe tbody tr th:only-of-type {\n",
              "        vertical-align: middle;\n",
              "    }\n",
              "\n",
              "    .dataframe tbody tr th {\n",
              "        vertical-align: top;\n",
              "    }\n",
              "\n",
              "    .dataframe thead th {\n",
              "        text-align: right;\n",
              "    }\n",
              "</style>\n",
              "<table border=\"1\" class=\"dataframe\">\n",
              "  <thead>\n",
              "    <tr style=\"text-align: right;\">\n",
              "      <th></th>\n",
              "      <th>Tokened_Text</th>\n",
              "      <th>Tokened_Summary</th>\n",
              "    </tr>\n",
              "  </thead>\n",
              "  <tbody>\n",
              "    <tr>\n",
              "      <th>235450</th>\n",
              "      <td>[6, 222, 62, 501, 14968, 105, 522, 103, 5, 536...</td>\n",
              "      <td>[2, 172, 501, 3]</td>\n",
              "    </tr>\n",
              "    <tr>\n",
              "      <th>179861</th>\n",
              "      <td>[191, 115, 79, 514, 14972, 79, 143, 925, 238, ...</td>\n",
              "      <td>[2, 1161, 2105, 3]</td>\n",
              "    </tr>\n",
              "    <tr>\n",
              "      <th>40631</th>\n",
              "      <td>[10, 167, 48, 172, 14968, 6, 143, 14973, 14949...</td>\n",
              "      <td>[2, 2080, 2100, 3]</td>\n",
              "    </tr>\n",
              "    <tr>\n",
              "      <th>279870</th>\n",
              "      <td>[163, 104, 3451, 14977, 4105, 694, 472, 65, 22...</td>\n",
              "      <td>[2, 768, 14977, 3]</td>\n",
              "    </tr>\n",
              "    <tr>\n",
              "      <th>133169</th>\n",
              "      <td>[88, 491, 1071, 10, 2221, 29, 108, 1137, 33, 2...</td>\n",
              "      <td>[2, 491, 213, 3]</td>\n",
              "    </tr>\n",
              "  </tbody>\n",
              "</table>\n",
              "</div>"
            ],
            "text/plain": [
              "                                             Tokened_Text     Tokened_Summary\n",
              "235450  [6, 222, 62, 501, 14968, 105, 522, 103, 5, 536...    [2, 172, 501, 3]\n",
              "179861  [191, 115, 79, 514, 14972, 79, 143, 925, 238, ...  [2, 1161, 2105, 3]\n",
              "40631   [10, 167, 48, 172, 14968, 6, 143, 14973, 14949...  [2, 2080, 2100, 3]\n",
              "279870  [163, 104, 3451, 14977, 4105, 694, 472, 65, 22...  [2, 768, 14977, 3]\n",
              "133169  [88, 491, 1071, 10, 2221, 29, 108, 1137, 33, 2...    [2, 491, 213, 3]"
            ]
          },
          "metadata": {
            "tags": []
          },
          "execution_count": 23
        }
      ]
    },
    {
      "cell_type": "code",
      "metadata": {
        "id": "r8xG6bLVTr4k",
        "colab_type": "code",
        "outputId": "f21f4a81-8306-4c3c-fcbc-d008ea74990e",
        "colab": {
          "base_uri": "https://localhost:8080/",
          "height": 34
        }
      },
      "source": [
        "len(val)"
      ],
      "execution_count": 24,
      "outputs": [
        {
          "output_type": "execute_result",
          "data": {
            "text/plain": [
              "91783"
            ]
          },
          "metadata": {
            "tags": []
          },
          "execution_count": 24
        }
      ]
    },
    {
      "cell_type": "code",
      "metadata": {
        "id": "a5ofP23KT2wC",
        "colab_type": "code",
        "outputId": "892d496e-c8ef-4159-b7db-c755d596ed89",
        "colab": {
          "base_uri": "https://localhost:8080/",
          "height": 119
        }
      },
      "source": [
        "with open('{}.vocab'.format(prefix), encoding='utf-8') as f:\n",
        "    vocabs = [doc.strip() for doc in f]\n",
        "\n",
        "print('num of vocabs = {}'.format(len(vocabs))) # 2000\n",
        "print(sp_bpe.unk_id())\n",
        "for id in range (4):\n",
        "  print(sp_bpe.id_to_piece(id),sp_bpe.is_control(id))"
      ],
      "execution_count": 25,
      "outputs": [
        {
          "output_type": "stream",
          "text": [
            "num of vocabs = 15000\n",
            "1\n",
            "<pad> True\n",
            "<unk> False\n",
            "<s> True\n",
            "</s> True\n"
          ],
          "name": "stdout"
        }
      ]
    },
    {
      "cell_type": "code",
      "metadata": {
        "id": "fGxxk97JT9Zl",
        "colab_type": "code",
        "outputId": "ec0f8edb-fc8e-40ed-f957-f10d988ec8ac",
        "colab": {
          "base_uri": "https://localhost:8080/",
          "height": 119
        }
      },
      "source": [
        "x_train=train.iloc[:,0]\n",
        "x_val=val.iloc[:,0] \n",
        "y_train=train.iloc[:,1]\n",
        "y_val=val.iloc[:,1]\n",
        "x_train.head()"
      ],
      "execution_count": 26,
      "outputs": [
        {
          "output_type": "execute_result",
          "data": {
            "text/plain": [
              "48538     [337, 1202, 143, 79, 548, 293, 222, 5980, 7695...\n",
              "19671     [10, 1988, 847, 103, 373, 329, 3342, 1002, 29,...\n",
              "151195    [768, 1387, 29, 300, 14968, 4712, 12506, 6708,...\n",
              "235054    [62, 48, 1626, 337, 6, 1180, 115, 86, 6, 436, ...\n",
              "265458    [62, 108, 1626, 337, 6, 1598, 65, 88, 6282, 13...\n",
              "Name: Tokened_Text, dtype: object"
            ]
          },
          "metadata": {
            "tags": []
          },
          "execution_count": 26
        }
      ]
    },
    {
      "cell_type": "code",
      "metadata": {
        "id": "LmGT3Tq5U7wa",
        "colab_type": "code",
        "outputId": "dc5c03c0-7cba-4e1a-d6f5-1b461b6cd14e",
        "colab": {
          "base_uri": "https://localhost:8080/",
          "height": 187
        }
      },
      "source": [
        "from keras.preprocessing.sequence import pad_sequences\n",
        "\n",
        "#padding zero up to maximum length\n",
        "x_train   =   pad_sequences(x_train,  maxlen=100, padding='post')\n",
        "x_val   =   pad_sequences(x_val, maxlen=100, padding='post')\n",
        "#padding zero up to maximum length\n",
        "y_train    =   pad_sequences(y_train,  maxlen=9, padding='post')\n",
        "y_val   =   pad_sequences(x_val, maxlen=9, padding='post')\n",
        "\n",
        "print(x_train[14])"
      ],
      "execution_count": 27,
      "outputs": [
        {
          "output_type": "stream",
          "text": [
            "Using TensorFlow backend.\n"
          ],
          "name": "stderr"
        },
        {
          "output_type": "stream",
          "text": [
            "[   62   360  1541  4304    91   131 14968     6   103  1288   710    41\n",
            "    52  1186  7838  1038    46  1112   360 14968    41   215     5   219\n",
            "  1198  1990   209   592   360   387   853  1374  2148   478   341 14968\n",
            "    41   340   215     5  1156  3267   168    33    41    86    48   193\n",
            "  3083 14968   378   704    41    48     5   219  1198   168     6   103\n",
            "   373   710   640    46    41   209    10   360     6   156  6836    41\n",
            "    91 14968    10   965   340  6436   341    52   429  2764 14968     6\n",
            "  1442 14973 14949  1190   344  1373    91    41 14972  1421     6  1608\n",
            "    33  1717 14968     0]\n"
          ],
          "name": "stdout"
        }
      ]
    },
    {
      "cell_type": "code",
      "metadata": {
        "id": "PoCQpbuHVDO3",
        "colab_type": "code",
        "outputId": "b200166f-75a3-47c7-9ebd-fcc524acbd9d",
        "colab": {
          "base_uri": "https://localhost:8080/",
          "height": 34
        }
      },
      "source": [
        "#we get total unique text tokens x_train =14698\n",
        "x_voc=0\n",
        "x_tokens=[]\n",
        "for row in x_train:\n",
        "  for tokenx in row:\n",
        "    if tokenx not in x_tokens:\n",
        "        x_tokens.append(tokenx)\n",
        "        #print(token, end=' ')\n",
        "        x_voc+=1\n",
        "\n",
        "x_voc=x_voc+1\n",
        "print(x_voc)\n"
      ],
      "execution_count": 28,
      "outputs": [
        {
          "output_type": "stream",
          "text": [
            "14294\n"
          ],
          "name": "stdout"
        }
      ]
    },
    {
      "cell_type": "code",
      "metadata": {
        "id": "ECE4tCpRVISi",
        "colab_type": "code",
        "outputId": "abe7ace5-f536-4127-c43c-f073a043be16",
        "colab": {
          "base_uri": "https://localhost:8080/",
          "height": 34
        }
      },
      "source": [
        "x_voc_size=len(sp_bpe)\n",
        "print(x_voc_size)"
      ],
      "execution_count": 29,
      "outputs": [
        {
          "output_type": "stream",
          "text": [
            "15000\n"
          ],
          "name": "stdout"
        }
      ]
    },
    {
      "cell_type": "code",
      "metadata": {
        "id": "TAQE9KTiVOov",
        "colab_type": "code",
        "outputId": "04a5d6a0-6fae-4f7c-999f-4fd7028b43dd",
        "colab": {
          "base_uri": "https://localhost:8080/",
          "height": 34
        }
      },
      "source": [
        "#make a comparision between this one and next cell. \n",
        "#we get total unique text tokens y_train =10866\n",
        "y_voc=0\n",
        "y_tokens=[]\n",
        "\n",
        "for row in y_train:\n",
        "  for tokeny in row:\n",
        "    if tokeny not in y_tokens:\n",
        "      y_tokens.append(tokeny)\n",
        "     \n",
        "      y_voc+=1\n",
        "\n",
        "y_voc=y_voc+1 \n",
        "\n",
        "print(y_voc)"
      ],
      "execution_count": 30,
      "outputs": [
        {
          "output_type": "stream",
          "text": [
            "9934\n"
          ],
          "name": "stdout"
        }
      ]
    },
    {
      "cell_type": "code",
      "metadata": {
        "id": "QLO5_bdPVWJa",
        "colab_type": "code",
        "outputId": "87b80896-f18a-4c17-e00c-57f88508c41d",
        "colab": {
          "base_uri": "https://localhost:8080/",
          "height": 34
        }
      },
      "source": [
        "y_train.shape"
      ],
      "execution_count": 31,
      "outputs": [
        {
          "output_type": "execute_result",
          "data": {
            "text/plain": [
              "(214158, 9)"
            ]
          },
          "metadata": {
            "tags": []
          },
          "execution_count": 31
        }
      ]
    },
    {
      "cell_type": "code",
      "metadata": {
        "id": "m2dsujKOVZk5",
        "colab_type": "code",
        "outputId": "c20ce8b0-4a74-4e17-9d10-360e628d961c",
        "colab": {
          "base_uri": "https://localhost:8080/",
          "height": 34
        }
      },
      "source": [
        "x_train.shape"
      ],
      "execution_count": 32,
      "outputs": [
        {
          "output_type": "execute_result",
          "data": {
            "text/plain": [
              "(214158, 100)"
            ]
          },
          "metadata": {
            "tags": []
          },
          "execution_count": 32
        }
      ]
    },
    {
      "cell_type": "code",
      "metadata": {
        "id": "ay5ENBvPV_zY",
        "colab_type": "code",
        "outputId": "b22990b2-80c3-4067-b25a-ee5e0b29acf5",
        "colab": {
          "base_uri": "https://localhost:8080/",
          "height": 34
        }
      },
      "source": [
        "\n",
        "#we get total unique text tokens y_train =15000 /actually this is the whole voc list size\n",
        "y_voc2=0\n",
        "y_tokens2=[]\n",
        "t = 0\n",
        "for row in y_train:\n",
        "  import numpy as np\n",
        "  t = max(t,np.max(row))\n",
        "  for token in row:\n",
        "    if token not in y_tokens2:\n",
        "      y_tokens2.append(token)\n",
        "      #print(token,end='')\n",
        "      y_voc2+=1\n",
        "\n",
        "y_voc2=y_voc+1 \n",
        "y_voc2 = t+1\n",
        "\n",
        "y_voc2_size=len(sp_bpe)#corrected from sp_bpe2 to sp_bpe\n",
        "print(y_voc2_size)\n"
      ],
      "execution_count": 33,
      "outputs": [
        {
          "output_type": "stream",
          "text": [
            "15000\n"
          ],
          "name": "stdout"
        }
      ]
    },
    {
      "cell_type": "code",
      "metadata": {
        "id": "7F-DI66gk1HF",
        "colab_type": "code",
        "colab": {}
      },
      "source": [
        "#import csv\n",
        "\n",
        "#train_csv = train.to_csv (r'/content/drive/My Drive/amazon-fine-food-reviews/train-real.csv', index = None, header=True)\n",
        "#val_csv = val.to_csv (r'/content/drive/My Drive/amazon-fine-food-reviews/val-real.csv', index = None, header=True)\n",
        "\n"
      ],
      "execution_count": 0,
      "outputs": []
    },
    {
      "cell_type": "code",
      "metadata": {
        "id": "8kls5bACF7rX",
        "colab_type": "code",
        "outputId": "eed2609c-91f0-4a30-e03d-9fd59b7e387a",
        "colab": {
          "base_uri": "https://localhost:8080/",
          "height": 51
        }
      },
      "source": [
        "\n",
        "print(len(train))\n",
        "print(len(val))\n"
      ],
      "execution_count": 34,
      "outputs": [
        {
          "output_type": "stream",
          "text": [
            "214158\n",
            "91783\n"
          ],
          "name": "stdout"
        }
      ]
    },
    {
      "cell_type": "code",
      "metadata": {
        "id": "RetSUFUCneLG",
        "colab_type": "code",
        "colab": {}
      },
      "source": [
        "#df = pd.read_csv(r'/content/drive/My Drive/amazon-fine-food-reviews/train-real.csv')\n",
        "##Dataset is now stored in a Pandas Dataframe\n",
        "\n",
        "#df_v = pd.read_csv(r'/content/drive/My Drive/amazon-fine-food-reviews/val-real.csv')\n",
        "#len(df_v)"
      ],
      "execution_count": 0,
      "outputs": []
    },
    {
      "cell_type": "code",
      "metadata": {
        "id": "rpSq9KBbWe_1",
        "colab_type": "code",
        "outputId": "06f02c4c-1c18-455a-fa09-f7bf1ae7eb85",
        "colab": {
          "base_uri": "https://localhost:8080/",
          "height": 34
        }
      },
      "source": [
        "import tensorflow as tf\n",
        "\n",
        "#from keras.preprocessing.text import Tokenizer \n",
        "#from nltk.corpus import stopwords   \n",
        "from tensorflow.keras.layers import Input, LSTM, Embedding, Dense, Concatenate, TimeDistributed, Bidirectional\n",
        "from tensorflow.keras.models import Model\n",
        "from tensorflow.keras.callbacks import EarlyStopping\n",
        "import warnings\n",
        "from tensorflow.python.layers.core import Dense\n",
        "from tensorflow.python.ops.rnn_cell_impl import _zero_state_tensors\n",
        "print('TensorFlow Version: {}'.format(tf.__version__))"
      ],
      "execution_count": 36,
      "outputs": [
        {
          "output_type": "stream",
          "text": [
            "TensorFlow Version: 1.15.0\n"
          ],
          "name": "stdout"
        }
      ]
    },
    {
      "cell_type": "code",
      "metadata": {
        "id": "cJiozM0npZtp",
        "colab_type": "code",
        "colab": {}
      },
      "source": [
        "import time\n",
        "from tensorflow import keras\n",
        "import datetime, os\n",
        "\n",
        "#import datetime, os\n",
        "from tensorflow.python.keras.callbacks import TensorBoard\n"
      ],
      "execution_count": 0,
      "outputs": []
    },
    {
      "cell_type": "code",
      "metadata": {
        "id": "5fRkrrY4WkkD",
        "colab_type": "code",
        "outputId": "1f80fd3e-50b3-45d5-bed3-05cc200a5cc1",
        "colab": {
          "base_uri": "https://localhost:8080/",
          "height": 836
        }
      },
      "source": [
        "from keras import backend as K\n",
        "from tensorflow.keras.layers import *\n",
        "from attention import *\n",
        "K.clear_session()\n",
        "\n",
        "latent_dim = 300\n",
        "embedding_dim=100  # output vector from embedding layer\n",
        "\n",
        "#encoder\n",
        "\n",
        "max_text_len=100\n",
        "\n",
        "encoder_inputs = Input(shape=(max_text_len,)) \n",
        "encoder_embedding = Embedding(x_voc_size, embedding_dim, trainable=True)(encoder_inputs)\n",
        "\n",
        "\n",
        "#encoder_lstm1\n",
        "encoder_LSTM1=LSTM(latent_dim, return_sequences=True, return_state=True, dropout=0.4, recurrent_dropout=0.4)\n",
        "encoder_output1,state_h1,state_c1=encoder_LSTM1(encoder_embedding)\n",
        "\n",
        "#encoder_lstm2\n",
        "encoder_LSTM2=LSTM(latent_dim, return_sequences=True, return_state=True, dropout=0.4, recurrent_dropout=0.4)\n",
        "encoder_output2,state_h2,state_c2=encoder_LSTM2(encoder_output1)\n",
        "\n",
        "#encoder_lstm3\n",
        "encoder_LSTM3=LSTM(latent_dim, return_sequences=True, return_state=True, dropout=0.4, recurrent_dropout=0.4)\n",
        "encoder_outputs,state_h,state_c=encoder_LSTM3(encoder_output2)\n",
        "\n",
        "# Set up the decoder, using `encoder_states` as initial state.\n",
        "decoder_inputs = Input(shape=(None,))\n",
        "\n",
        "#embedding layer\n",
        "dec_emb_layer = Embedding(y_voc2_size, embedding_dim,trainable=True)\n",
        "dec_emb = dec_emb_layer(decoder_inputs)\n",
        "\n",
        "decoder_lstm = LSTM(latent_dim, return_sequences=True, return_state=True,dropout=0.4,recurrent_dropout=0.4)\n",
        "decoder_outputs,decoder_fwd_state, decoder_back_state = decoder_lstm(dec_emb,initial_state=[state_h, state_c])\n",
        "\n",
        "#Attention layer\n",
        "attn_layer = AttentionLayer(name='attention_layer')\n",
        "attn_out, attn_states = attn_layer([encoder_outputs, decoder_outputs])\n",
        "\n",
        "# Concat attention input and decoder LSTM output\n",
        "decoder_concat_input = Concatenate(axis=-1, name='concat_layer')([decoder_outputs, attn_out])\n",
        "\n",
        "#dense layer\n",
        "decoder_dense =  TimeDistributed(Dense(y_voc2_size, activation='softmax'))\n",
        "decoder_outputs = decoder_dense(decoder_concat_input)\n",
        "\n",
        "# Define the model \n",
        "model = Model([encoder_inputs, decoder_inputs], decoder_outputs)\n",
        "\n",
        "model.summary()"
      ],
      "execution_count": 38,
      "outputs": [
        {
          "output_type": "stream",
          "text": [
            "WARNING:tensorflow:From /usr/local/lib/python3.6/dist-packages/tensorflow_core/python/keras/initializers.py:119: calling RandomUniform.__init__ (from tensorflow.python.ops.init_ops) with dtype is deprecated and will be removed in a future version.\n",
            "Instructions for updating:\n",
            "Call initializer instance with the dtype argument instead of passing it to the constructor\n"
          ],
          "name": "stdout"
        },
        {
          "output_type": "stream",
          "text": [
            "WARNING:tensorflow:From /usr/local/lib/python3.6/dist-packages/tensorflow_core/python/keras/initializers.py:119: calling RandomUniform.__init__ (from tensorflow.python.ops.init_ops) with dtype is deprecated and will be removed in a future version.\n",
            "Instructions for updating:\n",
            "Call initializer instance with the dtype argument instead of passing it to the constructor\n"
          ],
          "name": "stderr"
        },
        {
          "output_type": "stream",
          "text": [
            "WARNING:tensorflow:From /usr/local/lib/python3.6/dist-packages/tensorflow_core/python/ops/resource_variable_ops.py:1630: calling BaseResourceVariable.__init__ (from tensorflow.python.ops.resource_variable_ops) with constraint is deprecated and will be removed in a future version.\n",
            "Instructions for updating:\n",
            "If using Keras pass *_constraint arguments to layers.\n"
          ],
          "name": "stdout"
        },
        {
          "output_type": "stream",
          "text": [
            "WARNING:tensorflow:From /usr/local/lib/python3.6/dist-packages/tensorflow_core/python/ops/resource_variable_ops.py:1630: calling BaseResourceVariable.__init__ (from tensorflow.python.ops.resource_variable_ops) with constraint is deprecated and will be removed in a future version.\n",
            "Instructions for updating:\n",
            "If using Keras pass *_constraint arguments to layers.\n",
            "INFO:numexpr.utils:NumExpr defaulting to 2 threads.\n"
          ],
          "name": "stderr"
        },
        {
          "output_type": "stream",
          "text": [
            "Model: \"model\"\n",
            "__________________________________________________________________________________________________\n",
            "Layer (type)                    Output Shape         Param #     Connected to                     \n",
            "==================================================================================================\n",
            "input_1 (InputLayer)            [(None, 100)]        0                                            \n",
            "__________________________________________________________________________________________________\n",
            "embedding (Embedding)           (None, 100, 100)     1500000     input_1[0][0]                    \n",
            "__________________________________________________________________________________________________\n",
            "lstm (LSTM)                     [(None, 100, 300), ( 481200      embedding[0][0]                  \n",
            "__________________________________________________________________________________________________\n",
            "input_2 (InputLayer)            [(None, None)]       0                                            \n",
            "__________________________________________________________________________________________________\n",
            "lstm_1 (LSTM)                   [(None, 100, 300), ( 721200      lstm[0][0]                       \n",
            "__________________________________________________________________________________________________\n",
            "embedding_1 (Embedding)         (None, None, 100)    1500000     input_2[0][0]                    \n",
            "__________________________________________________________________________________________________\n",
            "lstm_2 (LSTM)                   [(None, 100, 300), ( 721200      lstm_1[0][0]                     \n",
            "__________________________________________________________________________________________________\n",
            "lstm_3 (LSTM)                   [(None, None, 300),  481200      embedding_1[0][0]                \n",
            "                                                                 lstm_2[0][1]                     \n",
            "                                                                 lstm_2[0][2]                     \n",
            "__________________________________________________________________________________________________\n",
            "attention_layer (AttentionLayer ((None, None, 300),  180300      lstm_2[0][0]                     \n",
            "                                                                 lstm_3[0][0]                     \n",
            "__________________________________________________________________________________________________\n",
            "concat_layer (Concatenate)      (None, None, 600)    0           lstm_3[0][0]                     \n",
            "                                                                 attention_layer[0][0]            \n",
            "__________________________________________________________________________________________________\n",
            "time_distributed (TimeDistribut (None, None, 15000)  9015000     concat_layer[0][0]               \n",
            "==================================================================================================\n",
            "Total params: 14,600,100\n",
            "Trainable params: 14,600,100\n",
            "Non-trainable params: 0\n",
            "__________________________________________________________________________________________________\n"
          ],
          "name": "stdout"
        }
      ]
    },
    {
      "cell_type": "code",
      "metadata": {
        "id": "C3UzLkwsXAYB",
        "colab_type": "code",
        "colab": {}
      },
      "source": [
        "#Can I use TensorBoard with Google Colab?\n",
        "#Tensorboard: ValueError: Duplicate plugins for name projector #22676\n",
        "#https://github.com/pytorch/pytorch/issues/22676\n",
        "\n",
        "logs_base_dir = \"./logs\"\n",
        "logdir = os.path.join(logs_base_dir, datetime.datetime.now().strftime(\"%Y%m%d-%H%M%S\"))\n",
        "tensorboard_callback = tf.keras.callbacks.TensorBoard(logdir)\n",
        "\n"
      ],
      "execution_count": 0,
      "outputs": []
    },
    {
      "cell_type": "code",
      "metadata": {
        "id": "IUpspmzHXFqx",
        "colab_type": "code",
        "outputId": "504ee823-ee20-4242-d2a2-75c3c5ab7ab7",
        "colab": {
          "base_uri": "https://localhost:8080/",
          "height": 343
        }
      },
      "source": [
        "import os\n",
        "if os.path.isfile(\"model_weights.h5\"):\n",
        "    print(\"Load the model\")\n",
        "    model.load_weights('/content/drive/My Drive/modelsone/model_weights.h5')\n",
        "else:\n",
        "  print(\"Start to train the model\")\n",
        "  model.compile(optimizer='rmsprop', loss='sparse_categorical_crossentropy')\n",
        "  es = EarlyStopping(monitor='val_loss', mode='min', verbose=1,patience=8)\n",
        "\n",
        "  history=model.fit([x_train,y_train[:,:-1]], y_train.reshape(y_train.shape[0],y_train.shape[1], 1)[:,1:] ,epochs=5,callbacks=[es, tensorboard_callback],batch_size=384, validation_data=([x_val,y_val[:,:-1]], y_val.reshape(y_val.shape[0],y_val.shape[1], 1)[:,1:]))\n",
        "  model.save_weights('/content/drive/My Drive/modelbpe/model_weights.h5')"
      ],
      "execution_count": 41,
      "outputs": [
        {
          "output_type": "stream",
          "text": [
            "Start to train the model\n",
            "WARNING:tensorflow:From /usr/local/lib/python3.6/dist-packages/tensorflow_core/python/ops/math_grad.py:1424: where (from tensorflow.python.ops.array_ops) is deprecated and will be removed in a future version.\n",
            "Instructions for updating:\n",
            "Use tf.where in 2.0, which has the same broadcast rule as np.where\n"
          ],
          "name": "stdout"
        },
        {
          "output_type": "stream",
          "text": [
            "WARNING:tensorflow:From /usr/local/lib/python3.6/dist-packages/tensorflow_core/python/ops/math_grad.py:1424: where (from tensorflow.python.ops.array_ops) is deprecated and will be removed in a future version.\n",
            "Instructions for updating:\n",
            "Use tf.where in 2.0, which has the same broadcast rule as np.where\n"
          ],
          "name": "stderr"
        },
        {
          "output_type": "stream",
          "text": [
            "Train on 214158 samples, validate on 91783 samples\n",
            "Epoch 1/5\n",
            "214158/214158 [==============================] - 1130s 5ms/sample - loss: 2.7564 - val_loss: 0.5111\n",
            "Epoch 2/5\n",
            "214158/214158 [==============================] - 1126s 5ms/sample - loss: 2.3533 - val_loss: 0.5143\n",
            "Epoch 3/5\n",
            "214158/214158 [==============================] - 1129s 5ms/sample - loss: 2.1998 - val_loss: 0.6664\n",
            "Epoch 4/5\n",
            "214158/214158 [==============================] - 1128s 5ms/sample - loss: 2.1090 - val_loss: 0.5360\n",
            "Epoch 5/5\n",
            "214158/214158 [==============================] - 1125s 5ms/sample - loss: 2.0433 - val_loss: 0.3001\n"
          ],
          "name": "stdout"
        }
      ]
    },
    {
      "cell_type": "code",
      "metadata": {
        "id": "tl3rIsr3TOaO",
        "colab_type": "code",
        "colab": {}
      },
      "source": [
        "#create normal h5 file\n",
        "\n",
        "model.save('/content/drive/My Drive/modelbpe/model.h5') "
      ],
      "execution_count": 0,
      "outputs": []
    },
    {
      "cell_type": "code",
      "metadata": {
        "id": "CJHhz0ma_w38",
        "colab_type": "code",
        "outputId": "9e74c993-5d9c-4515-e0bf-3fdcf74effe8",
        "colab": {
          "base_uri": "https://localhost:8080/",
          "height": 224
        }
      },
      "source": [
        "mytest = sp_bpe.encode_as_ids('love this bbq sauce... can\\'t wait for this to be more available, i buy it up if i see a few at the local stores.')\n",
        "newtest= sp_bpe.encode_as_ids('and I feel like a new man with this bag I looooove it !!')\n",
        "print(mytest)\n",
        "test = pad_sequences([newtest],  maxlen=100, padding='post')\n",
        "print(test)\n",
        "secNewTest=sp_bpe.DecodeIds(newtest)\n",
        "#?? means UNK\n",
        "print(secNewTest)"
      ],
      "execution_count": 43,
      "outputs": [
        {
          "output_type": "stream",
          "text": [
            "[2, 222, 62, 1961, 831, 293, 143, 14973, 14949, 1694, 65, 62, 33, 58, 219, 1065, 14972, 6, 257, 41, 265, 203, 6, 404, 5, 635, 174, 10, 780, 907, 14968, 3]\n",
            "[[    2    29 14947     1   733   129     5   562  1244    91    62   317\n",
            "  14947     1   110  5868    45    41  7213     3     0     0     0     0\n",
            "      0     0     0     0     0     0     0     0     0     0     0     0\n",
            "      0     0     0     0     0     0     0     0     0     0     0     0\n",
            "      0     0     0     0     0     0     0     0     0     0     0     0\n",
            "      0     0     0     0     0     0     0     0     0     0     0     0\n",
            "      0     0     0     0     0     0     0     0     0     0     0     0\n",
            "      0     0     0     0     0     0     0     0     0     0     0     0\n",
            "      0     0     0     0]]\n",
            "and  ⁇  feel like a new man with this bag  ⁇  looooove it !!\n"
          ],
          "name": "stdout"
        }
      ]
    },
    {
      "cell_type": "code",
      "metadata": {
        "id": "v1jjoLBvtknS",
        "colab_type": "code",
        "colab": {}
      },
      "source": [
        "\n",
        "# Encode the input sequence to get the feature vector\n",
        "encoder_model = Model(inputs=encoder_inputs,outputs=[encoder_outputs, state_h, state_c])\n",
        "\n",
        "encoder_model.save_weights('/content/drive/My Drive/modelbpe/encoder_model_weights.h5')\n",
        "\n",
        "# Decoder setup\n",
        "# Below tensors will hold the states of the previous time step\n",
        "decoder_state_input_h = Input(shape=(latent_dim,))\n",
        "decoder_state_input_c = Input(shape=(latent_dim,))\n",
        "decoder_hidden_state_input = Input(shape=(max_text_len,latent_dim))\n",
        "\n",
        "# Get the embeddings of the decoder sequence\n",
        "dec_emb2= dec_emb_layer(decoder_inputs) \n",
        "# To predict the next word in the sequence, set the initial states to the states from the previous time step\n",
        "decoder_outputs2, state_h2, state_c2 = decoder_lstm(dec_emb2, initial_state=[decoder_state_input_h, decoder_state_input_c])\n",
        "\n",
        "#attention inference\n",
        "attn_out_inf, attn_states_inf = attn_layer([decoder_hidden_state_input, decoder_outputs2])\n",
        "decoder_inf_concat = Concatenate(axis=-1, name='concat')([decoder_outputs2, attn_out_inf])\n",
        "\n",
        "# A dense softmax layer to generate prob dist. over the target vocabulary\n",
        "decoder_outputs2 = decoder_dense(decoder_inf_concat) \n",
        "\n",
        "# Final decoder model\n",
        "decoder_model = Model(\n",
        "    [decoder_inputs] + [decoder_hidden_state_input,decoder_state_input_h, decoder_state_input_c],\n",
        "    [decoder_outputs2] + [state_h2, state_c2])\n",
        "decoder_model.save_weights('/content/drive/My Drive/modelbpe/decoder_model_weights.h5')\n",
        "\n",
        "max_summary_len = 9\n",
        "def decode_sequence(input_seq):\n",
        "    # Encode the input as state vectors.\n",
        "    e_out, e_h, e_c = encoder_model.predict(input_seq)\n",
        "\n",
        "    # Generate empty target sequence of length 1.\n",
        "    target_seq = np.zeros((1,1))\n",
        "    \n",
        "    # Populate the first word of target sequence with the start word.\n",
        "    target_seq[0, 0] = 2 #target_word_index['sostok']\n",
        "\n",
        "    stop_condition = False\n",
        "    decoded_sentence = ''\n",
        "    while not stop_condition:\n",
        "      \n",
        "        output_tokens, h, c = decoder_model.predict([target_seq] + [e_out, e_h, e_c])\n",
        "\n",
        "        # Sample a token\n",
        "        sampled_token_index = int(np.argmax(output_tokens[0, -1, :]))\n",
        "        sampled_token = sp_bpe.DecodeIds([sampled_token_index]) #reverse_target_word_index[sampled_token_index]\n",
        "        \n",
        "        if(sampled_token!=3):#'eostok'):\n",
        "            decoded_sentence += ' '+sampled_token\n",
        "\n",
        "        # Exit condition: either hit max length or find stop word.\n",
        "        if (sampled_token_index == 3 or sampled_token_index == 0 or len(decoded_sentence.split()) >= (max_summary_len-1)):\n",
        "            stop_condition = True\n",
        "\n",
        "        # Update the target sequence (of length 1).\n",
        "        target_seq = np.zeros((1,1))\n",
        "        target_seq[0, 0] = sampled_token_index\n",
        "\n",
        "        # Update internal states\n",
        "        e_h, e_c = h, c\n",
        "\n",
        "    return decoded_sentence\n",
        "  \n",
        "#decode_sequence(test)"
      ],
      "execution_count": 0,
      "outputs": []
    },
    {
      "cell_type": "code",
      "metadata": {
        "id": "YoB3qfYmnARZ",
        "colab_type": "code",
        "colab": {}
      },
      "source": [
        "#define the functions to convert an integer sequence to a word sequence for summary as well as the reviews:\n",
        "\n",
        "def seq2summary(input_seq):\n",
        "    newString=''\n",
        "    for i in input_seq:\n",
        "        if((i!=0 and i!=target_seq[2]) and i!=target_seq[3]):\n",
        "            newString=newString+sp_bpe.DecodeIds[i]+' '\n",
        "    return newString\n",
        "\n",
        "def seq2text(input_seq):\n",
        "    newString=''\n",
        "    for i in input_seq:\n",
        "        if(i!=0):\n",
        "            newString=newString+sp_bpe2.DecodeIds[i]+' '\n",
        "    return newString"
      ],
      "execution_count": 0,
      "outputs": []
    },
    {
      "cell_type": "code",
      "metadata": {
        "id": "sgjoqA8hk6x8",
        "colab_type": "code",
        "outputId": "8cfaab4f-f1dd-4d30-b514-1cd520c9c8f5",
        "colab": {
          "base_uri": "https://localhost:8080/",
          "height": 105
        }
      },
      "source": [
        "!pip install rouge"
      ],
      "execution_count": 46,
      "outputs": [
        {
          "output_type": "stream",
          "text": [
            "Collecting rouge\n",
            "  Downloading https://files.pythonhosted.org/packages/63/ac/b93411318529980ab7f41e59ed64ec3ffed08ead32389e29eb78585dd55d/rouge-0.3.2-py3-none-any.whl\n",
            "Installing collected packages: rouge\n",
            "Successfully installed rouge-0.3.2\n"
          ],
          "name": "stdout"
        }
      ]
    },
    {
      "cell_type": "code",
      "metadata": {
        "id": "jacAOdpUe5Ed",
        "colab_type": "code",
        "outputId": "38b300b3-20a1-47dc-e27f-487a924801f6",
        "colab": {
          "base_uri": "https://localhost:8080/",
          "height": 54
        }
      },
      "source": [
        "#test some examples\n",
        "from rouge import Rouge \n",
        "\n",
        "hypothesis = \"the #### transcript is a written version of each day 's cnn student news program use this transcript to help students with reading comprehension and vocabulary use the weekly newsquiz to test your knowledge of storie s you     saw on cnn student news\"\n",
        "\n",
        "reference = \"this page includes the show transcript use the transcript to help students with reading comprehension and vocabulary at the bottom of the page , comment for a chance to be mentioned on cnn student news . you must be a teac    her or a student age # # or older to request a mention on the cnn student news roll call . the weekly newsquiz tests     students ' knowledge of even ts in the news\"\n",
        "\n",
        "rouge = Rouge()\n",
        "scores = rouge.get_scores(hypothesis, reference)\n",
        "print(scores)"
      ],
      "execution_count": 47,
      "outputs": [
        {
          "output_type": "stream",
          "text": [
            "[{'rouge-1': {'f': 0.5238095189484127, 'p': 0.6285714285714286, 'r': 0.4489795918367347}, 'rouge-2': {'f': 0.2727272680991736, 'p': 0.375, 'r': 0.21428571428571427}, 'rouge-l': {'f': 0.4517704517703128, 'p': 0.5714285714285714, 'r': 0.40816326530612246}}]\n"
          ],
          "name": "stdout"
        }
      ]
    },
    {
      "cell_type": "code",
      "metadata": {
        "id": "jIWZoaEUXpqT",
        "colab_type": "code",
        "outputId": "c9e02dc2-7101-4a3a-c8a2-336842e55c16",
        "colab": {
          "base_uri": "https://localhost:8080/",
          "height": 1000
        }
      },
      "source": [
        "for i in range(200,300):\n",
        "    print(\"Review:\",sp_bpe2.DecodeIds(x_train[i].tolist()))\n",
        "    print(\"Original summary:\",sp_bpe.DecodeIds(y_train[i].tolist()))\n",
        "    print(\"Predicted summary:\", decode_sequence(x_train[i].reshape(1,max_text_len)))\n",
        " \n",
        "    #ref. https://pypi.org/project/rouge/\n",
        "    rouge=Rouge()\n",
        "    scores = rouge.get_scores(decode_sequence(x_train[i].reshape(1,max_text_len)),sp_bpe.DecodeIds(y_train[i].tolist()),avg=True)\n",
        "    print(scores)\n",
        "  \n",
        "    print(\"\\n\")"
      ],
      "execution_count": 48,
      "outputs": [
        {
          "output_type": "stream",
          "text": [
            "Review: i used a manual ceramic ,conical drip coffee maker with a  ⁇ 4 melitta filter, which i have found, makes the best coffee i have ever tasted. this coffee was average tasting, medium bodied and had a slight bitterness, but not offensive. i will not buy it again.\n",
            "Original summary: average flavor\n",
            "Predicted summary:  not for me \n",
            "{'rouge-1': {'f': 0.0, 'p': 0.0, 'r': 0.0}, 'rouge-2': {'f': 0.0, 'p': 0.0, 'r': 0.0}, 'rouge-l': {'f': 0.0, 'p': 0.0, 'r': 0.0}}\n",
            "\n",
            "\n",
            "Review: i found these pretzels originally when i started eating a primarily gluten-free diet. they taste great! i had been getting them from my grocery store, but they are rather expensive, so i was thrilled to find them on amazon for a less expensive price and i was able to get them for even less when i got them on auto-ship. these pretzels are my main snack food and even my family loves them. i would highly recommend them.\n",
            "Original summary: great pretzels!\n",
            "Predicted summary:  great snack \n",
            "{'rouge-1': {'f': 0.4999999950000001, 'p': 0.5, 'r': 0.5}, 'rouge-2': {'f': 0.0, 'p': 0.0, 'r': 0.0}, 'rouge-l': {'f': 0.4999999999995, 'p': 0.5, 'r': 0.5}}\n",
            "\n",
            "\n",
            "Review: if you don't like cinnamon and orange and spice flavor in a tea, this tea is not for you. it was weard at the first time but now i love it. but my husband doesn't like it so i have all these tea just for me.\n",
            "Original summary: good flavor\n",
            "Predicted summary:  great tea \n",
            "{'rouge-1': {'f': 0.0, 'p': 0.0, 'r': 0.0}, 'rouge-2': {'f': 0.0, 'p': 0.0, 'r': 0.0}, 'rouge-l': {'f': 0.0, 'p': 0.0, 'r': 0.0}}\n",
            "\n",
            "\n",
            "Review: this is not the product that i bought, but it is there for me to review so... i bought the vanilla hazelnut pods, which i get on auto ship now due to them being addictive. it is so much easier to make a pod than a pot and so much less waste. i read the ingredients of this product and i believe i read that it has msg or some type of artificial flavoring and thats why i did not purchase it.\n",
            "Original summary: addicted\n",
            "Predicted summary:  not what i expected \n",
            "{'rouge-1': {'f': 0.0, 'p': 0.0, 'r': 0.0}, 'rouge-2': {'f': 0.0, 'p': 0.0, 'r': 0.0}, 'rouge-l': {'f': 0.0, 'p': 0.0, 'r': 0.0}}\n",
            "\n",
            "\n",
            "Review: these mints came as a big surprise. they are the best mints to freshen your breath that i've ever tried. they aren't so powerful that they burn or make your eyes water - but they have the great effect of making your mouth feel cleaner. not the sugary coating that many mints (like tic tacs) leave.<br /><br />i think these work even better than altoids for actually freshening your breath. i will definitely keep them on hand!\n",
            "Original summary: powerful!\n",
            "Predicted summary:  great snack ! \n",
            "{'rouge-1': {'f': 0.0, 'p': 0.0, 'r': 0.0}, 'rouge-2': {'f': 0.0, 'p': 0.0, 'r': 0.0}, 'rouge-l': {'f': 0.0, 'p': 0.0, 'r': 0.0}}\n",
            "\n",
            "\n",
            "Review: based on other reviews i selected grade b maple syrup thinking it would have a stronger maple flavor that would enhanced baked goods. this syrup is very watery & doesn't have much more flavor than karo syrup. a disappointment.\n",
            "Original summary: disappointing\n",
            "Predicted summary:  not what i expected \n",
            "{'rouge-1': {'f': 0.0, 'p': 0.0, 'r': 0.0}, 'rouge-2': {'f': 0.0, 'p': 0.0, 'r': 0.0}, 'rouge-l': {'f': 0.0, 'p': 0.0, 'r': 0.0}}\n",
            "\n",
            "\n",
            "Review: this is a great way to get 10 cups of green tea in a capsule. i love it.\n",
            "Original summary: great product\n",
            "Predicted summary:  great tea \n",
            "{'rouge-1': {'f': 0.4999999950000001, 'p': 0.5, 'r': 0.5}, 'rouge-2': {'f': 0.0, 'p': 0.0, 'r': 0.0}, 'rouge-l': {'f': 0.4999999999995, 'p': 0.5, 'r': 0.5}}\n",
            "\n",
            "\n",
            "Review: the taste is great, but all the berries were melted together making them relatively unenjoyable and hardly easy to eat. sad.\n",
            "Original summary: everything was melted together\n",
            "Predicted summary:  not what i expected \n",
            "{'rouge-1': {'f': 0.0, 'p': 0.0, 'r': 0.0}, 'rouge-2': {'f': 0.0, 'p': 0.0, 'r': 0.0}, 'rouge-l': {'f': 0.0, 'p': 0.0, 'r': 0.0}}\n",
            "\n",
            "\n",
            "Review: we ordered the product...our dog loves them...but no one cares if its 100 degrees outside. recieved in one big melted ball. thought they would ship in dry ice. if its summer or hot in your area dont order them !!\n",
            "Original summary: dont do it\n",
            "Predicted summary:  dog food \n",
            "{'rouge-1': {'f': 0.0, 'p': 0.0, 'r': 0.0}, 'rouge-2': {'f': 0.0, 'p': 0.0, 'r': 0.0}, 'rouge-l': {'f': 0.0, 'p': 0.0, 'r': 0.0}}\n",
            "\n",
            "\n",
            "Review: my cats are kind of finicky and do not like a lot of wet food..this is just a supplement for them in the winter...loves the \"juice\" and that goes first..not real excited about the chicken/beef mix though\n",
            "Original summary: good for the price\n",
            "Predicted summary:  cats love it \n",
            "{'rouge-1': {'f': 0.0, 'p': 0.0, 'r': 0.0}, 'rouge-2': {'f': 0.0, 'p': 0.0, 'r': 0.0}, 'rouge-l': {'f': 0.0, 'p': 0.0, 'r': 0.0}}\n",
            "\n",
            "\n",
            "Review: this gluten free mix is very yummy! many recipies can be made with this mix and it tastes very good. i love the auto shipping that is offered through amazon. try pammela's you'll love it!\n",
            "Original summary: great mix\n",
            "Predicted summary:  best gluten free pasta \n",
            "{'rouge-1': {'f': 0.0, 'p': 0.0, 'r': 0.0}, 'rouge-2': {'f': 0.0, 'p': 0.0, 'r': 0.0}, 'rouge-l': {'f': 0.0, 'p': 0.0, 'r': 0.0}}\n",
            "\n",
            "\n",
            "Review: it is good for potato salad, cole slaw, tuna & egg salad, delviled eggs, and dip for veggies.<br />it a dressing i have reconmended to people to try and they end up using it for all things. please try it you'll like it.\n",
            "Original summary: golden taste\n",
            "Predicted summary:  great product \n",
            "{'rouge-1': {'f': 0.0, 'p': 0.0, 'r': 0.0}, 'rouge-2': {'f': 0.0, 'p': 0.0, 'r': 0.0}, 'rouge-l': {'f': 0.0, 'p': 0.0, 'r': 0.0}}\n",
            "\n",
            "\n",
            "Review: for instant coffee i think this brand tastes better than most conventional store brands, and i like the fact that it is organic, too.\n",
            "Original summary: great taste for instant coffee\n",
            "Predicted summary:  great coffee \n",
            "{'rouge-1': {'f': 0.5714285673469389, 'p': 1.0, 'r': 0.4}, 'rouge-2': {'f': 0.0, 'p': 0.0, 'r': 0.0}, 'rouge-l': {'f': 0.43609022556401383, 'p': 1.0, 'r': 0.4}}\n",
            "\n",
            "\n",
            "Review: came right away. tastes great. great bargain compared to what you pay in retail stores. we drink it every day! am going to buy k-cups on amazon every time we need them now!\n",
            "Original summary: love it\n",
            "Predicted summary:  great product \n",
            "{'rouge-1': {'f': 0.0, 'p': 0.0, 'r': 0.0}, 'rouge-2': {'f': 0.0, 'p': 0.0, 'r': 0.0}, 'rouge-l': {'f': 0.0, 'p': 0.0, 'r': 0.0}}\n",
            "\n",
            "\n",
            "Review: we are diehard stirfry fans and enjoy all types of cultural foods. if it's different and has lots of veggies and a bit of good meat or seafood, we love it. this sauce is the exception. we could hardly eat a few bites. what a waste of a bunch of wonderful ingredients like scallops and fresh vegetables. the sauce is incredibly bitter and salty.\n",
            "Original summary: barely edible\n",
            "Predicted summary:  great product \n",
            "{'rouge-1': {'f': 0.0, 'p': 0.0, 'r': 0.0}, 'rouge-2': {'f': 0.0, 'p': 0.0, 'r': 0.0}, 'rouge-l': {'f': 0.0, 'p': 0.0, 'r': 0.0}}\n",
            "\n",
            "\n",
            "Review: the tea is wonderful. i have several cups per day, so i will definitely be ordering more in the future.\n",
            "Original summary: great decaf green tea\n",
            "Predicted summary:  great tea \n",
            "{'rouge-1': {'f': 0.6666666622222223, 'p': 1.0, 'r': 0.5}, 'rouge-2': {'f': 0.0, 'p': 0.0, 'r': 0.0}, 'rouge-l': {'f': 0.5555555555556296, 'p': 1.0, 'r': 0.5}}\n",
            "\n",
            "\n",
            "Review: i bought this as a gift for my brothers family and they absolutely love it! what a great gift to send to someone. it certainly beats giving flowers! this is something they look forward to getting every month and i can't tell you how much all of them brag about how delicious the cakes are and how happy they are to know they will be getting a fine desert for an entire 6 months. don't be hesitant about ordering this for yourself or as a gift. enjoy!\n",
            "Original summary: cake of the month club\n",
            "Predicted summary:  great gift ! \n",
            "{'rouge-1': {'f': 0.0, 'p': 0.0, 'r': 0.0}, 'rouge-2': {'f': 0.0, 'p': 0.0, 'r': 0.0}, 'rouge-l': {'f': 0.0, 'p': 0.0, 'r': 0.0}}\n",
            "\n",
            "\n",
            "Review: my niece and nephew love them! they are a great snack and i love that it has less sugar than most products. as a aunt i couldn't be happier.\n",
            "Original summary: \"some more please\"\n",
            "Predicted summary:  great snack \n",
            "{'rouge-1': {'f': 0.0, 'p': 0.0, 'r': 0.0}, 'rouge-2': {'f': 0.0, 'p': 0.0, 'r': 0.0}, 'rouge-l': {'f': 0.0, 'p': 0.0, 'r': 0.0}}\n",
            "\n",
            "\n",
            "Review: i directly substited this flour for my standard pizza crust recipe. it came out nice and smooth with great elasticity. i like thin crust and this came out tasty and with just the amount of crunch that i enjoy!!\n",
            "Original summary: great for pizza crust!!\n",
            "Predicted summary:  great bread \n",
            "{'rouge-1': {'f': 0.33333332888888895, 'p': 0.5, 'r': 0.25}, 'rouge-2': {'f': 0.0, 'p': 0.0, 'r': 0.0}, 'rouge-l': {'f': 0.27777777777785184, 'p': 0.5, 'r': 0.25}}\n",
            "\n",
            "\n",
            "Review: these chips are very good!! i couldn't stop eating them. they didn't last very long.<br /><br />the reason i gave them 4 stars, instead of 5, is because i think the bags are a little hard to open. i'm not sure why they need to make a potato chip bag that sturdy, you may need some scissors on hand to open them much easier.\n",
            "Original summary: these are very good\n",
            "Predicted summary:  great chips \n",
            "{'rouge-1': {'f': 0.0, 'p': 0.0, 'r': 0.0}, 'rouge-2': {'f': 0.0, 'p': 0.0, 'r': 0.0}, 'rouge-l': {'f': 0.0, 'p': 0.0, 'r': 0.0}}\n",
            "\n",
            "\n",
            "Review: this product is delicious. i'm addicted to them. i add a little more water when i don't want it too sweet. they work either way. i'm so glad it is starting to get cold again since this item is better during cold season.\n",
            "Original summary: gm apple cider\n",
            "Predicted summary:  delicious ! \n",
            "{'rouge-1': {'f': 0.0, 'p': 0.0, 'r': 0.0}, 'rouge-2': {'f': 0.0, 'p': 0.0, 'r': 0.0}, 'rouge-l': {'f': 0.0, 'p': 0.0, 'r': 0.0}}\n",
            "\n",
            "\n",
            "Review: as i must cook for someone with type 2 diabetes and watch my weight i was so glad that amazon offered this flavor in sugar free. it is almost impossible to find it in my stores as i live in a rural area. it is a nice change from the chocolate and vanilla which are the only local choices\n",
            "Original summary: butterscotch\n",
            "Predicted summary:  great product \n",
            "{'rouge-1': {'f': 0.0, 'p': 0.0, 'r': 0.0}, 'rouge-2': {'f': 0.0, 'p': 0.0, 'r': 0.0}, 'rouge-l': {'f': 0.0, 'p': 0.0, 'r': 0.0}}\n",
            "\n",
            "\n",
            "Review: this is a good coffee, not great but good. it isn't jamaican blue mountain it is a \"blend\". when they use the title \"blend\" for coffee it usually means its 10% or less of the type of coffee. thhis is 10% jamaican and 90% something else, hence the price is much lower. like i said a good coffee but doesn't compare to the real jbm. would i buy it again yes. cheaper than the 100% by a long shot.\n",
            "Original summary: only a blend\n",
            "Predicted summary:  not for me \n",
            "{'rouge-1': {'f': 0.0, 'p': 0.0, 'r': 0.0}, 'rouge-2': {'f': 0.0, 'p': 0.0, 'r': 0.0}, 'rouge-l': {'f': 0.0, 'p': 0.0, 'r': 0.0}}\n",
            "\n",
            "\n",
            "Review: i have ordered two cases of this product so far and have yet to find a bone or a piece of skin. i like that they are packed in oil because i usually consume the oil with the fish on toast or in a salad. i'm not a canned fish connoisseur but i think these taste pretty good and if you order them every month or two you can get free shipping.\n",
            "Original summary: great price great product\n",
            "Predicted summary:  great product \n",
            "{'rouge-1': {'f': 0.7999999952000001, 'p': 1.0, 'r': 0.6666666666666666}, 'rouge-2': {'f': 0.4999999962500001, 'p': 1.0, 'r': 0.3333333333333333}, 'rouge-l': {'f': 0.7428571428570644, 'p': 1.0, 'r': 0.6666666666666666}}\n",
            "\n",
            "\n",
            "Review: if you are looking for something natural to relieve (and possible stop) hot flashes--sage tea will do it. a glass in the morning and one at night and wow what a difference it made!\n",
            "Original summary: great for hot flashes!\n",
            "Predicted summary:  great tea \n",
            "{'rouge-1': {'f': 0.33333332888888895, 'p': 0.5, 'r': 0.25}, 'rouge-2': {'f': 0.0, 'p': 0.0, 'r': 0.0}, 'rouge-l': {'f': 0.27777777777785184, 'p': 0.5, 'r': 0.25}}\n",
            "\n",
            "\n",
            "Review: this is wonderful, strong english tea. it's fantastic with milk and sugar. i have several friends who are always trying to make off with bags of it when they come visit. absolutely better than anything i have available locally; more than worth the bother of ordering it...which isn't really a bother at all with the subscribe option.\n",
            "Original summary: great tea!\n",
            "Predicted summary:  great tea \n",
            "{'rouge-1': {'f': 0.4999999950000001, 'p': 0.5, 'r': 0.5}, 'rouge-2': {'f': 0.0, 'p': 0.0, 'r': 0.0}, 'rouge-l': {'f': 0.4999999999995, 'p': 0.5, 'r': 0.5}}\n",
            "\n",
            "\n",
            "Review: as a kid this ice cream was a favorite treat. i've been told it has the highest milk fat content of any ice cream around and man can you taste it. this stuff is amazing. if you are a fan of premium ice cream this is the best stuff.\n",
            "Original summary: best ice cream ever!!!\n",
            "Predicted summary:  best cereal ever ! \n",
            "{'rouge-1': {'f': 0.24999999500000009, 'p': 0.25, 'r': 0.25}, 'rouge-2': {'f': 0.0, 'p': 0.0, 'r': 0.0}, 'rouge-l': {'f': 0.2499999999995, 'p': 0.25, 'r': 0.25}}\n",
            "\n",
            "\n",
            "Review: it is difficult to find organic fruits and veggies where i live, so having these on hand is a daily lifesaver. not to mention they use minimal packaging and are wonderfully portable. we travel quite a bit, and are very active with our children - so i've even used them as quick \"sound bite snacks\" when teaching, traveling, singing, or working. i recommend them for adults and toddlers alike!\n",
            "Original summary: my toddler loves them\n",
            "Predicted summary:  great product ! \n",
            "{'rouge-1': {'f': 0.0, 'p': 0.0, 'r': 0.0}, 'rouge-2': {'f': 0.0, 'p': 0.0, 'r': 0.0}, 'rouge-l': {'f': 0.0, 'p': 0.0, 'r': 0.0}}\n",
            "\n",
            "\n",
            "Review: i tried this at a party of a friend and ordered it shortly after. wow, it's really good and you have absolutely no idea it's sugar free! my friend had a party in the winter that was a beach theme. she made tropical drinks with it. i mix it with whiskey when company comes over and everyone raves that my cocktails are  ⁇ top notch ⁇ \n",
            "Original summary: really great!\n",
            "Predicted summary:  great product ! \n",
            "{'rouge-1': {'f': 0.0, 'p': 0.0, 'r': 0.0}, 'rouge-2': {'f': 0.0, 'p': 0.0, 'r': 0.0}, 'rouge-l': {'f': 0.0, 'p': 0.0, 'r': 0.0}}\n",
            "\n",
            "\n",
            "Review: i have been finding difficulty locating the decaf version of lemon<br />lift at the grocery stores near me. i was delighted to find it at amazon.<br />i will order again; it is so convenient.\n",
            "Original summary: my cup of tea!\n",
            "Predicted summary:  great tea \n",
            "{'rouge-1': {'f': 0.0, 'p': 0.0, 'r': 0.0}, 'rouge-2': {'f': 0.0, 'p': 0.0, 'r': 0.0}, 'rouge-l': {'f': 0.0, 'p': 0.0, 'r': 0.0}}\n",
            "\n",
            "\n",
            "Review: used this to help slow breast milk production when i was breastfeeding. worked well! i drank 3 cups a day.\n",
            "Original summary: helps slow breast milk production\n",
            "Predicted summary:  good product \n",
            "{'rouge-1': {'f': 0.0, 'p': 0.0, 'r': 0.0}, 'rouge-2': {'f': 0.0, 'p': 0.0, 'r': 0.0}, 'rouge-l': {'f': 0.0, 'p': 0.0, 'r': 0.0}}\n",
            "\n",
            "\n",
            "Review: good thing but look like freezy turd delicious and good for babie eating for good and brittle bone i am from the ukraine sorry englais not arsome but i think all should 2 buy because for fast eating kids! thank you for all of the shipping and fast times with no wait for delivery all the way to glorious ukraine, where sale of frozen soda in cafeteria is forbidden on penalty of goats. love the thank you sir!\n",
            "Original summary: good thing but bad\n",
            "Predicted summary:  great product \n",
            "{'rouge-1': {'f': 0.0, 'p': 0.0, 'r': 0.0}, 'rouge-2': {'f': 0.0, 'p': 0.0, 'r': 0.0}, 'rouge-l': {'f': 0.0, 'p': 0.0, 'r': 0.0}}\n",
            "\n",
            "\n",
            "Review: i have a jrt who is very picky about treats. he loves these. i like that there's no corn syrup here as in many soft treats. the best thing about these is they're soft enough to mold around his pills and he just gulps them down!\n",
            "Original summary: great for my picky dog\n",
            "Predicted summary:  great treats \n",
            "{'rouge-1': {'f': 0.2857142816326531, 'p': 0.5, 'r': 0.2}, 'rouge-2': {'f': 0.0, 'p': 0.0, 'r': 0.0}, 'rouge-l': {'f': 0.21804511278205893, 'p': 0.5, 'r': 0.2}}\n",
            "\n",
            "\n",
            "Review: we only started using this product about a month ago and have already burned through two containers. it's rich in vitamin b-12 and other nutrients but more importantly imparts a cheesy flavor similar to parmesan. it's effective at dressing up salads, vegan mac-and-cheese and pasta sauces but it really shines as a topping for vegan pizza. as an aside, it's a shame this isn't currently an amazon prime product since the shipping doubles the cost.\n",
            "Original summary: a satisfying, cheesy flavor\n",
            "Predicted summary:  great product \n",
            "{'rouge-1': {'f': 0.0, 'p': 0.0, 'r': 0.0}, 'rouge-2': {'f': 0.0, 'p': 0.0, 'r': 0.0}, 'rouge-l': {'f': 0.0, 'p': 0.0, 'r': 0.0}}\n",
            "\n",
            "\n",
            "Review: these are very bitter. i hope the health benefits worth it but i personally think this snack tastes bad.\n",
            "Original summary: very bitter\n",
            "Predicted summary:  good stuff \n",
            "{'rouge-1': {'f': 0.0, 'p': 0.0, 'r': 0.0}, 'rouge-2': {'f': 0.0, 'p': 0.0, 'r': 0.0}, 'rouge-l': {'f': 0.0, 'p': 0.0, 'r': 0.0}}\n",
            "\n",
            "\n",
            "Review: stash teas are very tasty. the flavours are rich and full bodied. enjoy a cup alone or with friends and remember to live in the present moment.\n",
            "Original summary: full of taste\n",
            "Predicted summary:  great tea \n",
            "{'rouge-1': {'f': 0.0, 'p': 0.0, 'r': 0.0}, 'rouge-2': {'f': 0.0, 'p': 0.0, 'r': 0.0}, 'rouge-l': {'f': 0.0, 'p': 0.0, 'r': 0.0}}\n",
            "\n",
            "\n",
            "Review: love this mix, and with the freeze-dried process, the fruit has nutrients that dehydrated fruit doesn't. full of antioxidants, and given fruit's scientific benefit to help prevent cancer, i think this snack is worth every penny, especially with the convenience since i'm always on the go.\n",
            "Original summary: worth the cancer prevention\n",
            "Predicted summary:  great snack \n",
            "{'rouge-1': {'f': 0.0, 'p': 0.0, 'r': 0.0}, 'rouge-2': {'f': 0.0, 'p': 0.0, 'r': 0.0}, 'rouge-l': {'f': 0.0, 'p': 0.0, 'r': 0.0}}\n",
            "\n",
            "\n",
            "Review: i'm drinking a cup as i write this and this is one terrific coffee! if you like the strong, burnt tasting coffees, you'll love this.\n",
            "Original summary: love it!!!\n",
            "Predicted summary:  great coffee \n",
            "{'rouge-1': {'f': 0.0, 'p': 0.0, 'r': 0.0}, 'rouge-2': {'f': 0.0, 'p': 0.0, 'r': 0.0}, 'rouge-l': {'f': 0.0, 'p': 0.0, 'r': 0.0}}\n",
            "\n",
            "\n",
            "Review: i order the venison jerky because it is impossible to find in the stores. the seller shipped their jerky almost immediately. it is some of the best venison jerky i have tasted. they also sent a sampler of buffalo bills beef jerky. you have to taste this beef jerky, it is some of the best that i have tasted. i will definitely order from them again.\n",
            "Original summary: great service and product\n",
            "Predicted summary:  great product \n",
            "{'rouge-1': {'f': 0.6666666622222223, 'p': 1.0, 'r': 0.5}, 'rouge-2': {'f': 0.0, 'p': 0.0, 'r': 0.0}, 'rouge-l': {'f': 0.5555555555556296, 'p': 1.0, 'r': 0.5}}\n",
            "\n",
            "\n",
            "Review: great snack for my daughter. but also my wife and i enjoy its really good taste. this presentation is great for on-the-go situations, but also to keep the product fresh for later (only if you can keep yourself from eating the whole pack).\n",
            "Original summary: great snack!\n",
            "Predicted summary:  great snack \n",
            "{'rouge-1': {'f': 0.4999999950000001, 'p': 0.5, 'r': 0.5}, 'rouge-2': {'f': 0.0, 'p': 0.0, 'r': 0.0}, 'rouge-l': {'f': 0.4999999999995, 'p': 0.5, 'r': 0.5}}\n",
            "\n",
            "\n",
            "Review: just as i wanted! perfect for my wedding. much much cheaper then other sites. the boxes came in sets of 12. all shaped as wedding cakes. so cute!\n",
            "Original summary: perfect!\n",
            "Predicted summary:  great product \n",
            "{'rouge-1': {'f': 0.0, 'p': 0.0, 'r': 0.0}, 'rouge-2': {'f': 0.0, 'p': 0.0, 'r': 0.0}, 'rouge-l': {'f': 0.0, 'p': 0.0, 'r': 0.0}}\n",
            "\n",
            "\n",
            "Review: for me, the best tasting way to get fiber, thumbs up<a href ⁇ \"http://www.amazon.com/gp/product/b003foz1j8\">fiber one chewy bars 90 calorie chocolate peanut butter - 20/0.82oz</a>\n",
            "Original summary: fiber one bars\n",
            "Predicted summary:  great product \n",
            "{'rouge-1': {'f': 0.0, 'p': 0.0, 'r': 0.0}, 'rouge-2': {'f': 0.0, 'p': 0.0, 'r': 0.0}, 'rouge-l': {'f': 0.0, 'p': 0.0, 'r': 0.0}}\n",
            "\n",
            "\n",
            "Review: get em on sale...what can i say? for those concerned with calories and fat consumption..these hit the spot. you can always get a bag at your local market if you want to sample first. i give these 2 thumbs up...\n",
            "Original summary: yumm!\n",
            "Predicted summary:  great product \n",
            "{'rouge-1': {'f': 0.0, 'p': 0.0, 'r': 0.0}, 'rouge-2': {'f': 0.0, 'p': 0.0, 'r': 0.0}, 'rouge-l': {'f': 0.0, 'p': 0.0, 'r': 0.0}}\n",
            "\n",
            "\n",
            "Review: i really love these bars. i prefer them more than name brand candy bars and they are good for you! they came quickly and i had no problems with signs of melting in transit as i had with other nutrition bars. i will certainly keep buying.\n",
            "Original summary: sooo good\n",
            "Predicted summary:  great snack \n",
            "{'rouge-1': {'f': 0.0, 'p': 0.0, 'r': 0.0}, 'rouge-2': {'f': 0.0, 'p': 0.0, 'r': 0.0}, 'rouge-l': {'f': 0.0, 'p': 0.0, 'r': 0.0}}\n",
            "\n",
            "\n",
            "Review: who doesn't love these? i had 4 cases sent to the church that did my grandpa's funeral to give the cookies to the children. my grandpa always saved his oreo's for me when he came home from work. i would crawl into his lap with his lunch box that was bigger than me and he'd take out the cookies and give them to me. i miss my grandpa. long live his spirit and long live oreo's. :)\n",
            "Original summary: yum yum\n",
            "Predicted summary:  great snack ! \n",
            "{'rouge-1': {'f': 0.0, 'p': 0.0, 'r': 0.0}, 'rouge-2': {'f': 0.0, 'p': 0.0, 'r': 0.0}, 'rouge-l': {'f': 0.0, 'p': 0.0, 'r': 0.0}}\n",
            "\n",
            "\n",
            "Review: one of my favorite teas! shipping was great and very fast! i could drink this tea all day long...and to think it is also so good for you. too bad it is not available at nearby stores.\n",
            "Original summary: wonderful!\n",
            "Predicted summary:  great tea \n",
            "{'rouge-1': {'f': 0.0, 'p': 0.0, 'r': 0.0}, 'rouge-2': {'f': 0.0, 'p': 0.0, 'r': 0.0}, 'rouge-l': {'f': 0.0, 'p': 0.0, 'r': 0.0}}\n",
            "\n",
            "\n",
            "Review: left it outside, collected a whole bunch more flies outside but none in the container even though it was prepared exactly as detailed. stinks! threw it out. waste of money.\n",
            "Original summary: does not work\n",
            "Predicted summary:  not what i expected \n",
            "{'rouge-1': {'f': 0.2857142808163266, 'p': 0.25, 'r': 0.3333333333333333}, 'rouge-2': {'f': 0.0, 'p': 0.0, 'r': 0.0}, 'rouge-l': {'f': 0.2747252747245908, 'p': 0.25, 'r': 0.3333333333333333}}\n",
            "\n",
            "\n",
            "Review: i have not had the need to use this grinder yet but it is an excellent size to be on the counter and comfortable to place a hand around it to hold it while turning the grinder handle.\n",
            "Original summary: nice size\n",
            "Predicted summary:  great product \n",
            "{'rouge-1': {'f': 0.0, 'p': 0.0, 'r': 0.0}, 'rouge-2': {'f': 0.0, 'p': 0.0, 'r': 0.0}, 'rouge-l': {'f': 0.0, 'p': 0.0, 'r': 0.0}}\n",
            "\n",
            "\n",
            "Review: great item to keep around the house or office when you grow weary of the same old candies in the dish.\n",
            "Original summary: fireball candy\n",
            "Predicted summary:  great product \n",
            "{'rouge-1': {'f': 0.0, 'p': 0.0, 'r': 0.0}, 'rouge-2': {'f': 0.0, 'p': 0.0, 'r': 0.0}, 'rouge-l': {'f': 0.0, 'p': 0.0, 'r': 0.0}}\n",
            "\n",
            "\n",
            "Review: my girlfriend can't have any gluten, basically anything at all with wheat. most of the gluten free products that would normally be made with wheat flour either taste weird or have a odd texture to them when you are chewing.<br />she came home with these the other day and they actually taste really good! although most gluten free items seem a bit pricey i may buy a case of these for her, and help eat a few of them...\n",
            "Original summary: these are good!\n",
            "Predicted summary:  great for gluten free \n",
            "{'rouge-1': {'f': 0.0, 'p': 0.0, 'r': 0.0}, 'rouge-2': {'f': 0.0, 'p': 0.0, 'r': 0.0}, 'rouge-l': {'f': 0.0, 'p': 0.0, 'r': 0.0}}\n",
            "\n",
            "\n",
            "Review: i have been drinking several of the higgins & burke teas for a while and they never disappoint.<br /><br />i love to start the day with the flavorful english breakfast, hot in the morning to wake me up and then a tasty glass<br />of a very strong and delicious english breakfast cold over ice in the afternoon.<br /><br />this tea is wonderful both hot & cold, strong but never bitter, just tasty!\n",
            "Original summary: a great start for the day\n",
            "Predicted summary:  great tea ! \n",
            "{'rouge-1': {'f': 0.22222221777777784, 'p': 0.3333333333333333, 'r': 0.16666666666666666}, 'rouge-2': {'f': 0.0, 'p': 0.0, 'r': 0.0}, 'rouge-l': {'f': 0.18518518518525923, 'p': 0.3333333333333333, 'r': 0.16666666666666666}}\n",
            "\n",
            "\n",
            "Review: i picked up a box of k cups at wal mart today and was delighted. i set my keurig on the second to smallest cup setting and end up with a really great cup of coffee. this is my new fav. i cant wait to try the breakfest blend and the sumatra.\n",
            "Original summary: good\n",
            "Predicted summary:  great coffee \n",
            "{'rouge-1': {'f': 0.0, 'p': 0.0, 'r': 0.0}, 'rouge-2': {'f': 0.0, 'p': 0.0, 'r': 0.0}, 'rouge-l': {'f': 0.0, 'p': 0.0, 'r': 0.0}}\n",
            "\n",
            "\n",
            "Review: can you believe we have a dog who is even picky about her treats....? well, she can be --- and we've given many a package away to non-picky pups we know. the zuke's obviously hit the spot with her, and the price is certainly right! she gives this product : \"five paws!\"\n",
            "Original summary: whatta treat!\n",
            "Predicted summary:  great product ! \n",
            "{'rouge-1': {'f': 0.0, 'p': 0.0, 'r': 0.0}, 'rouge-2': {'f': 0.0, 'p': 0.0, 'r': 0.0}, 'rouge-l': {'f': 0.0, 'p': 0.0, 'r': 0.0}}\n",
            "\n",
            "\n",
            "Review: we discovered deadman's reach three years ago at the wonderful raven coffeehouse in port huron, mi. from that time on, we were addicted (whoops; i mean hooked). seriously, it's rich and strong; the perfect way to start your day. i allow myself one huge mug per day and i drink it while reading the ny times.\n",
            "Original summary: pure bliss!\n",
            "Predicted summary:  great coffee \n",
            "{'rouge-1': {'f': 0.0, 'p': 0.0, 'r': 0.0}, 'rouge-2': {'f': 0.0, 'p': 0.0, 'r': 0.0}, 'rouge-l': {'f': 0.0, 'p': 0.0, 'r': 0.0}}\n",
            "\n",
            "\n",
            "Review:  ⁇ rolls eyes at other reviewer ⁇  of course its going to smell like a campfire they roast the tea over pine and its awesome!!! i love this tea, but their suggestion of one teaspoon is a bit conservative for black tea you usually do one tablespoon per cup not a teaspoon, its up to preference but i love this tea and the fact that it reminds me of camping is a plus! it makes me feel good, and it tastes great too!\n",
            "Original summary: its good!!\n",
            "Predicted summary:  great tea ! \n",
            "{'rouge-1': {'f': 0.0, 'p': 0.0, 'r': 0.0}, 'rouge-2': {'f': 0.0, 'p': 0.0, 'r': 0.0}, 'rouge-l': {'f': 0.0, 'p': 0.0, 'r': 0.0}}\n",
            "\n",
            "\n",
            "Review: torani syrup, sugar-free vanilla, 25.4-ounce bottles (pack of 3) this syrup is great. it has lots of vanilla flavor. it can be used in soft drinks to add a touch of vanilla to cola products and i also use it heated up in coffee. as an added bonus, by microwaving a small amount in my cup before adding the coffee to my cup, the coffee stays warm much longer.\n",
            "Original summary: torani syrup - vanilla\n",
            "Predicted summary:  great taste \n",
            "{'rouge-1': {'f': 0.0, 'p': 0.0, 'r': 0.0}, 'rouge-2': {'f': 0.0, 'p': 0.0, 'r': 0.0}, 'rouge-l': {'f': 0.0, 'p': 0.0, 'r': 0.0}}\n",
            "\n",
            "\n",
            "Review: excellent coffee, smooth blend, not bitter, well worth the price. i will order again from amazon when the time comes. i highly recommend this coffee.\n",
            "Original summary: blue mountain is the best!\n",
            "Predicted summary:  great coffee \n",
            "{'rouge-1': {'f': 0.0, 'p': 0.0, 'r': 0.0}, 'rouge-2': {'f': 0.0, 'p': 0.0, 'r': 0.0}, 'rouge-l': {'f': 0.0, 'p': 0.0, 'r': 0.0}}\n",
            "\n",
            "\n",
            "Review: my dog loves these new hartz dog biscuits with dentashield.<br /><br />the front of the box really boasts all the dental advantages pretty obviously, so i will just speak for my dog in that he loves the taste and chews them up really fast and it's something he looks forward to.<br /><br />since it has it's benefits and he likes them, i'll continue getting these as well as greenies which are also good for teeth.\n",
            "Original summary: a healthy treat for dogs\n",
            "Predicted summary:  my dog loves it \n",
            "{'rouge-1': {'f': 0.0, 'p': 0.0, 'r': 0.0}, 'rouge-2': {'f': 0.0, 'p': 0.0, 'r': 0.0}, 'rouge-l': {'f': 0.0, 'p': 0.0, 'r': 0.0}}\n",
            "\n",
            "\n",
            "Review: these are the best bones for your dogs. no rawhide and my labs love them. well work the money. i have been ordering these for about 3months now and always a great transaction. delievery has arrived either on time or early. a ⁇ \n",
            "Original summary: best bones around\n",
            "Predicted summary:  great product \n",
            "{'rouge-1': {'f': 0.0, 'p': 0.0, 'r': 0.0}, 'rouge-2': {'f': 0.0, 'p': 0.0, 'r': 0.0}, 'rouge-l': {'f': 0.0, 'p': 0.0, 'r': 0.0}}\n",
            "\n",
            "\n",
            "Review: these were not flavorful enough for my taste. it seems that all the seasoning falls off the chips and sinks to the bottom of the bag. too bad, because i really liked the idea of a healthier potato chip. i would not buy these again.\n",
            "Original summary: kind of bland\n",
            "Predicted summary:  not what i expected \n",
            "{'rouge-1': {'f': 0.0, 'p': 0.0, 'r': 0.0}, 'rouge-2': {'f': 0.0, 'p': 0.0, 'r': 0.0}, 'rouge-l': {'f': 0.0, 'p': 0.0, 'r': 0.0}}\n",
            "\n",
            "\n",
            "Review: the best tasting dark roast for the kurieg i can find.<br /><br />rev and revv 2 are a bit too much caffeine aftertaste but they are also worth looking into for that morning when you cant get going.\n",
            "Original summary: best coffee\n",
            "Predicted summary:  great coffee \n",
            "{'rouge-1': {'f': 0.4999999950000001, 'p': 0.5, 'r': 0.5}, 'rouge-2': {'f': 0.0, 'p': 0.0, 'r': 0.0}, 'rouge-l': {'f': 0.4999999999995, 'p': 0.5, 'r': 0.5}}\n",
            "\n",
            "\n",
            "Review: we use these in our kitchen garbage can and have had no problems--no rips/tears or leaks. highly recommended!\n",
            "Original summary: no problems!\n",
            "Predicted summary:  great product \n",
            "{'rouge-1': {'f': 0.0, 'p': 0.0, 'r': 0.0}, 'rouge-2': {'f': 0.0, 'p': 0.0, 'r': 0.0}, 'rouge-l': {'f': 0.0, 'p': 0.0, 'r': 0.0}}\n",
            "\n",
            "\n",
            "Review: these aren't sold locally so the fact we can get them online is perfect. they are the perfect moist, chewy granola bars. my family loves them  ⁇  looks forward to our monthly shipment!\n",
            "Original summary: best chewy granola bars!\n",
            "Predicted summary:  delicious \n",
            "{'rouge-1': {'f': 0.0, 'p': 0.0, 'r': 0.0}, 'rouge-2': {'f': 0.0, 'p': 0.0, 'r': 0.0}, 'rouge-l': {'f': 0.0, 'p': 0.0, 'r': 0.0}}\n",
            "\n",
            "\n",
            "Review: well, i got excited when i saw these at whole foods. popped em open and gave some to my 9 mos old. after i reviewed the ingredient list i saw it contains wheat. oh well. sticking with the plum organic puffs for now.\n",
            "Original summary: has gluten\n",
            "Predicted summary:  not what i expected \n",
            "{'rouge-1': {'f': 0.0, 'p': 0.0, 'r': 0.0}, 'rouge-2': {'f': 0.0, 'p': 0.0, 'r': 0.0}, 'rouge-l': {'f': 0.0, 'p': 0.0, 'r': 0.0}}\n",
            "\n",
            "\n",
            "Review: i bought this coffee after reading anothers review.(b edwards)<br />i had also tried different pods trying to find one that would make a strong full bodied coffee flavor without breaking the bank. note: the pods are 12 grams so they will not fit the standard senseo pod holder. you will have to use the extended holder to accomodate this pod. if you like strong coffee, this is the pod for you.\n",
            "Original summary: great cup of coffee\n",
            "Predicted summary:  not for me \n",
            "{'rouge-1': {'f': 0.0, 'p': 0.0, 'r': 0.0}, 'rouge-2': {'f': 0.0, 'p': 0.0, 'r': 0.0}, 'rouge-l': {'f': 0.0, 'p': 0.0, 'r': 0.0}}\n",
            "\n",
            "\n",
            "Review: i bought this grudgingly because my favorite timothy's italian blend was out of stock...... and i was very happily surprised! it's not as \"big\" and winey a brew as my favorite, but was flavorful, had a delicious aroma and was smooth. i tend to like rather potent coffee but i have clients who prefer a little lighter cup..... this will be perfect! i will happily keep buying this coffee. thanks wolfgang!\n",
            "Original summary: nice mellow cup of coffee!\n",
            "Predicted summary:  great coffee ! \n",
            "{'rouge-1': {'f': 0.0, 'p': 0.0, 'r': 0.0}, 'rouge-2': {'f': 0.0, 'p': 0.0, 'r': 0.0}, 'rouge-l': {'f': 0.0, 'p': 0.0, 'r': 0.0}}\n",
            "\n",
            "\n",
            "Review: my dogs enjoy this high quality food. read about the ingredients, they are the best! no digestive problems, happy healthy dogs. a good price too.\n",
            "Original summary: hi-tek naturals\n",
            "Predicted summary:  great product \n",
            "{'rouge-1': {'f': 0.0, 'p': 0.0, 'r': 0.0}, 'rouge-2': {'f': 0.0, 'p': 0.0, 'r': 0.0}, 'rouge-l': {'f': 0.0, 'p': 0.0, 'r': 0.0}}\n",
            "\n",
            "\n",
            "Review: we are big pepperoni fans in my house but can't eat that much of the unhealthy real stuff. this is the closest to real pepperoni that i could find and i've tried them all. (even boars head turkey pepperoni can't compare) i have had this coming in through subscribe and save as long as i can remember. great on salads. even better heated.\n",
            "Original summary: ive' bought hundreds\n",
            "Predicted summary:  great product \n",
            "{'rouge-1': {'f': 0.0, 'p': 0.0, 'r': 0.0}, 'rouge-2': {'f': 0.0, 'p': 0.0, 'r': 0.0}, 'rouge-l': {'f': 0.0, 'p': 0.0, 'r': 0.0}}\n",
            "\n",
            "\n",
            "Review: i am very happy with this coffee! it works great in my keurig and the flavor is awesome! i can brew an extra large cup without losing flavor and the price is right. i subscribe to automatic deliveries and i normally avoid doing that.\n",
            "Original summary: great value and flavor\n",
            "Predicted summary:  great coffee \n",
            "{'rouge-1': {'f': 0.33333332888888895, 'p': 0.5, 'r': 0.25}, 'rouge-2': {'f': 0.0, 'p': 0.0, 'r': 0.0}, 'rouge-l': {'f': 0.27777777777785184, 'p': 0.5, 'r': 0.25}}\n",
            "\n",
            "\n",
            "Review: the delivery was extremely quick, the packaging was fine, and if you suck off all the honey, the almonds even taste pretty good. but i for one do not like this flavor. mind you, i could eat 3095826 honey roasted peanuts.\n",
            "Original summary: not my favorite\n",
            "Predicted summary:  not what i expected \n",
            "{'rouge-1': {'f': 0.2857142808163266, 'p': 0.25, 'r': 0.3333333333333333}, 'rouge-2': {'f': 0.0, 'p': 0.0, 'r': 0.0}, 'rouge-l': {'f': 0.2747252747245908, 'p': 0.25, 'r': 0.3333333333333333}}\n",
            "\n",
            "\n",
            "Review: i bought it for my son who is 2 years 10 months old.<br />he does not like it and is happy with the fish crackers which tastes better than this one.\n",
            "Original summary: my son does not like it\n",
            "Predicted summary:  great product \n",
            "{'rouge-1': {'f': 0.0, 'p': 0.0, 'r': 0.0}, 'rouge-2': {'f': 0.0, 'p': 0.0, 'r': 0.0}, 'rouge-l': {'f': 0.0, 'p': 0.0, 'r': 0.0}}\n",
            "\n",
            "\n",
            "Review: this rich complex cherry balsamic is absolutely heavenly. had it last night lightly drizzled over some nice mozarella. perfect when you want that extra special accent of flavor.\n",
            "Original summary: yum\n",
            "Predicted summary:  delicious ! \n",
            "{'rouge-1': {'f': 0.0, 'p': 0.0, 'r': 0.0}, 'rouge-2': {'f': 0.0, 'p': 0.0, 'r': 0.0}, 'rouge-l': {'f': 0.0, 'p': 0.0, 'r': 0.0}}\n",
            "\n",
            "\n",
            "Review: great stuff tastes great and has given me back a favorite treat i lost when i became a diabetic!/lots of peanuts!\n",
            "Original summary: great stuff!\n",
            "Predicted summary:  great product \n",
            "{'rouge-1': {'f': 0.4999999950000001, 'p': 0.5, 'r': 0.5}, 'rouge-2': {'f': 0.0, 'p': 0.0, 'r': 0.0}, 'rouge-l': {'f': 0.4999999999995, 'p': 0.5, 'r': 0.5}}\n",
            "\n",
            "\n",
            "Review: i tend to like simple granolas, and this one is quite good. it is mostly oats, with sweet, crunchy maple/nut clusters mixed in throughout the bag. i eat this in the morning with yogurt or milk, or just eat it by itself as a snack. it comes in a re-sealable bag -- the granola stays fresh for a long time after opened. this is also available at my local grocery, but less expensive at amazon. two thumbs up!\n",
            "Original summary: tasty, simple granola\n",
            "Predicted summary:  great product \n",
            "{'rouge-1': {'f': 0.0, 'p': 0.0, 'r': 0.0}, 'rouge-2': {'f': 0.0, 'p': 0.0, 'r': 0.0}, 'rouge-l': {'f': 0.0, 'p': 0.0, 'r': 0.0}}\n",
            "\n",
            "\n",
            "Review: one of my favorite types of k-cups. very good in the morning or as an \"after dinner\" coffee. there is a subtle chocolate flavor, but this coffee is not bitter like most flavored coffees usually are.\n",
            "Original summary: very rich flavor\n",
            "Predicted summary:  great coffee \n",
            "{'rouge-1': {'f': 0.0, 'p': 0.0, 'r': 0.0}, 'rouge-2': {'f': 0.0, 'p': 0.0, 'r': 0.0}, 'rouge-l': {'f': 0.0, 'p': 0.0, 'r': 0.0}}\n",
            "\n",
            "\n",
            "Review: this is the best soda that i've ever had. we tried this first at foga de chao and loved it. unfortunately no one around here sells it (des moines). when it's available online usually it's about 2.50 a can so this is reserved for special occaisions. the taste is something like ginger ale but more exotic. over ice with an orange wedge it's outstanding.\n",
            "Original summary: great refreshing soft drink\n",
            "Predicted summary:  great taste \n",
            "{'rouge-1': {'f': 0.33333332888888895, 'p': 0.5, 'r': 0.25}, 'rouge-2': {'f': 0.0, 'p': 0.0, 'r': 0.0}, 'rouge-l': {'f': 0.27777777777785184, 'p': 0.5, 'r': 0.25}}\n",
            "\n",
            "\n",
            "Review: one of my favorite brands of ramen. to make it a little better for you most people dont use the entire seasoning packet to cut back on the sodium. noodles are substantially better than ramuchan and top ramen, but you must add other items such as onions, maybe some meet and an egg to truly make this a satisfying meal.\n",
            "Original summary: great ramen\n",
            "Predicted summary:  great product \n",
            "{'rouge-1': {'f': 0.4999999950000001, 'p': 0.5, 'r': 0.5}, 'rouge-2': {'f': 0.0, 'p': 0.0, 'r': 0.0}, 'rouge-l': {'f': 0.4999999999995, 'p': 0.5, 'r': 0.5}}\n",
            "\n",
            "\n",
            "Review: i am very happy with this popcorn! the kernels are smaller than regular popcorn but they pop up nice and fluffy and just as big as the regular, so it actually goes farther and you can use less. plus it's great to know that it's organic and not genetically modified!\n",
            "Original summary: great, healthy choice\n",
            "Predicted summary:  great popcorn \n",
            "{'rouge-1': {'f': 0.0, 'p': 0.0, 'r': 0.0}, 'rouge-2': {'f': 0.0, 'p': 0.0, 'r': 0.0}, 'rouge-l': {'f': 0.0, 'p': 0.0, 'r': 0.0}}\n",
            "\n",
            "\n",
            "Review: my catahoula suffered from grain allergies, and this food has cleared his wheezing and coughing as well as his (and my other large dogs) gas issues. all three of my four legged babies love the food.\n",
            "Original summary: excellent dog food!\n",
            "Predicted summary:  great product \n",
            "{'rouge-1': {'f': 0.0, 'p': 0.0, 'r': 0.0}, 'rouge-2': {'f': 0.0, 'p': 0.0, 'r': 0.0}, 'rouge-l': {'f': 0.0, 'p': 0.0, 'r': 0.0}}\n",
            "\n",
            "\n",
            "Review: i have a german shepherd who will not eat anything, but i just watched her eat two bowls of food after mixing in the 5 1/2 ounce can of canidae. i'm so happy i bought this! i've been purchasing the extremely expensive newman's organic/ wellness formula wet foods, and even those she hasn't liked. hopefully she'll continue to like the canidae and put some meat on her skinny self. plus, this brand is cheaper while still containing quality ingredients!\n",
            "Original summary: perfect for a picky german shepherd\n",
            "Predicted summary:  great for chew ers \n",
            "{'rouge-1': {'f': 0.1999999952000001, 'p': 0.25, 'r': 0.16666666666666666}, 'rouge-2': {'f': 0.0, 'p': 0.0, 'r': 0.0}, 'rouge-l': {'f': 0.18571428571420734, 'p': 0.25, 'r': 0.16666666666666666}}\n",
            "\n",
            "\n",
            "Review: for licorice lovers only. intense licorice flavor and is naturally sweet, so needs no sugar or honey. drinking a cup is like eating licorice for dessert, without the calories.\n",
            "Original summary: tastes like dessert\n",
            "Predicted summary:  best ever \n",
            "{'rouge-1': {'f': 0.0, 'p': 0.0, 'r': 0.0}, 'rouge-2': {'f': 0.0, 'p': 0.0, 'r': 0.0}, 'rouge-l': {'f': 0.0, 'p': 0.0, 'r': 0.0}}\n",
            "\n",
            "\n",
            "Review: this is very good dog food and has excellent ingredients. all natural and no corn. very reasonably priced, great value. dog seems to like it, he eats it up.\n",
            "Original summary: good dog food, good ingredients\n",
            "Predicted summary:  dog food \n",
            "{'rouge-1': {'f': 0.33333332888888895, 'p': 0.5, 'r': 0.25}, 'rouge-2': {'f': 0.0, 'p': 0.0, 'r': 0.0}, 'rouge-l': {'f': 0.27777777777785184, 'p': 0.5, 'r': 0.25}}\n",
            "\n",
            "\n",
            "Review: the higgins & burke green tea is very nice flavorful tea. it's more of a blend than a green tea. ingredients: premium sencha green tea, lemon grass, lemon balm herb, and verbena leaves. if you want a more traditional green tea, i'd try something different. if you want a nice blend that is based on green tea, you'll probably enjoy the higgins & burke.\n",
            "Original summary: a nice blend\n",
            "Predicted summary:  not what i expected \n",
            "{'rouge-1': {'f': 0.0, 'p': 0.0, 'r': 0.0}, 'rouge-2': {'f': 0.0, 'p': 0.0, 'r': 0.0}, 'rouge-l': {'f': 0.0, 'p': 0.0, 'r': 0.0}}\n",
            "\n",
            "\n",
            "Review: i bought this for a gift for a fruit cake lover. it has a lot of fruit and soaked well in alcohol. it apparently is not a fruit cake with a lot of cake.\n",
            "Original summary: it's all gone\n",
            "Predicted summary:  good product \n",
            "{'rouge-1': {'f': 0.0, 'p': 0.0, 'r': 0.0}, 'rouge-2': {'f': 0.0, 'p': 0.0, 'r': 0.0}, 'rouge-l': {'f': 0.0, 'p': 0.0, 'r': 0.0}}\n",
            "\n",
            "\n",
            "Review: i love this brand and type of mango. sweet and chewy. you do have to be careful as they sell different varieties on the site. compared to what can be paid in the store its like getting 3 free.\n",
            "Original summary: love these\n",
            "Predicted summary:  great product \n",
            "{'rouge-1': {'f': 0.0, 'p': 0.0, 'r': 0.0}, 'rouge-2': {'f': 0.0, 'p': 0.0, 'r': 0.0}, 'rouge-l': {'f': 0.0, 'p': 0.0, 'r': 0.0}}\n",
            "\n",
            "\n",
            "Review: this coffee has a bitter aftertaste to it and was very diluted on the 8 oz setting. not sure why this got so many good review but tastes like cheap coffee.\n",
            "Original summary: would not buy again\n",
            "Predicted summary:  good coffee \n",
            "{'rouge-1': {'f': 0.0, 'p': 0.0, 'r': 0.0}, 'rouge-2': {'f': 0.0, 'p': 0.0, 'r': 0.0}, 'rouge-l': {'f': 0.0, 'p': 0.0, 'r': 0.0}}\n",
            "\n",
            "\n",
            "Review: this was by far the best coffee cake i've ever had! i love my coffee and chocolate and it had the perfect amount of each flavor. it was still super moist when delivered and came packaged nicely. i would definitely recommend this to everyone! yum!\n",
            "Original summary: absolutely to die for!\n",
            "Predicted summary:  best coffee ever ! \n",
            "{'rouge-1': {'f': 0.0, 'p': 0.0, 'r': 0.0}, 'rouge-2': {'f': 0.0, 'p': 0.0, 'r': 0.0}, 'rouge-l': {'f': 0.0, 'p': 0.0, 'r': 0.0}}\n",
            "\n",
            "\n",
            "Review: good and enticing product with the added benefit of being low calorie. my dog loves them! the dogs at the dogpark love them too!\n",
            "Original summary: zukes\n",
            "Predicted summary:  great product \n",
            "{'rouge-1': {'f': 0.0, 'p': 0.0, 'r': 0.0}, 'rouge-2': {'f': 0.0, 'p': 0.0, 'r': 0.0}, 'rouge-l': {'f': 0.0, 'p': 0.0, 'r': 0.0}}\n",
            "\n",
            "\n",
            "Review: can't get it in any grocery store nearby, so this is a lifesaver for me.\n",
            "Original summary: goooood.\n",
            "Predicted summary:  great product \n",
            "{'rouge-1': {'f': 0.0, 'p': 0.0, 'r': 0.0}, 'rouge-2': {'f': 0.0, 'p': 0.0, 'r': 0.0}, 'rouge-l': {'f': 0.0, 'p': 0.0, 'r': 0.0}}\n",
            "\n",
            "\n",
            "Review: my fav is french roast but got this flavor is a friends fav, i mix with the semi sweet chocolate syrup and poor over ice then add up to 1 cup of milk for an iced mocha...... delicious!!\n",
            "Original summary: making iced mochas\n",
            "Predicted summary:  great coffee ! \n",
            "{'rouge-1': {'f': 0.0, 'p': 0.0, 'r': 0.0}, 'rouge-2': {'f': 0.0, 'p': 0.0, 'r': 0.0}, 'rouge-l': {'f': 0.0, 'p': 0.0, 'r': 0.0}}\n",
            "\n",
            "\n",
            "Review: i stumbled on the multigrain chips at the little store where i work. i love them and buy them by the box from amazon now! the ingredients are all words you would expect and no long chemical names you can't pronounce. the sweet potato is very good too, but i did not like the olive flavor.\n",
            "Original summary: the best chips ever!\n",
            "Predicted summary:  great chips \n",
            "{'rouge-1': {'f': 0.33333332888888895, 'p': 0.5, 'r': 0.25}, 'rouge-2': {'f': 0.0, 'p': 0.0, 'r': 0.0}, 'rouge-l': {'f': 0.27777777777785184, 'p': 0.5, 'r': 0.25}}\n",
            "\n",
            "\n",
            "Review: i was so happy to find this at a good price at walmart! i love bakery on the main granola. i mix it with healthy popcorn and it is fantastic!\n",
            "Original summary: great product\n",
            "Predicted summary:  great product \n",
            "{'rouge-1': {'f': 0.999999995, 'p': 1.0, 'r': 1.0}, 'rouge-2': {'f': 0.999999995, 'p': 1.0, 'r': 1.0}, 'rouge-l': {'f': 0.9999999999995, 'p': 1.0, 'r': 1.0}}\n",
            "\n",
            "\n",
            "Review: this was a great deal online. my son loves fig newtons. i bought two boxes a while ago and they're perfect for breakfast, on the run, and for running errands. i throw the pack in my purse, keep some in the car, and in my sons bag.\n",
            "Original summary: great buy.\n",
            "Predicted summary:  great product \n",
            "{'rouge-1': {'f': 0.4999999950000001, 'p': 0.5, 'r': 0.5}, 'rouge-2': {'f': 0.0, 'p': 0.0, 'r': 0.0}, 'rouge-l': {'f': 0.4999999999995, 'p': 0.5, 'r': 0.5}}\n",
            "\n",
            "\n",
            "Review: cream of rice was lumpy and it doesn't come in instant form.cream of whet in instant form is smooth and comes in instant.hated it waste of money..it was too expensive to buy anyway.\n",
            "Original summary: rice\n",
            "Predicted summary:  good stuff \n",
            "{'rouge-1': {'f': 0.0, 'p': 0.0, 'r': 0.0}, 'rouge-2': {'f': 0.0, 'p': 0.0, 'r': 0.0}, 'rouge-l': {'f': 0.0, 'p': 0.0, 'r': 0.0}}\n",
            "\n",
            "\n",
            "Review: even though it says it's a medium roast, it's more mild and weak flavored. would definitely have to use more pods to get better flavor. my son also tried it and used 2 pods for a 16 oz to go cup. he agreed it was weak but also commented that it had an odd flavor note to it.\n",
            "Original summary: mild, weak\n",
            "Predicted summary:  not what i expected \n",
            "{'rouge-1': {'f': 0.0, 'p': 0.0, 'r': 0.0}, 'rouge-2': {'f': 0.0, 'p': 0.0, 'r': 0.0}, 'rouge-l': {'f': 0.0, 'p': 0.0, 'r': 0.0}}\n",
            "\n",
            "\n",
            "Review: these make a great 100 calorie snack to eat anytime. small packaging so you can put anywhere. overall, very good and would buy again.\n",
            "Original summary: great snack!\n",
            "Predicted summary:  great snack \n",
            "{'rouge-1': {'f': 0.4999999950000001, 'p': 0.5, 'r': 0.5}, 'rouge-2': {'f': 0.0, 'p': 0.0, 'r': 0.0}, 'rouge-l': {'f': 0.4999999999995, 'p': 0.5, 'r': 0.5}}\n",
            "\n",
            "\n",
            "Review: prompt delivery, got it sooner then promised. the coffee was great and you can smell the raspberry. love it one of my favorites wish they sold it year round.\n",
            "Original summary: sweet summer raspberry\n",
            "Predicted summary:  great coffee \n",
            "{'rouge-1': {'f': 0.0, 'p': 0.0, 'r': 0.0}, 'rouge-2': {'f': 0.0, 'p': 0.0, 'r': 0.0}, 'rouge-l': {'f': 0.0, 'p': 0.0, 'r': 0.0}}\n",
            "\n",
            "\n",
            "Review: i have used the \"now\"brand stevia for several years now but this improved version is just as good and it dissolves in liquids much easier than the old product. i use this as a sweetner in any drink that needs sugar.\n",
            "Original summary: stevia extract\n",
            "Predicted summary:  good stuff \n",
            "{'rouge-1': {'f': 0.0, 'p': 0.0, 'r': 0.0}, 'rouge-2': {'f': 0.0, 'p': 0.0, 'r': 0.0}, 'rouge-l': {'f': 0.0, 'p': 0.0, 'r': 0.0}}\n",
            "\n",
            "\n",
            "Review: this is my favorite tea of all time. i wish it was in all coffee shops and sold at local stores.\n",
            "Original summary: best tea in the world!\n",
            "Predicted summary:  great tea \n",
            "{'rouge-1': {'f': 0.2857142816326531, 'p': 0.5, 'r': 0.2}, 'rouge-2': {'f': 0.0, 'p': 0.0, 'r': 0.0}, 'rouge-l': {'f': 0.21804511278205893, 'p': 0.5, 'r': 0.2}}\n",
            "\n",
            "\n",
            "Review: i have tried this from influenster and its delish! i also purchased more of this because it became my son's favorite snack! love it too! :)\n",
            "Original summary: quaker soft baked oatmel cookie\n",
            "Predicted summary:  delicious ! \n",
            "{'rouge-1': {'f': 0.0, 'p': 0.0, 'r': 0.0}, 'rouge-2': {'f': 0.0, 'p': 0.0, 'r': 0.0}, 'rouge-l': {'f': 0.0, 'p': 0.0, 'r': 0.0}}\n",
            "\n",
            "\n"
          ],
          "name": "stdout"
        }
      ]
    },
    {
      "cell_type": "code",
      "metadata": {
        "id": "6qJRe38zqRDo",
        "colab_type": "code",
        "outputId": "905a8ba4-c270-400c-a0df-0137370d0f8b",
        "colab": {
          "base_uri": "https://localhost:8080/",
          "height": 34
        }
      },
      "source": [
        "%tensorboard --logdir logs\n",
        "#click \"Graphs\" on the menu bar and take a look those generated grpahs"
      ],
      "execution_count": 50,
      "outputs": [
        {
          "output_type": "stream",
          "text": [
            "UsageError: Line magic function `%tensorboard` not found.\n"
          ],
          "name": "stderr"
        }
      ]
    },
    {
      "cell_type": "code",
      "metadata": {
        "id": "_JxzOvnEs_sJ",
        "colab_type": "code",
        "colab": {}
      },
      "source": [
        "\n",
        "![This image is just show effect of tensorboard.](https://drive.google.com/file/d/1ak1cPo4oTgbYKMOkz0JxBw1QwQ9bJNIf/view?usp=sharing)"
      ],
      "execution_count": 0,
      "outputs": []
    }
  ]
}